{
 "cells": [
  {
   "cell_type": "markdown",
   "metadata": {},
   "source": [
    "## Importing Libraries"
   ]
  },
  {
   "cell_type": "code",
   "execution_count": 18,
   "metadata": {},
   "outputs": [],
   "source": [
    "import pandas as pd\n",
    "import numpy as np\n",
    "import seaborn as sns\n",
    "import matplotlib.pyplot as plt\n",
    "import plotly.express as px\n",
    "import warnings\n",
    "warnings.filterwarnings(\"ignore\")\n"
   ]
  },
  {
   "cell_type": "markdown",
   "metadata": {},
   "source": [
    "## Importing Dataset"
   ]
  },
  {
   "cell_type": "code",
   "execution_count": 35,
   "metadata": {},
   "outputs": [
    {
     "data": {
      "text/html": [
       "<div>\n",
       "<style scoped>\n",
       "    .dataframe tbody tr th:only-of-type {\n",
       "        vertical-align: middle;\n",
       "    }\n",
       "\n",
       "    .dataframe tbody tr th {\n",
       "        vertical-align: top;\n",
       "    }\n",
       "\n",
       "    .dataframe thead th {\n",
       "        text-align: right;\n",
       "    }\n",
       "</style>\n",
       "<table border=\"1\" class=\"dataframe\">\n",
       "  <thead>\n",
       "    <tr style=\"text-align: right;\">\n",
       "      <th></th>\n",
       "      <th>#</th>\n",
       "      <th>Team</th>\n",
       "      <th>M.</th>\n",
       "      <th>W</th>\n",
       "      <th>D</th>\n",
       "      <th>L</th>\n",
       "      <th>goals</th>\n",
       "      <th>Dif</th>\n",
       "      <th>Pt.</th>\n",
       "    </tr>\n",
       "  </thead>\n",
       "  <tbody>\n",
       "    <tr>\n",
       "      <th>0</th>\n",
       "      <td>1.0</td>\n",
       "      <td>Real Madrid</td>\n",
       "      <td>486</td>\n",
       "      <td>291</td>\n",
       "      <td>85</td>\n",
       "      <td>110</td>\n",
       "      <td>1076:55:00</td>\n",
       "      <td>533</td>\n",
       "      <td>533</td>\n",
       "    </tr>\n",
       "    <tr>\n",
       "      <th>1</th>\n",
       "      <td>2.0</td>\n",
       "      <td>Bayern Munich</td>\n",
       "      <td>388</td>\n",
       "      <td>231</td>\n",
       "      <td>78</td>\n",
       "      <td>79</td>\n",
       "      <td>817:24:00</td>\n",
       "      <td>427</td>\n",
       "      <td>427</td>\n",
       "    </tr>\n",
       "    <tr>\n",
       "      <th>2</th>\n",
       "      <td>3.0</td>\n",
       "      <td>FC Barcelona</td>\n",
       "      <td>341</td>\n",
       "      <td>196</td>\n",
       "      <td>77</td>\n",
       "      <td>68</td>\n",
       "      <td>675:51:00</td>\n",
       "      <td>319</td>\n",
       "      <td>319</td>\n",
       "    </tr>\n",
       "    <tr>\n",
       "      <th>3</th>\n",
       "      <td>4.0</td>\n",
       "      <td>Manchester United</td>\n",
       "      <td>289</td>\n",
       "      <td>153</td>\n",
       "      <td>69</td>\n",
       "      <td>67</td>\n",
       "      <td>524:56:00</td>\n",
       "      <td>224</td>\n",
       "      <td>224</td>\n",
       "    </tr>\n",
       "    <tr>\n",
       "      <th>4</th>\n",
       "      <td>5.0</td>\n",
       "      <td>Juventus</td>\n",
       "      <td>297</td>\n",
       "      <td>151</td>\n",
       "      <td>68</td>\n",
       "      <td>78</td>\n",
       "      <td>472:57:00</td>\n",
       "      <td>171</td>\n",
       "      <td>171</td>\n",
       "    </tr>\n",
       "  </tbody>\n",
       "</table>\n",
       "</div>"
      ],
      "text/plain": [
       "     #               Team   M.    W   D    L       goals  Dif  Pt.\n",
       "0  1.0        Real Madrid  486  291  85  110  1076:55:00  533  533\n",
       "1  2.0      Bayern Munich  388  231  78   79   817:24:00  427  427\n",
       "2  3.0       FC Barcelona  341  196  77   68   675:51:00  319  319\n",
       "3  4.0  Manchester United  289  153  69   67   524:56:00  224  224\n",
       "4  5.0           Juventus  297  151  68   78   472:57:00  171  171"
      ]
     },
     "execution_count": 35,
     "metadata": {},
     "output_type": "execute_result"
    }
   ],
   "source": [
    "all_time = pd.read_csv('UCL_AllTime_Performance_Table.csv')\n",
    "all_time.head()"
   ]
  },
  {
   "cell_type": "code",
   "execution_count": 36,
   "metadata": {},
   "outputs": [
    {
     "data": {
      "text/html": [
       "<div>\n",
       "<style scoped>\n",
       "    .dataframe tbody tr th:only-of-type {\n",
       "        vertical-align: middle;\n",
       "    }\n",
       "\n",
       "    .dataframe tbody tr th {\n",
       "        vertical-align: top;\n",
       "    }\n",
       "\n",
       "    .dataframe thead th {\n",
       "        text-align: right;\n",
       "    }\n",
       "</style>\n",
       "<table border=\"1\" class=\"dataframe\">\n",
       "  <thead>\n",
       "    <tr style=\"text-align: right;\">\n",
       "      <th></th>\n",
       "      <th>Season</th>\n",
       "      <th>Country</th>\n",
       "      <th>Winners</th>\n",
       "      <th>Score</th>\n",
       "      <th>Runners-up</th>\n",
       "      <th>Country.1</th>\n",
       "      <th>Venue</th>\n",
       "      <th>Attend­ance</th>\n",
       "      <th>Notes</th>\n",
       "    </tr>\n",
       "  </thead>\n",
       "  <tbody>\n",
       "    <tr>\n",
       "      <th>0</th>\n",
       "      <td>1955–56</td>\n",
       "      <td>Spain</td>\n",
       "      <td>Real Madrid</td>\n",
       "      <td>4–3</td>\n",
       "      <td>Reims</td>\n",
       "      <td>France</td>\n",
       "      <td>Parc des Princes, Paris, France</td>\n",
       "      <td>38,239</td>\n",
       "      <td>NaN</td>\n",
       "    </tr>\n",
       "    <tr>\n",
       "      <th>1</th>\n",
       "      <td>1956–57</td>\n",
       "      <td>Spain</td>\n",
       "      <td>Real Madrid</td>\n",
       "      <td>2–0</td>\n",
       "      <td>Fiorentina</td>\n",
       "      <td>Italy</td>\n",
       "      <td>Santiago Bernabéu, Madrid, Spain</td>\n",
       "      <td>124,000</td>\n",
       "      <td>NaN</td>\n",
       "    </tr>\n",
       "    <tr>\n",
       "      <th>2</th>\n",
       "      <td>1957–58</td>\n",
       "      <td>Spain</td>\n",
       "      <td>Real Madrid</td>\n",
       "      <td>3–2</td>\n",
       "      <td>AC Milan</td>\n",
       "      <td>Italy</td>\n",
       "      <td>Heysel Stadium, Brussels, Belgium</td>\n",
       "      <td>67,000</td>\n",
       "      <td>Match was won during extra time</td>\n",
       "    </tr>\n",
       "    <tr>\n",
       "      <th>3</th>\n",
       "      <td>1958–59</td>\n",
       "      <td>Spain</td>\n",
       "      <td>Real Madrid</td>\n",
       "      <td>2–0</td>\n",
       "      <td>Reims</td>\n",
       "      <td>France</td>\n",
       "      <td>Neckarstadion, Stuttgart, West Germany</td>\n",
       "      <td>72,000</td>\n",
       "      <td>NaN</td>\n",
       "    </tr>\n",
       "    <tr>\n",
       "      <th>4</th>\n",
       "      <td>1959–60</td>\n",
       "      <td>Spain</td>\n",
       "      <td>Real Madrid</td>\n",
       "      <td>7–3</td>\n",
       "      <td>Eintracht Frankfurt</td>\n",
       "      <td>West Germany</td>\n",
       "      <td>Hampden Park, Glasgow, Scotland</td>\n",
       "      <td>127,621</td>\n",
       "      <td>NaN</td>\n",
       "    </tr>\n",
       "  </tbody>\n",
       "</table>\n",
       "</div>"
      ],
      "text/plain": [
       "    Season Country      Winners Score           Runners-up     Country.1  \\\n",
       "0  1955–56   Spain  Real Madrid   4–3                Reims        France   \n",
       "1  1956–57   Spain  Real Madrid   2–0           Fiorentina         Italy   \n",
       "2  1957–58   Spain  Real Madrid   3–2             AC Milan         Italy   \n",
       "3  1958–59   Spain  Real Madrid   2–0                Reims        France   \n",
       "4  1959–60   Spain  Real Madrid   7–3  Eintracht Frankfurt  West Germany   \n",
       "\n",
       "                                    Venue Attend­ance  \\\n",
       "0         Parc des Princes, Paris, France      38,239   \n",
       "1        Santiago Bernabéu, Madrid, Spain     124,000   \n",
       "2       Heysel Stadium, Brussels, Belgium      67,000   \n",
       "3  Neckarstadion, Stuttgart, West Germany      72,000   \n",
       "4         Hampden Park, Glasgow, Scotland     127,621   \n",
       "\n",
       "                             Notes  \n",
       "0                              NaN  \n",
       "1                              NaN  \n",
       "2  Match was won during extra time  \n",
       "3                              NaN  \n",
       "4                              NaN  "
      ]
     },
     "execution_count": 36,
     "metadata": {},
     "output_type": "execute_result"
    }
   ],
   "source": [
    "finals = pd.read_csv('UCL_Finals_1955-2023.csv')\n",
    "finals.head()"
   ]
  },
  {
   "cell_type": "markdown",
   "metadata": {},
   "source": [
    "## Data Cleaning"
   ]
  },
  {
   "cell_type": "code",
   "execution_count": 37,
   "metadata": {},
   "outputs": [
    {
     "name": "stdout",
     "output_type": "stream",
     "text": [
      "<class 'pandas.core.frame.DataFrame'>\n",
      "RangeIndex: 354 entries, 0 to 353\n",
      "Data columns (total 9 columns):\n",
      " #   Column  Non-Null Count  Dtype  \n",
      "---  ------  --------------  -----  \n",
      " 0   #       333 non-null    float64\n",
      " 1   Team    354 non-null    object \n",
      " 2   M.      354 non-null    int64  \n",
      " 3   W       354 non-null    int64  \n",
      " 4   D       354 non-null    int64  \n",
      " 5   L       354 non-null    int64  \n",
      " 6   goals   354 non-null    object \n",
      " 7   Dif     354 non-null    int64  \n",
      " 8   Pt.     354 non-null    int64  \n",
      "dtypes: float64(1), int64(6), object(2)\n",
      "memory usage: 25.0+ KB\n"
     ]
    }
   ],
   "source": [
    "all_time.info()"
   ]
  },
  {
   "cell_type": "code",
   "execution_count": 38,
   "metadata": {},
   "outputs": [
    {
     "name": "stdout",
     "output_type": "stream",
     "text": [
      "<class 'pandas.core.frame.DataFrame'>\n",
      "RangeIndex: 69 entries, 0 to 68\n",
      "Data columns (total 9 columns):\n",
      " #   Column       Non-Null Count  Dtype \n",
      "---  ------       --------------  ----- \n",
      " 0   Season       69 non-null     object\n",
      " 1   Country      69 non-null     object\n",
      " 2   Winners      69 non-null     object\n",
      " 3   Score        69 non-null     object\n",
      " 4   Runners-up   69 non-null     object\n",
      " 5   Country.1    69 non-null     object\n",
      " 6   Venue        69 non-null     object\n",
      " 7   Attend­ance  69 non-null     object\n",
      " 8   Notes        18 non-null     object\n",
      "dtypes: object(9)\n",
      "memory usage: 5.0+ KB\n"
     ]
    }
   ],
   "source": [
    "finals.info()"
   ]
  },
  {
   "cell_type": "code",
   "execution_count": 39,
   "metadata": {},
   "outputs": [],
   "source": [
    "## The \"#\",\"Notes\" Column seems to have some missing value and as its not an important Column , Dropping it \n",
    "\n",
    "all_time=all_time.drop(\"#\", axis=1)\n",
    "\n"
   ]
  },
  {
   "cell_type": "code",
   "execution_count": 40,
   "metadata": {},
   "outputs": [],
   "source": [
    "finals=finals.drop(\"Notes\", axis=1)"
   ]
  },
  {
   "cell_type": "code",
   "execution_count": 42,
   "metadata": {},
   "outputs": [
    {
     "data": {
      "text/plain": [
       "(354, 8)"
      ]
     },
     "execution_count": 42,
     "metadata": {},
     "output_type": "execute_result"
    }
   ],
   "source": [
    "all_time.shape"
   ]
  },
  {
   "cell_type": "code",
   "execution_count": 43,
   "metadata": {},
   "outputs": [
    {
     "data": {
      "text/plain": [
       "(69, 8)"
      ]
     },
     "execution_count": 43,
     "metadata": {},
     "output_type": "execute_result"
    }
   ],
   "source": [
    "finals.shape"
   ]
  },
  {
   "cell_type": "code",
   "execution_count": 49,
   "metadata": {},
   "outputs": [],
   "source": [
    "finals.columns = ['Season', 'Winner Country', 'Winners', 'Score', 'Runners-up', 'Runners-Up Country','Venue', 'Attendance']"
   ]
  },
  {
   "cell_type": "code",
   "execution_count": 50,
   "metadata": {},
   "outputs": [
    {
     "data": {
      "text/html": [
       "<div>\n",
       "<style scoped>\n",
       "    .dataframe tbody tr th:only-of-type {\n",
       "        vertical-align: middle;\n",
       "    }\n",
       "\n",
       "    .dataframe tbody tr th {\n",
       "        vertical-align: top;\n",
       "    }\n",
       "\n",
       "    .dataframe thead th {\n",
       "        text-align: right;\n",
       "    }\n",
       "</style>\n",
       "<table border=\"1\" class=\"dataframe\">\n",
       "  <thead>\n",
       "    <tr style=\"text-align: right;\">\n",
       "      <th></th>\n",
       "      <th>Season</th>\n",
       "      <th>Winner Country</th>\n",
       "      <th>Winners</th>\n",
       "      <th>Score</th>\n",
       "      <th>Runners-up</th>\n",
       "      <th>Runners-Up Country</th>\n",
       "      <th>Venue</th>\n",
       "      <th>Attendance</th>\n",
       "    </tr>\n",
       "  </thead>\n",
       "  <tbody>\n",
       "    <tr>\n",
       "      <th>0</th>\n",
       "      <td>1955–56</td>\n",
       "      <td>Spain</td>\n",
       "      <td>Real Madrid</td>\n",
       "      <td>4–3</td>\n",
       "      <td>Reims</td>\n",
       "      <td>France</td>\n",
       "      <td>Parc des Princes, Paris, France</td>\n",
       "      <td>38,239</td>\n",
       "    </tr>\n",
       "    <tr>\n",
       "      <th>1</th>\n",
       "      <td>1956–57</td>\n",
       "      <td>Spain</td>\n",
       "      <td>Real Madrid</td>\n",
       "      <td>2–0</td>\n",
       "      <td>Fiorentina</td>\n",
       "      <td>Italy</td>\n",
       "      <td>Santiago Bernabéu, Madrid, Spain</td>\n",
       "      <td>124,000</td>\n",
       "    </tr>\n",
       "    <tr>\n",
       "      <th>2</th>\n",
       "      <td>1957–58</td>\n",
       "      <td>Spain</td>\n",
       "      <td>Real Madrid</td>\n",
       "      <td>3–2</td>\n",
       "      <td>AC Milan</td>\n",
       "      <td>Italy</td>\n",
       "      <td>Heysel Stadium, Brussels, Belgium</td>\n",
       "      <td>67,000</td>\n",
       "    </tr>\n",
       "    <tr>\n",
       "      <th>3</th>\n",
       "      <td>1958–59</td>\n",
       "      <td>Spain</td>\n",
       "      <td>Real Madrid</td>\n",
       "      <td>2–0</td>\n",
       "      <td>Reims</td>\n",
       "      <td>France</td>\n",
       "      <td>Neckarstadion, Stuttgart, West Germany</td>\n",
       "      <td>72,000</td>\n",
       "    </tr>\n",
       "    <tr>\n",
       "      <th>4</th>\n",
       "      <td>1959–60</td>\n",
       "      <td>Spain</td>\n",
       "      <td>Real Madrid</td>\n",
       "      <td>7–3</td>\n",
       "      <td>Eintracht Frankfurt</td>\n",
       "      <td>West Germany</td>\n",
       "      <td>Hampden Park, Glasgow, Scotland</td>\n",
       "      <td>127,621</td>\n",
       "    </tr>\n",
       "  </tbody>\n",
       "</table>\n",
       "</div>"
      ],
      "text/plain": [
       "    Season Winner Country      Winners Score           Runners-up  \\\n",
       "0  1955–56          Spain  Real Madrid   4–3                Reims   \n",
       "1  1956–57          Spain  Real Madrid   2–0           Fiorentina   \n",
       "2  1957–58          Spain  Real Madrid   3–2             AC Milan   \n",
       "3  1958–59          Spain  Real Madrid   2–0                Reims   \n",
       "4  1959–60          Spain  Real Madrid   7–3  Eintracht Frankfurt   \n",
       "\n",
       "  Runners-Up Country                                   Venue Attendance  \n",
       "0             France         Parc des Princes, Paris, France     38,239  \n",
       "1              Italy        Santiago Bernabéu, Madrid, Spain    124,000  \n",
       "2              Italy       Heysel Stadium, Brussels, Belgium     67,000  \n",
       "3             France  Neckarstadion, Stuttgart, West Germany     72,000  \n",
       "4       West Germany         Hampden Park, Glasgow, Scotland    127,621  "
      ]
     },
     "execution_count": 50,
     "metadata": {},
     "output_type": "execute_result"
    }
   ],
   "source": [
    "finals.head()"
   ]
  },
  {
   "cell_type": "code",
   "execution_count": 51,
   "metadata": {},
   "outputs": [
    {
     "data": {
      "text/plain": [
       "Index(['Season', 'Winner Country', 'Winners', 'Score', 'Runners-up',\n",
       "       'Runners-Up Country', 'Venue', 'Attendance'],\n",
       "      dtype='object')"
      ]
     },
     "execution_count": 51,
     "metadata": {},
     "output_type": "execute_result"
    }
   ],
   "source": [
    "finals.columns"
   ]
  },
  {
   "cell_type": "code",
   "execution_count": 53,
   "metadata": {},
   "outputs": [],
   "source": [
    "finals['Attendance'] = finals['Attendance'].str.replace(',', '').astype(float)"
   ]
  },
  {
   "cell_type": "markdown",
   "metadata": {},
   "source": [
    "## EDA"
   ]
  },
  {
   "cell_type": "markdown",
   "metadata": {},
   "source": [
    "## 1.What are the win/loss ratios for each team?"
   ]
  },
  {
   "cell_type": "code",
   "execution_count": 54,
   "metadata": {},
   "outputs": [
    {
     "data": {
      "text/html": [
       "<div>\n",
       "<style scoped>\n",
       "    .dataframe tbody tr th:only-of-type {\n",
       "        vertical-align: middle;\n",
       "    }\n",
       "\n",
       "    .dataframe tbody tr th {\n",
       "        vertical-align: top;\n",
       "    }\n",
       "\n",
       "    .dataframe thead th {\n",
       "        text-align: right;\n",
       "    }\n",
       "</style>\n",
       "<table border=\"1\" class=\"dataframe\">\n",
       "  <thead>\n",
       "    <tr style=\"text-align: right;\">\n",
       "      <th></th>\n",
       "      <th>Team</th>\n",
       "      <th>M.</th>\n",
       "      <th>W</th>\n",
       "      <th>D</th>\n",
       "      <th>L</th>\n",
       "      <th>goals</th>\n",
       "      <th>Dif</th>\n",
       "      <th>Pt.</th>\n",
       "    </tr>\n",
       "  </thead>\n",
       "  <tbody>\n",
       "    <tr>\n",
       "      <th>0</th>\n",
       "      <td>Real Madrid</td>\n",
       "      <td>486</td>\n",
       "      <td>291</td>\n",
       "      <td>85</td>\n",
       "      <td>110</td>\n",
       "      <td>1076:55:00</td>\n",
       "      <td>533</td>\n",
       "      <td>533</td>\n",
       "    </tr>\n",
       "    <tr>\n",
       "      <th>1</th>\n",
       "      <td>Bayern Munich</td>\n",
       "      <td>388</td>\n",
       "      <td>231</td>\n",
       "      <td>78</td>\n",
       "      <td>79</td>\n",
       "      <td>817:24:00</td>\n",
       "      <td>427</td>\n",
       "      <td>427</td>\n",
       "    </tr>\n",
       "    <tr>\n",
       "      <th>2</th>\n",
       "      <td>FC Barcelona</td>\n",
       "      <td>341</td>\n",
       "      <td>196</td>\n",
       "      <td>77</td>\n",
       "      <td>68</td>\n",
       "      <td>675:51:00</td>\n",
       "      <td>319</td>\n",
       "      <td>319</td>\n",
       "    </tr>\n",
       "    <tr>\n",
       "      <th>3</th>\n",
       "      <td>Manchester United</td>\n",
       "      <td>289</td>\n",
       "      <td>153</td>\n",
       "      <td>69</td>\n",
       "      <td>67</td>\n",
       "      <td>524:56:00</td>\n",
       "      <td>224</td>\n",
       "      <td>224</td>\n",
       "    </tr>\n",
       "    <tr>\n",
       "      <th>4</th>\n",
       "      <td>Juventus</td>\n",
       "      <td>297</td>\n",
       "      <td>151</td>\n",
       "      <td>68</td>\n",
       "      <td>78</td>\n",
       "      <td>472:57:00</td>\n",
       "      <td>171</td>\n",
       "      <td>171</td>\n",
       "    </tr>\n",
       "  </tbody>\n",
       "</table>\n",
       "</div>"
      ],
      "text/plain": [
       "                Team   M.    W   D    L       goals  Dif  Pt.\n",
       "0        Real Madrid  486  291  85  110  1076:55:00  533  533\n",
       "1      Bayern Munich  388  231  78   79   817:24:00  427  427\n",
       "2       FC Barcelona  341  196  77   68   675:51:00  319  319\n",
       "3  Manchester United  289  153  69   67   524:56:00  224  224\n",
       "4           Juventus  297  151  68   78   472:57:00  171  171"
      ]
     },
     "execution_count": 54,
     "metadata": {},
     "output_type": "execute_result"
    }
   ],
   "source": [
    "all_time.head()"
   ]
  },
  {
   "cell_type": "code",
   "execution_count": 121,
   "metadata": {},
   "outputs": [
    {
     "data": {
      "text/html": [
       "<div>\n",
       "<style scoped>\n",
       "    .dataframe tbody tr th:only-of-type {\n",
       "        vertical-align: middle;\n",
       "    }\n",
       "\n",
       "    .dataframe tbody tr th {\n",
       "        vertical-align: top;\n",
       "    }\n",
       "\n",
       "    .dataframe thead th {\n",
       "        text-align: right;\n",
       "    }\n",
       "</style>\n",
       "<table border=\"1\" class=\"dataframe\">\n",
       "  <thead>\n",
       "    <tr style=\"text-align: right;\">\n",
       "      <th></th>\n",
       "      <th>M.</th>\n",
       "      <th>W</th>\n",
       "      <th>D</th>\n",
       "      <th>L</th>\n",
       "      <th>Dif</th>\n",
       "      <th>Pt.</th>\n",
       "      <th>win_ratio</th>\n",
       "      <th>loss_ratio</th>\n",
       "    </tr>\n",
       "  </thead>\n",
       "  <tbody>\n",
       "    <tr>\n",
       "      <th>count</th>\n",
       "      <td>354.000000</td>\n",
       "      <td>354.000000</td>\n",
       "      <td>354.000000</td>\n",
       "      <td>354.000000</td>\n",
       "      <td>354.000000</td>\n",
       "      <td>354.000000</td>\n",
       "      <td>354.000000</td>\n",
       "      <td>354.000000</td>\n",
       "    </tr>\n",
       "    <tr>\n",
       "      <th>mean</th>\n",
       "      <td>33.254237</td>\n",
       "      <td>13.039548</td>\n",
       "      <td>7.169492</td>\n",
       "      <td>13.039548</td>\n",
       "      <td>0.000000</td>\n",
       "      <td>0.000000</td>\n",
       "      <td>0.256943</td>\n",
       "      <td>0.549733</td>\n",
       "    </tr>\n",
       "    <tr>\n",
       "      <th>std</th>\n",
       "      <td>61.581865</td>\n",
       "      <td>31.468472</td>\n",
       "      <td>13.729255</td>\n",
       "      <td>18.669137</td>\n",
       "      <td>52.566267</td>\n",
       "      <td>52.566267</td>\n",
       "      <td>0.197851</td>\n",
       "      <td>0.244494</td>\n",
       "    </tr>\n",
       "    <tr>\n",
       "      <th>min</th>\n",
       "      <td>2.000000</td>\n",
       "      <td>0.000000</td>\n",
       "      <td>0.000000</td>\n",
       "      <td>0.000000</td>\n",
       "      <td>-97.000000</td>\n",
       "      <td>-97.000000</td>\n",
       "      <td>0.000000</td>\n",
       "      <td>0.000000</td>\n",
       "    </tr>\n",
       "    <tr>\n",
       "      <th>25%</th>\n",
       "      <td>4.000000</td>\n",
       "      <td>0.000000</td>\n",
       "      <td>0.000000</td>\n",
       "      <td>2.000000</td>\n",
       "      <td>-14.000000</td>\n",
       "      <td>-14.000000</td>\n",
       "      <td>0.000000</td>\n",
       "      <td>0.365921</td>\n",
       "    </tr>\n",
       "    <tr>\n",
       "      <th>50%</th>\n",
       "      <td>8.000000</td>\n",
       "      <td>2.000000</td>\n",
       "      <td>2.000000</td>\n",
       "      <td>5.000000</td>\n",
       "      <td>-5.000000</td>\n",
       "      <td>-5.000000</td>\n",
       "      <td>0.250000</td>\n",
       "      <td>0.500000</td>\n",
       "    </tr>\n",
       "    <tr>\n",
       "      <th>75%</th>\n",
       "      <td>31.500000</td>\n",
       "      <td>9.000000</td>\n",
       "      <td>6.000000</td>\n",
       "      <td>14.000000</td>\n",
       "      <td>0.000000</td>\n",
       "      <td>0.000000</td>\n",
       "      <td>0.413286</td>\n",
       "      <td>0.712798</td>\n",
       "    </tr>\n",
       "    <tr>\n",
       "      <th>max</th>\n",
       "      <td>486.000000</td>\n",
       "      <td>291.000000</td>\n",
       "      <td>85.000000</td>\n",
       "      <td>110.000000</td>\n",
       "      <td>533.000000</td>\n",
       "      <td>533.000000</td>\n",
       "      <td>0.833333</td>\n",
       "      <td>1.000000</td>\n",
       "    </tr>\n",
       "  </tbody>\n",
       "</table>\n",
       "</div>"
      ],
      "text/plain": [
       "               M.           W           D           L         Dif         Pt.  \\\n",
       "count  354.000000  354.000000  354.000000  354.000000  354.000000  354.000000   \n",
       "mean    33.254237   13.039548    7.169492   13.039548    0.000000    0.000000   \n",
       "std     61.581865   31.468472   13.729255   18.669137   52.566267   52.566267   \n",
       "min      2.000000    0.000000    0.000000    0.000000  -97.000000  -97.000000   \n",
       "25%      4.000000    0.000000    0.000000    2.000000  -14.000000  -14.000000   \n",
       "50%      8.000000    2.000000    2.000000    5.000000   -5.000000   -5.000000   \n",
       "75%     31.500000    9.000000    6.000000   14.000000    0.000000    0.000000   \n",
       "max    486.000000  291.000000   85.000000  110.000000  533.000000  533.000000   \n",
       "\n",
       "        win_ratio  loss_ratio  \n",
       "count  354.000000  354.000000  \n",
       "mean     0.256943    0.549733  \n",
       "std      0.197851    0.244494  \n",
       "min      0.000000    0.000000  \n",
       "25%      0.000000    0.365921  \n",
       "50%      0.250000    0.500000  \n",
       "75%      0.413286    0.712798  \n",
       "max      0.833333    1.000000  "
      ]
     },
     "execution_count": 121,
     "metadata": {},
     "output_type": "execute_result"
    }
   ],
   "source": [
    "all_time.describe()"
   ]
  },
  {
   "cell_type": "code",
   "execution_count": 125,
   "metadata": {},
   "outputs": [
    {
     "data": {
      "text/html": [
       "<div>\n",
       "<style scoped>\n",
       "    .dataframe tbody tr th:only-of-type {\n",
       "        vertical-align: middle;\n",
       "    }\n",
       "\n",
       "    .dataframe tbody tr th {\n",
       "        vertical-align: top;\n",
       "    }\n",
       "\n",
       "    .dataframe thead th {\n",
       "        text-align: right;\n",
       "    }\n",
       "</style>\n",
       "<table border=\"1\" class=\"dataframe\">\n",
       "  <thead>\n",
       "    <tr style=\"text-align: right;\">\n",
       "      <th></th>\n",
       "      <th>Team</th>\n",
       "      <th>M.</th>\n",
       "      <th>W</th>\n",
       "      <th>D</th>\n",
       "      <th>L</th>\n",
       "      <th>goals</th>\n",
       "      <th>Dif</th>\n",
       "      <th>Pt.</th>\n",
       "      <th>win_ratio</th>\n",
       "      <th>loss_ratio</th>\n",
       "    </tr>\n",
       "  </thead>\n",
       "  <tbody>\n",
       "    <tr>\n",
       "      <th>0</th>\n",
       "      <td>Real Madrid</td>\n",
       "      <td>486</td>\n",
       "      <td>291</td>\n",
       "      <td>85</td>\n",
       "      <td>110</td>\n",
       "      <td>1076:55:00</td>\n",
       "      <td>533</td>\n",
       "      <td>533</td>\n",
       "      <td>0.598765</td>\n",
       "      <td>0.226337</td>\n",
       "    </tr>\n",
       "    <tr>\n",
       "      <th>1</th>\n",
       "      <td>Bayern Munich</td>\n",
       "      <td>388</td>\n",
       "      <td>231</td>\n",
       "      <td>78</td>\n",
       "      <td>79</td>\n",
       "      <td>817:24:00</td>\n",
       "      <td>427</td>\n",
       "      <td>427</td>\n",
       "      <td>0.595361</td>\n",
       "      <td>0.203608</td>\n",
       "    </tr>\n",
       "    <tr>\n",
       "      <th>2</th>\n",
       "      <td>FC Barcelona</td>\n",
       "      <td>341</td>\n",
       "      <td>196</td>\n",
       "      <td>77</td>\n",
       "      <td>68</td>\n",
       "      <td>675:51:00</td>\n",
       "      <td>319</td>\n",
       "      <td>319</td>\n",
       "      <td>0.574780</td>\n",
       "      <td>0.199413</td>\n",
       "    </tr>\n",
       "    <tr>\n",
       "      <th>3</th>\n",
       "      <td>Manchester United</td>\n",
       "      <td>289</td>\n",
       "      <td>153</td>\n",
       "      <td>69</td>\n",
       "      <td>67</td>\n",
       "      <td>524:56:00</td>\n",
       "      <td>224</td>\n",
       "      <td>224</td>\n",
       "      <td>0.529412</td>\n",
       "      <td>0.231834</td>\n",
       "    </tr>\n",
       "    <tr>\n",
       "      <th>4</th>\n",
       "      <td>Juventus</td>\n",
       "      <td>297</td>\n",
       "      <td>151</td>\n",
       "      <td>68</td>\n",
       "      <td>78</td>\n",
       "      <td>472:57:00</td>\n",
       "      <td>171</td>\n",
       "      <td>171</td>\n",
       "      <td>0.508418</td>\n",
       "      <td>0.262626</td>\n",
       "    </tr>\n",
       "  </tbody>\n",
       "</table>\n",
       "</div>"
      ],
      "text/plain": [
       "                Team   M.    W   D    L       goals  Dif  Pt.  win_ratio  \\\n",
       "0        Real Madrid  486  291  85  110  1076:55:00  533  533   0.598765   \n",
       "1      Bayern Munich  388  231  78   79   817:24:00  427  427   0.595361   \n",
       "2       FC Barcelona  341  196  77   68   675:51:00  319  319   0.574780   \n",
       "3  Manchester United  289  153  69   67   524:56:00  224  224   0.529412   \n",
       "4           Juventus  297  151  68   78   472:57:00  171  171   0.508418   \n",
       "\n",
       "   loss_ratio  \n",
       "0    0.226337  \n",
       "1    0.203608  \n",
       "2    0.199413  \n",
       "3    0.231834  \n",
       "4    0.262626  "
      ]
     },
     "execution_count": 125,
     "metadata": {},
     "output_type": "execute_result"
    }
   ],
   "source": [
    "filtered_df = all_time[all_time['M.'] > 31.5]\n",
    "filtered_df.head()"
   ]
  },
  {
   "cell_type": "code",
   "execution_count": 140,
   "metadata": {},
   "outputs": [
    {
     "data": {
      "text/html": [
       "<div>\n",
       "<style scoped>\n",
       "    .dataframe tbody tr th:only-of-type {\n",
       "        vertical-align: middle;\n",
       "    }\n",
       "\n",
       "    .dataframe tbody tr th {\n",
       "        vertical-align: top;\n",
       "    }\n",
       "\n",
       "    .dataframe thead th {\n",
       "        text-align: right;\n",
       "    }\n",
       "</style>\n",
       "<table border=\"1\" class=\"dataframe\">\n",
       "  <thead>\n",
       "    <tr style=\"text-align: right;\">\n",
       "      <th></th>\n",
       "      <th>index</th>\n",
       "      <th>Team</th>\n",
       "      <th>win_loss_ratio</th>\n",
       "    </tr>\n",
       "  </thead>\n",
       "  <tbody>\n",
       "    <tr>\n",
       "      <th>0</th>\n",
       "      <td>1</td>\n",
       "      <td>Bayern Munich</td>\n",
       "      <td>2.924051</td>\n",
       "    </tr>\n",
       "    <tr>\n",
       "      <th>1</th>\n",
       "      <td>2</td>\n",
       "      <td>FC Barcelona</td>\n",
       "      <td>2.882353</td>\n",
       "    </tr>\n",
       "    <tr>\n",
       "      <th>2</th>\n",
       "      <td>0</td>\n",
       "      <td>Real Madrid</td>\n",
       "      <td>2.645455</td>\n",
       "    </tr>\n",
       "    <tr>\n",
       "      <th>3</th>\n",
       "      <td>16</td>\n",
       "      <td>Manchester City</td>\n",
       "      <td>2.482759</td>\n",
       "    </tr>\n",
       "    <tr>\n",
       "      <th>4</th>\n",
       "      <td>6</td>\n",
       "      <td>Liverpool FC</td>\n",
       "      <td>2.370370</td>\n",
       "    </tr>\n",
       "    <tr>\n",
       "      <th>5</th>\n",
       "      <td>9</td>\n",
       "      <td>Chelsea FC</td>\n",
       "      <td>2.295455</td>\n",
       "    </tr>\n",
       "    <tr>\n",
       "      <th>6</th>\n",
       "      <td>3</td>\n",
       "      <td>Manchester United</td>\n",
       "      <td>2.283582</td>\n",
       "    </tr>\n",
       "    <tr>\n",
       "      <th>7</th>\n",
       "      <td>62</td>\n",
       "      <td>ACF Fiorentina</td>\n",
       "      <td>2.000000</td>\n",
       "    </tr>\n",
       "    <tr>\n",
       "      <th>8</th>\n",
       "      <td>4</td>\n",
       "      <td>Juventus</td>\n",
       "      <td>1.935897</td>\n",
       "    </tr>\n",
       "    <tr>\n",
       "      <th>9</th>\n",
       "      <td>5</td>\n",
       "      <td>AC Milan</td>\n",
       "      <td>1.840580</td>\n",
       "    </tr>\n",
       "  </tbody>\n",
       "</table>\n",
       "</div>"
      ],
      "text/plain": [
       "   index               Team  win_loss_ratio\n",
       "0      1      Bayern Munich        2.924051\n",
       "1      2       FC Barcelona        2.882353\n",
       "2      0        Real Madrid        2.645455\n",
       "3     16    Manchester City        2.482759\n",
       "4      6       Liverpool FC        2.370370\n",
       "5      9         Chelsea FC        2.295455\n",
       "6      3  Manchester United        2.283582\n",
       "7     62     ACF Fiorentina        2.000000\n",
       "8      4           Juventus        1.935897\n",
       "9      5           AC Milan        1.840580"
      ]
     },
     "execution_count": 140,
     "metadata": {},
     "output_type": "execute_result"
    }
   ],
   "source": [
    "filtered_df[\"win_loss_ratio\"] = filtered_df[\"W\"] / all_time[\"L\"]\n",
    "#filtered_df[\"loss_ratio\"] = filtered_df[\"L\"] / all_time[\"M.\"]\n",
    "top_10 =filtered_df[[\"Team\", \"win_loss_ratio\"]].sort_values(by=\"win_loss_ratio\",ascending=False).head(10).reset_index()\n",
    "top_10"
   ]
  },
  {
   "cell_type": "code",
   "execution_count": 149,
   "metadata": {},
   "outputs": [
    {
     "data": {
      "application/vnd.plotly.v1+json": {
       "config": {
        "plotlyServerURL": "https://plot.ly"
       },
       "data": [
        {
         "alignmentgroup": "True",
         "hovertemplate": "Team=%{y}<br>Win/Lose Ratio=%{x}<extra></extra>",
         "legendgroup": "Bayern Munich",
         "marker": {
          "color": "rgb(228,26,28)",
          "pattern": {
           "shape": ""
          }
         },
         "name": "Bayern Munich",
         "offsetgroup": "Bayern Munich",
         "orientation": "h",
         "showlegend": true,
         "textposition": "auto",
         "type": "bar",
         "x": [
          2.9240506329113924
         ],
         "xaxis": "x",
         "y": [
          "Bayern Munich"
         ],
         "yaxis": "y"
        },
        {
         "alignmentgroup": "True",
         "hovertemplate": "Team=%{y}<br>Win/Lose Ratio=%{x}<extra></extra>",
         "legendgroup": "FC Barcelona",
         "marker": {
          "color": "rgb(55,126,184)",
          "pattern": {
           "shape": ""
          }
         },
         "name": "FC Barcelona",
         "offsetgroup": "FC Barcelona",
         "orientation": "h",
         "showlegend": true,
         "textposition": "auto",
         "type": "bar",
         "x": [
          2.8823529411764706
         ],
         "xaxis": "x",
         "y": [
          "FC Barcelona"
         ],
         "yaxis": "y"
        },
        {
         "alignmentgroup": "True",
         "hovertemplate": "Team=%{y}<br>Win/Lose Ratio=%{x}<extra></extra>",
         "legendgroup": "Real Madrid",
         "marker": {
          "color": "rgb(77,175,74)",
          "pattern": {
           "shape": ""
          }
         },
         "name": "Real Madrid",
         "offsetgroup": "Real Madrid",
         "orientation": "h",
         "showlegend": true,
         "textposition": "auto",
         "type": "bar",
         "x": [
          2.6454545454545455
         ],
         "xaxis": "x",
         "y": [
          "Real Madrid"
         ],
         "yaxis": "y"
        },
        {
         "alignmentgroup": "True",
         "hovertemplate": "Team=%{y}<br>Win/Lose Ratio=%{x}<extra></extra>",
         "legendgroup": "Manchester City",
         "marker": {
          "color": "rgb(152,78,163)",
          "pattern": {
           "shape": ""
          }
         },
         "name": "Manchester City",
         "offsetgroup": "Manchester City",
         "orientation": "h",
         "showlegend": true,
         "textposition": "auto",
         "type": "bar",
         "x": [
          2.4827586206896552
         ],
         "xaxis": "x",
         "y": [
          "Manchester City"
         ],
         "yaxis": "y"
        },
        {
         "alignmentgroup": "True",
         "hovertemplate": "Team=%{y}<br>Win/Lose Ratio=%{x}<extra></extra>",
         "legendgroup": "Liverpool FC",
         "marker": {
          "color": "rgb(255,127,0)",
          "pattern": {
           "shape": ""
          }
         },
         "name": "Liverpool FC",
         "offsetgroup": "Liverpool FC",
         "orientation": "h",
         "showlegend": true,
         "textposition": "auto",
         "type": "bar",
         "x": [
          2.3703703703703702
         ],
         "xaxis": "x",
         "y": [
          "Liverpool FC"
         ],
         "yaxis": "y"
        },
        {
         "alignmentgroup": "True",
         "hovertemplate": "Team=%{y}<br>Win/Lose Ratio=%{x}<extra></extra>",
         "legendgroup": "Chelsea FC",
         "marker": {
          "color": "rgb(255,255,51)",
          "pattern": {
           "shape": ""
          }
         },
         "name": "Chelsea FC",
         "offsetgroup": "Chelsea FC",
         "orientation": "h",
         "showlegend": true,
         "textposition": "auto",
         "type": "bar",
         "x": [
          2.2954545454545454
         ],
         "xaxis": "x",
         "y": [
          "Chelsea FC"
         ],
         "yaxis": "y"
        },
        {
         "alignmentgroup": "True",
         "hovertemplate": "Team=%{y}<br>Win/Lose Ratio=%{x}<extra></extra>",
         "legendgroup": "Manchester United",
         "marker": {
          "color": "rgb(166,86,40)",
          "pattern": {
           "shape": ""
          }
         },
         "name": "Manchester United",
         "offsetgroup": "Manchester United",
         "orientation": "h",
         "showlegend": true,
         "textposition": "auto",
         "type": "bar",
         "x": [
          2.283582089552239
         ],
         "xaxis": "x",
         "y": [
          "Manchester United"
         ],
         "yaxis": "y"
        },
        {
         "alignmentgroup": "True",
         "hovertemplate": "Team=%{y}<br>Win/Lose Ratio=%{x}<extra></extra>",
         "legendgroup": "ACF Fiorentina",
         "marker": {
          "color": "rgb(247,129,191)",
          "pattern": {
           "shape": ""
          }
         },
         "name": "ACF Fiorentina",
         "offsetgroup": "ACF Fiorentina",
         "orientation": "h",
         "showlegend": true,
         "textposition": "auto",
         "type": "bar",
         "x": [
          2
         ],
         "xaxis": "x",
         "y": [
          "ACF Fiorentina"
         ],
         "yaxis": "y"
        },
        {
         "alignmentgroup": "True",
         "hovertemplate": "Team=%{y}<br>Win/Lose Ratio=%{x}<extra></extra>",
         "legendgroup": "Juventus",
         "marker": {
          "color": "rgb(153,153,153)",
          "pattern": {
           "shape": ""
          }
         },
         "name": "Juventus",
         "offsetgroup": "Juventus",
         "orientation": "h",
         "showlegend": true,
         "textposition": "auto",
         "type": "bar",
         "x": [
          1.935897435897436
         ],
         "xaxis": "x",
         "y": [
          "Juventus"
         ],
         "yaxis": "y"
        },
        {
         "alignmentgroup": "True",
         "hovertemplate": "Team=%{y}<br>Win/Lose Ratio=%{x}<extra></extra>",
         "legendgroup": "AC Milan",
         "marker": {
          "color": "rgb(228,26,28)",
          "pattern": {
           "shape": ""
          }
         },
         "name": "AC Milan",
         "offsetgroup": "AC Milan",
         "orientation": "h",
         "showlegend": true,
         "textposition": "auto",
         "type": "bar",
         "x": [
          1.8405797101449275
         ],
         "xaxis": "x",
         "y": [
          "AC Milan"
         ],
         "yaxis": "y"
        }
       ],
       "layout": {
        "barmode": "relative",
        "legend": {
         "title": {
          "text": "Team"
         },
         "tracegroupgap": 0
        },
        "template": {
         "data": {
          "bar": [
           {
            "error_x": {
             "color": "#2a3f5f"
            },
            "error_y": {
             "color": "#2a3f5f"
            },
            "marker": {
             "line": {
              "color": "#E5ECF6",
              "width": 0.5
             },
             "pattern": {
              "fillmode": "overlay",
              "size": 10,
              "solidity": 0.2
             }
            },
            "type": "bar"
           }
          ],
          "barpolar": [
           {
            "marker": {
             "line": {
              "color": "#E5ECF6",
              "width": 0.5
             },
             "pattern": {
              "fillmode": "overlay",
              "size": 10,
              "solidity": 0.2
             }
            },
            "type": "barpolar"
           }
          ],
          "carpet": [
           {
            "aaxis": {
             "endlinecolor": "#2a3f5f",
             "gridcolor": "white",
             "linecolor": "white",
             "minorgridcolor": "white",
             "startlinecolor": "#2a3f5f"
            },
            "baxis": {
             "endlinecolor": "#2a3f5f",
             "gridcolor": "white",
             "linecolor": "white",
             "minorgridcolor": "white",
             "startlinecolor": "#2a3f5f"
            },
            "type": "carpet"
           }
          ],
          "choropleth": [
           {
            "colorbar": {
             "outlinewidth": 0,
             "ticks": ""
            },
            "type": "choropleth"
           }
          ],
          "contour": [
           {
            "colorbar": {
             "outlinewidth": 0,
             "ticks": ""
            },
            "colorscale": [
             [
              0,
              "#0d0887"
             ],
             [
              0.1111111111111111,
              "#46039f"
             ],
             [
              0.2222222222222222,
              "#7201a8"
             ],
             [
              0.3333333333333333,
              "#9c179e"
             ],
             [
              0.4444444444444444,
              "#bd3786"
             ],
             [
              0.5555555555555556,
              "#d8576b"
             ],
             [
              0.6666666666666666,
              "#ed7953"
             ],
             [
              0.7777777777777778,
              "#fb9f3a"
             ],
             [
              0.8888888888888888,
              "#fdca26"
             ],
             [
              1,
              "#f0f921"
             ]
            ],
            "type": "contour"
           }
          ],
          "contourcarpet": [
           {
            "colorbar": {
             "outlinewidth": 0,
             "ticks": ""
            },
            "type": "contourcarpet"
           }
          ],
          "heatmap": [
           {
            "colorbar": {
             "outlinewidth": 0,
             "ticks": ""
            },
            "colorscale": [
             [
              0,
              "#0d0887"
             ],
             [
              0.1111111111111111,
              "#46039f"
             ],
             [
              0.2222222222222222,
              "#7201a8"
             ],
             [
              0.3333333333333333,
              "#9c179e"
             ],
             [
              0.4444444444444444,
              "#bd3786"
             ],
             [
              0.5555555555555556,
              "#d8576b"
             ],
             [
              0.6666666666666666,
              "#ed7953"
             ],
             [
              0.7777777777777778,
              "#fb9f3a"
             ],
             [
              0.8888888888888888,
              "#fdca26"
             ],
             [
              1,
              "#f0f921"
             ]
            ],
            "type": "heatmap"
           }
          ],
          "heatmapgl": [
           {
            "colorbar": {
             "outlinewidth": 0,
             "ticks": ""
            },
            "colorscale": [
             [
              0,
              "#0d0887"
             ],
             [
              0.1111111111111111,
              "#46039f"
             ],
             [
              0.2222222222222222,
              "#7201a8"
             ],
             [
              0.3333333333333333,
              "#9c179e"
             ],
             [
              0.4444444444444444,
              "#bd3786"
             ],
             [
              0.5555555555555556,
              "#d8576b"
             ],
             [
              0.6666666666666666,
              "#ed7953"
             ],
             [
              0.7777777777777778,
              "#fb9f3a"
             ],
             [
              0.8888888888888888,
              "#fdca26"
             ],
             [
              1,
              "#f0f921"
             ]
            ],
            "type": "heatmapgl"
           }
          ],
          "histogram": [
           {
            "marker": {
             "pattern": {
              "fillmode": "overlay",
              "size": 10,
              "solidity": 0.2
             }
            },
            "type": "histogram"
           }
          ],
          "histogram2d": [
           {
            "colorbar": {
             "outlinewidth": 0,
             "ticks": ""
            },
            "colorscale": [
             [
              0,
              "#0d0887"
             ],
             [
              0.1111111111111111,
              "#46039f"
             ],
             [
              0.2222222222222222,
              "#7201a8"
             ],
             [
              0.3333333333333333,
              "#9c179e"
             ],
             [
              0.4444444444444444,
              "#bd3786"
             ],
             [
              0.5555555555555556,
              "#d8576b"
             ],
             [
              0.6666666666666666,
              "#ed7953"
             ],
             [
              0.7777777777777778,
              "#fb9f3a"
             ],
             [
              0.8888888888888888,
              "#fdca26"
             ],
             [
              1,
              "#f0f921"
             ]
            ],
            "type": "histogram2d"
           }
          ],
          "histogram2dcontour": [
           {
            "colorbar": {
             "outlinewidth": 0,
             "ticks": ""
            },
            "colorscale": [
             [
              0,
              "#0d0887"
             ],
             [
              0.1111111111111111,
              "#46039f"
             ],
             [
              0.2222222222222222,
              "#7201a8"
             ],
             [
              0.3333333333333333,
              "#9c179e"
             ],
             [
              0.4444444444444444,
              "#bd3786"
             ],
             [
              0.5555555555555556,
              "#d8576b"
             ],
             [
              0.6666666666666666,
              "#ed7953"
             ],
             [
              0.7777777777777778,
              "#fb9f3a"
             ],
             [
              0.8888888888888888,
              "#fdca26"
             ],
             [
              1,
              "#f0f921"
             ]
            ],
            "type": "histogram2dcontour"
           }
          ],
          "mesh3d": [
           {
            "colorbar": {
             "outlinewidth": 0,
             "ticks": ""
            },
            "type": "mesh3d"
           }
          ],
          "parcoords": [
           {
            "line": {
             "colorbar": {
              "outlinewidth": 0,
              "ticks": ""
             }
            },
            "type": "parcoords"
           }
          ],
          "pie": [
           {
            "automargin": true,
            "type": "pie"
           }
          ],
          "scatter": [
           {
            "fillpattern": {
             "fillmode": "overlay",
             "size": 10,
             "solidity": 0.2
            },
            "type": "scatter"
           }
          ],
          "scatter3d": [
           {
            "line": {
             "colorbar": {
              "outlinewidth": 0,
              "ticks": ""
             }
            },
            "marker": {
             "colorbar": {
              "outlinewidth": 0,
              "ticks": ""
             }
            },
            "type": "scatter3d"
           }
          ],
          "scattercarpet": [
           {
            "marker": {
             "colorbar": {
              "outlinewidth": 0,
              "ticks": ""
             }
            },
            "type": "scattercarpet"
           }
          ],
          "scattergeo": [
           {
            "marker": {
             "colorbar": {
              "outlinewidth": 0,
              "ticks": ""
             }
            },
            "type": "scattergeo"
           }
          ],
          "scattergl": [
           {
            "marker": {
             "colorbar": {
              "outlinewidth": 0,
              "ticks": ""
             }
            },
            "type": "scattergl"
           }
          ],
          "scattermapbox": [
           {
            "marker": {
             "colorbar": {
              "outlinewidth": 0,
              "ticks": ""
             }
            },
            "type": "scattermapbox"
           }
          ],
          "scatterpolar": [
           {
            "marker": {
             "colorbar": {
              "outlinewidth": 0,
              "ticks": ""
             }
            },
            "type": "scatterpolar"
           }
          ],
          "scatterpolargl": [
           {
            "marker": {
             "colorbar": {
              "outlinewidth": 0,
              "ticks": ""
             }
            },
            "type": "scatterpolargl"
           }
          ],
          "scatterternary": [
           {
            "marker": {
             "colorbar": {
              "outlinewidth": 0,
              "ticks": ""
             }
            },
            "type": "scatterternary"
           }
          ],
          "surface": [
           {
            "colorbar": {
             "outlinewidth": 0,
             "ticks": ""
            },
            "colorscale": [
             [
              0,
              "#0d0887"
             ],
             [
              0.1111111111111111,
              "#46039f"
             ],
             [
              0.2222222222222222,
              "#7201a8"
             ],
             [
              0.3333333333333333,
              "#9c179e"
             ],
             [
              0.4444444444444444,
              "#bd3786"
             ],
             [
              0.5555555555555556,
              "#d8576b"
             ],
             [
              0.6666666666666666,
              "#ed7953"
             ],
             [
              0.7777777777777778,
              "#fb9f3a"
             ],
             [
              0.8888888888888888,
              "#fdca26"
             ],
             [
              1,
              "#f0f921"
             ]
            ],
            "type": "surface"
           }
          ],
          "table": [
           {
            "cells": {
             "fill": {
              "color": "#EBF0F8"
             },
             "line": {
              "color": "white"
             }
            },
            "header": {
             "fill": {
              "color": "#C8D4E3"
             },
             "line": {
              "color": "white"
             }
            },
            "type": "table"
           }
          ]
         },
         "layout": {
          "annotationdefaults": {
           "arrowcolor": "#2a3f5f",
           "arrowhead": 0,
           "arrowwidth": 1
          },
          "autotypenumbers": "strict",
          "coloraxis": {
           "colorbar": {
            "outlinewidth": 0,
            "ticks": ""
           }
          },
          "colorscale": {
           "diverging": [
            [
             0,
             "#8e0152"
            ],
            [
             0.1,
             "#c51b7d"
            ],
            [
             0.2,
             "#de77ae"
            ],
            [
             0.3,
             "#f1b6da"
            ],
            [
             0.4,
             "#fde0ef"
            ],
            [
             0.5,
             "#f7f7f7"
            ],
            [
             0.6,
             "#e6f5d0"
            ],
            [
             0.7,
             "#b8e186"
            ],
            [
             0.8,
             "#7fbc41"
            ],
            [
             0.9,
             "#4d9221"
            ],
            [
             1,
             "#276419"
            ]
           ],
           "sequential": [
            [
             0,
             "#0d0887"
            ],
            [
             0.1111111111111111,
             "#46039f"
            ],
            [
             0.2222222222222222,
             "#7201a8"
            ],
            [
             0.3333333333333333,
             "#9c179e"
            ],
            [
             0.4444444444444444,
             "#bd3786"
            ],
            [
             0.5555555555555556,
             "#d8576b"
            ],
            [
             0.6666666666666666,
             "#ed7953"
            ],
            [
             0.7777777777777778,
             "#fb9f3a"
            ],
            [
             0.8888888888888888,
             "#fdca26"
            ],
            [
             1,
             "#f0f921"
            ]
           ],
           "sequentialminus": [
            [
             0,
             "#0d0887"
            ],
            [
             0.1111111111111111,
             "#46039f"
            ],
            [
             0.2222222222222222,
             "#7201a8"
            ],
            [
             0.3333333333333333,
             "#9c179e"
            ],
            [
             0.4444444444444444,
             "#bd3786"
            ],
            [
             0.5555555555555556,
             "#d8576b"
            ],
            [
             0.6666666666666666,
             "#ed7953"
            ],
            [
             0.7777777777777778,
             "#fb9f3a"
            ],
            [
             0.8888888888888888,
             "#fdca26"
            ],
            [
             1,
             "#f0f921"
            ]
           ]
          },
          "colorway": [
           "#636efa",
           "#EF553B",
           "#00cc96",
           "#ab63fa",
           "#FFA15A",
           "#19d3f3",
           "#FF6692",
           "#B6E880",
           "#FF97FF",
           "#FECB52"
          ],
          "font": {
           "color": "#2a3f5f"
          },
          "geo": {
           "bgcolor": "white",
           "lakecolor": "white",
           "landcolor": "#E5ECF6",
           "showlakes": true,
           "showland": true,
           "subunitcolor": "white"
          },
          "hoverlabel": {
           "align": "left"
          },
          "hovermode": "closest",
          "mapbox": {
           "style": "light"
          },
          "paper_bgcolor": "white",
          "plot_bgcolor": "#E5ECF6",
          "polar": {
           "angularaxis": {
            "gridcolor": "white",
            "linecolor": "white",
            "ticks": ""
           },
           "bgcolor": "#E5ECF6",
           "radialaxis": {
            "gridcolor": "white",
            "linecolor": "white",
            "ticks": ""
           }
          },
          "scene": {
           "xaxis": {
            "backgroundcolor": "#E5ECF6",
            "gridcolor": "white",
            "gridwidth": 2,
            "linecolor": "white",
            "showbackground": true,
            "ticks": "",
            "zerolinecolor": "white"
           },
           "yaxis": {
            "backgroundcolor": "#E5ECF6",
            "gridcolor": "white",
            "gridwidth": 2,
            "linecolor": "white",
            "showbackground": true,
            "ticks": "",
            "zerolinecolor": "white"
           },
           "zaxis": {
            "backgroundcolor": "#E5ECF6",
            "gridcolor": "white",
            "gridwidth": 2,
            "linecolor": "white",
            "showbackground": true,
            "ticks": "",
            "zerolinecolor": "white"
           }
          },
          "shapedefaults": {
           "line": {
            "color": "#2a3f5f"
           }
          },
          "ternary": {
           "aaxis": {
            "gridcolor": "white",
            "linecolor": "white",
            "ticks": ""
           },
           "baxis": {
            "gridcolor": "white",
            "linecolor": "white",
            "ticks": ""
           },
           "bgcolor": "#E5ECF6",
           "caxis": {
            "gridcolor": "white",
            "linecolor": "white",
            "ticks": ""
           }
          },
          "title": {
           "x": 0.05
          },
          "xaxis": {
           "automargin": true,
           "gridcolor": "white",
           "linecolor": "white",
           "ticks": "",
           "title": {
            "standoff": 15
           },
           "zerolinecolor": "white",
           "zerolinewidth": 2
          },
          "yaxis": {
           "automargin": true,
           "gridcolor": "white",
           "linecolor": "white",
           "ticks": "",
           "title": {
            "standoff": 15
           },
           "zerolinecolor": "white",
           "zerolinewidth": 2
          }
         }
        },
        "title": {
         "text": "Top 10 Teams (By Win/Loss Ratio)"
        },
        "xaxis": {
         "anchor": "y",
         "domain": [
          0,
          1
         ],
         "title": {
          "text": "Win/Loss Ratio"
         }
        },
        "yaxis": {
         "anchor": "x",
         "categoryarray": [
          "AC Milan",
          "Juventus",
          "ACF Fiorentina",
          "Manchester United",
          "Chelsea FC",
          "Liverpool FC",
          "Manchester City",
          "Real Madrid",
          "FC Barcelona",
          "Bayern Munich"
         ],
         "categoryorder": "total ascending",
         "domain": [
          0,
          1
         ],
         "title": {
          "text": "Team"
         }
        }
       }
      }
     },
     "metadata": {},
     "output_type": "display_data"
    }
   ],
   "source": [
    "fig=px.bar(top_10,x=\"win_loss_ratio\",y=\"Team\",\n",
    "       title=\"Top 10 Teams (By Win/Loss Ratio)\",\n",
    "       labels={\"win_loss_ratio\":\"Win/Lose Ratio\"},\n",
    "       color=\"Team\",\n",
    "       color_discrete_sequence=px.colors.qualitative.Set1\n",
    "       )\n",
    "\n",
    "fig.update_layout(yaxis={'categoryorder':'total ascending'}, \n",
    "                  xaxis_title='Win/Loss Ratio', \n",
    "                  yaxis_title='Team')\n",
    "\n",
    "fig.show()"
   ]
  },
  {
   "cell_type": "markdown",
   "metadata": {},
   "source": [
    "### Total Win Vs Loses for All Teams"
   ]
  },
  {
   "cell_type": "code",
   "execution_count": 113,
   "metadata": {},
   "outputs": [
    {
     "data": {
      "application/vnd.plotly.v1+json": {
       "config": {
        "plotlyServerURL": "https://plot.ly"
       },
       "data": [
        {
         "hovertemplate": "<b>%{hovertext}</b><br><br>Team=Real Madrid<br>Number of Wins=%{x}<br>Number of Losses=%{y}<br>Number of Macthes Played=%{marker.size}<extra></extra>",
         "hovertext": [
          "Real Madrid"
         ],
         "legendgroup": "Real Madrid",
         "marker": {
          "color": "rgb(102,194,165)",
          "size": [
           486
          ],
          "sizemode": "area",
          "sizeref": 0.30375,
          "symbol": "circle"
         },
         "mode": "markers",
         "name": "Real Madrid",
         "orientation": "v",
         "showlegend": true,
         "textposition": "top center",
         "type": "scatter",
         "x": [
          291
         ],
         "xaxis": "x",
         "y": [
          110
         ],
         "yaxis": "y"
        },
        {
         "hovertemplate": "<b>%{hovertext}</b><br><br>Team=Bayern Munich<br>Number of Wins=%{x}<br>Number of Losses=%{y}<br>Number of Macthes Played=%{marker.size}<extra></extra>",
         "hovertext": [
          "Bayern Munich"
         ],
         "legendgroup": "Bayern Munich",
         "marker": {
          "color": "rgb(252,141,98)",
          "size": [
           388
          ],
          "sizemode": "area",
          "sizeref": 0.30375,
          "symbol": "circle"
         },
         "mode": "markers",
         "name": "Bayern Munich",
         "orientation": "v",
         "showlegend": true,
         "textposition": "top center",
         "type": "scatter",
         "x": [
          231
         ],
         "xaxis": "x",
         "y": [
          79
         ],
         "yaxis": "y"
        },
        {
         "hovertemplate": "<b>%{hovertext}</b><br><br>Team=FC Barcelona<br>Number of Wins=%{x}<br>Number of Losses=%{y}<br>Number of Macthes Played=%{marker.size}<extra></extra>",
         "hovertext": [
          "FC Barcelona"
         ],
         "legendgroup": "FC Barcelona",
         "marker": {
          "color": "rgb(141,160,203)",
          "size": [
           341
          ],
          "sizemode": "area",
          "sizeref": 0.30375,
          "symbol": "circle"
         },
         "mode": "markers",
         "name": "FC Barcelona",
         "orientation": "v",
         "showlegend": true,
         "textposition": "top center",
         "type": "scatter",
         "x": [
          196
         ],
         "xaxis": "x",
         "y": [
          68
         ],
         "yaxis": "y"
        },
        {
         "hovertemplate": "<b>%{hovertext}</b><br><br>Team=Manchester United<br>Number of Wins=%{x}<br>Number of Losses=%{y}<br>Number of Macthes Played=%{marker.size}<extra></extra>",
         "hovertext": [
          "Manchester United"
         ],
         "legendgroup": "Manchester United",
         "marker": {
          "color": "rgb(231,138,195)",
          "size": [
           289
          ],
          "sizemode": "area",
          "sizeref": 0.30375,
          "symbol": "circle"
         },
         "mode": "markers",
         "name": "Manchester United",
         "orientation": "v",
         "showlegend": true,
         "textposition": "top center",
         "type": "scatter",
         "x": [
          153
         ],
         "xaxis": "x",
         "y": [
          67
         ],
         "yaxis": "y"
        },
        {
         "hovertemplate": "<b>%{hovertext}</b><br><br>Team=Juventus<br>Number of Wins=%{x}<br>Number of Losses=%{y}<br>Number of Macthes Played=%{marker.size}<extra></extra>",
         "hovertext": [
          "Juventus"
         ],
         "legendgroup": "Juventus",
         "marker": {
          "color": "rgb(166,216,84)",
          "size": [
           297
          ],
          "sizemode": "area",
          "sizeref": 0.30375,
          "symbol": "circle"
         },
         "mode": "markers",
         "name": "Juventus",
         "orientation": "v",
         "showlegend": true,
         "textposition": "top center",
         "type": "scatter",
         "x": [
          151
         ],
         "xaxis": "x",
         "y": [
          78
         ],
         "yaxis": "y"
        },
        {
         "hovertemplate": "<b>%{hovertext}</b><br><br>Team=AC Milan<br>Number of Wins=%{x}<br>Number of Losses=%{y}<br>Number of Macthes Played=%{marker.size}<extra></extra>",
         "hovertext": [
          "AC Milan"
         ],
         "legendgroup": "AC Milan",
         "marker": {
          "color": "rgb(255,217,47)",
          "size": [
           265
          ],
          "sizemode": "area",
          "sizeref": 0.30375,
          "symbol": "circle"
         },
         "mode": "markers",
         "name": "AC Milan",
         "orientation": "v",
         "showlegend": true,
         "textposition": "top center",
         "type": "scatter",
         "x": [
          127
         ],
         "xaxis": "x",
         "y": [
          69
         ],
         "yaxis": "y"
        },
        {
         "hovertemplate": "<b>%{hovertext}</b><br><br>Team=Liverpool FC<br>Number of Wins=%{x}<br>Number of Losses=%{y}<br>Number of Macthes Played=%{marker.size}<extra></extra>",
         "hovertext": [
          "Liverpool FC"
         ],
         "legendgroup": "Liverpool FC",
         "marker": {
          "color": "rgb(229,196,148)",
          "size": [
           230
          ],
          "sizemode": "area",
          "sizeref": 0.30375,
          "symbol": "circle"
         },
         "mode": "markers",
         "name": "Liverpool FC",
         "orientation": "v",
         "showlegend": true,
         "textposition": "top center",
         "type": "scatter",
         "x": [
          128
         ],
         "xaxis": "x",
         "y": [
          54
         ],
         "yaxis": "y"
        },
        {
         "hovertemplate": "<b>%{hovertext}</b><br><br>Team=FC Porto<br>Number of Wins=%{x}<br>Number of Losses=%{y}<br>Number of Macthes Played=%{marker.size}<extra></extra>",
         "hovertext": [
          "FC Porto"
         ],
         "legendgroup": "FC Porto",
         "marker": {
          "color": "rgb(179,179,179)",
          "size": [
           265
          ],
          "sizemode": "area",
          "sizeref": 0.30375,
          "symbol": "circle"
         },
         "mode": "markers",
         "name": "FC Porto",
         "orientation": "v",
         "showlegend": true,
         "textposition": "top center",
         "type": "scatter",
         "x": [
          120
         ],
         "xaxis": "x",
         "y": [
          87
         ],
         "yaxis": "y"
        },
        {
         "hovertemplate": "<b>%{hovertext}</b><br><br>Team=SL Benfica<br>Number of Wins=%{x}<br>Number of Losses=%{y}<br>Number of Macthes Played=%{marker.size}<extra></extra>",
         "hovertext": [
          "SL Benfica"
         ],
         "legendgroup": "SL Benfica",
         "marker": {
          "color": "rgb(102,194,165)",
          "size": [
           266
          ],
          "sizemode": "area",
          "sizeref": 0.30375,
          "symbol": "circle"
         },
         "mode": "markers",
         "name": "SL Benfica",
         "orientation": "v",
         "showlegend": true,
         "textposition": "top center",
         "type": "scatter",
         "x": [
          116
         ],
         "xaxis": "x",
         "y": [
          89
         ],
         "yaxis": "y"
        },
        {
         "hovertemplate": "<b>%{hovertext}</b><br><br>Team=Chelsea FC<br>Number of Wins=%{x}<br>Number of Losses=%{y}<br>Number of Macthes Played=%{marker.size}<extra></extra>",
         "hovertext": [
          "Chelsea FC"
         ],
         "legendgroup": "Chelsea FC",
         "marker": {
          "color": "rgb(252,141,98)",
          "size": [
           197
          ],
          "sizemode": "area",
          "sizeref": 0.30375,
          "symbol": "circle"
         },
         "mode": "markers",
         "name": "Chelsea FC",
         "orientation": "v",
         "showlegend": true,
         "textposition": "top center",
         "type": "scatter",
         "x": [
          101
         ],
         "xaxis": "x",
         "y": [
          44
         ],
         "yaxis": "y"
        },
        {
         "hovertemplate": "<b>%{hovertext}</b><br><br>Team=AFC Ajax<br>Number of Wins=%{x}<br>Number of Losses=%{y}<br>Number of Macthes Played=%{marker.size}<extra></extra>",
         "hovertext": [
          "AFC Ajax"
         ],
         "legendgroup": "AFC Ajax",
         "marker": {
          "color": "rgb(141,160,203)",
          "size": [
           215
          ],
          "sizemode": "area",
          "sizeref": 0.30375,
          "symbol": "circle"
         },
         "mode": "markers",
         "name": "AFC Ajax",
         "orientation": "v",
         "showlegend": true,
         "textposition": "top center",
         "type": "scatter",
         "x": [
          100
         ],
         "xaxis": "x",
         "y": [
          65
         ],
         "yaxis": "y"
        },
        {
         "hovertemplate": "<b>%{hovertext}</b><br><br>Team=Inter Milan<br>Number of Wins=%{x}<br>Number of Losses=%{y}<br>Number of Macthes Played=%{marker.size}<extra></extra>",
         "hovertext": [
          "Inter Milan"
         ],
         "legendgroup": "Inter Milan",
         "marker": {
          "color": "rgb(231,138,195)",
          "size": [
           203
          ],
          "sizemode": "area",
          "sizeref": 0.30375,
          "symbol": "circle"
         },
         "mode": "markers",
         "name": "Inter Milan",
         "orientation": "v",
         "showlegend": true,
         "textposition": "top center",
         "type": "scatter",
         "x": [
          97
         ],
         "xaxis": "x",
         "y": [
          53
         ],
         "yaxis": "y"
        },
        {
         "hovertemplate": "<b>%{hovertext}</b><br><br>Team=Arsenal FC<br>Number of Wins=%{x}<br>Number of Losses=%{y}<br>Number of Macthes Played=%{marker.size}<extra></extra>",
         "hovertext": [
          "Arsenal FC"
         ],
         "legendgroup": "Arsenal FC",
         "marker": {
          "color": "rgb(166,216,84)",
          "size": [
           197
          ],
          "sizemode": "area",
          "sizeref": 0.30375,
          "symbol": "circle"
         },
         "mode": "markers",
         "name": "Arsenal FC",
         "orientation": "v",
         "showlegend": true,
         "textposition": "top center",
         "type": "scatter",
         "x": [
          93
         ],
         "xaxis": "x",
         "y": [
          60
         ],
         "yaxis": "y"
        },
        {
         "hovertemplate": "<b>%{hovertext}</b><br><br>Team=Borussia Dortmund<br>Number of Wins=%{x}<br>Number of Losses=%{y}<br>Number of Macthes Played=%{marker.size}<extra></extra>",
         "hovertext": [
          "Borussia Dortmund"
         ],
         "legendgroup": "Borussia Dortmund",
         "marker": {
          "color": "rgb(255,217,47)",
          "size": [
           176
          ],
          "sizemode": "area",
          "sizeref": 0.30375,
          "symbol": "circle"
         },
         "mode": "markers",
         "name": "Borussia Dortmund",
         "orientation": "v",
         "showlegend": true,
         "textposition": "top center",
         "type": "scatter",
         "x": [
          83
         ],
         "xaxis": "x",
         "y": [
          57
         ],
         "yaxis": "y"
        },
        {
         "hovertemplate": "<b>%{hovertext}</b><br><br>Team=Atlético Madrid<br>Number of Wins=%{x}<br>Number of Losses=%{y}<br>Number of Macthes Played=%{marker.size}<extra></extra>",
         "hovertext": [
          "Atlético Madrid"
         ],
         "legendgroup": "Atlético Madrid",
         "marker": {
          "color": "rgb(229,196,148)",
          "size": [
           166
          ],
          "sizemode": "area",
          "sizeref": 0.30375,
          "symbol": "circle"
         },
         "mode": "markers",
         "name": "Atlético Madrid",
         "orientation": "v",
         "showlegend": true,
         "textposition": "top center",
         "type": "scatter",
         "x": [
          79
         ],
         "xaxis": "x",
         "y": [
          43
         ],
         "yaxis": "y"
        },
        {
         "hovertemplate": "<b>%{hovertext}</b><br><br>Team=Paris Saint-Germain<br>Number of Wins=%{x}<br>Number of Losses=%{y}<br>Number of Macthes Played=%{marker.size}<extra></extra>",
         "hovertext": [
          "Paris Saint-Germain"
         ],
         "legendgroup": "Paris Saint-Germain",
         "marker": {
          "color": "rgb(179,179,179)",
          "size": [
           151
          ],
          "sizemode": "area",
          "sizeref": 0.30375,
          "symbol": "circle"
         },
         "mode": "markers",
         "name": "Paris Saint-Germain",
         "orientation": "v",
         "showlegend": true,
         "textposition": "top center",
         "type": "scatter",
         "x": [
          79
         ],
         "xaxis": "x",
         "y": [
          43
         ],
         "yaxis": "y"
        },
        {
         "hovertemplate": "<b>%{hovertext}</b><br><br>Team=Manchester City<br>Number of Wins=%{x}<br>Number of Losses=%{y}<br>Number of Macthes Played=%{marker.size}<extra></extra>",
         "hovertext": [
          "Manchester City"
         ],
         "legendgroup": "Manchester City",
         "marker": {
          "color": "rgb(102,194,165)",
          "size": [
           127
          ],
          "sizemode": "area",
          "sizeref": 0.30375,
          "symbol": "circle"
         },
         "mode": "markers",
         "name": "Manchester City",
         "orientation": "v",
         "showlegend": true,
         "textposition": "top center",
         "type": "scatter",
         "x": [
          72
         ],
         "xaxis": "x",
         "y": [
          29
         ],
         "yaxis": "y"
        },
        {
         "hovertemplate": "<b>%{hovertext}</b><br><br>Team=Dinamo Kiev<br>Number of Wins=%{x}<br>Number of Losses=%{y}<br>Number of Macthes Played=%{marker.size}<extra></extra>",
         "hovertext": [
          "Dinamo Kiev"
         ],
         "legendgroup": "Dinamo Kiev",
         "marker": {
          "color": "rgb(252,141,98)",
          "size": [
           186
          ],
          "sizemode": "area",
          "sizeref": 0.30375,
          "symbol": "circle"
         },
         "mode": "markers",
         "name": "Dinamo Kiev",
         "orientation": "v",
         "showlegend": true,
         "textposition": "top center",
         "type": "scatter",
         "x": [
          65
         ],
         "xaxis": "x",
         "y": [
          80
         ],
         "yaxis": "y"
        },
        {
         "hovertemplate": "<b>%{hovertext}</b><br><br>Team=PSV Eindhoven<br>Number of Wins=%{x}<br>Number of Losses=%{y}<br>Number of Macthes Played=%{marker.size}<extra></extra>",
         "hovertext": [
          "PSV Eindhoven"
         ],
         "legendgroup": "PSV Eindhoven",
         "marker": {
          "color": "rgb(141,160,203)",
          "size": [
           171
          ],
          "sizemode": "area",
          "sizeref": 0.30375,
          "symbol": "circle"
         },
         "mode": "markers",
         "name": "PSV Eindhoven",
         "orientation": "v",
         "showlegend": true,
         "textposition": "top center",
         "type": "scatter",
         "x": [
          58
         ],
         "xaxis": "x",
         "y": [
          70
         ],
         "yaxis": "y"
        },
        {
         "hovertemplate": "<b>%{hovertext}</b><br><br>Team=Celtic FC<br>Number of Wins=%{x}<br>Number of Losses=%{y}<br>Number of Macthes Played=%{marker.size}<extra></extra>",
         "hovertext": [
          "Celtic FC"
         ],
         "legendgroup": "Celtic FC",
         "marker": {
          "color": "rgb(231,138,195)",
          "size": [
           156
          ],
          "sizemode": "area",
          "sizeref": 0.30375,
          "symbol": "circle"
         },
         "mode": "markers",
         "name": "Celtic FC",
         "orientation": "v",
         "showlegend": true,
         "textposition": "top center",
         "type": "scatter",
         "x": [
          61
         ],
         "xaxis": "x",
         "y": [
          67
         ],
         "yaxis": "y"
        },
        {
         "hovertemplate": "<b>%{hovertext}</b><br><br>Team=Olympique Lyon<br>Number of Wins=%{x}<br>Number of Losses=%{y}<br>Number of Macthes Played=%{marker.size}<extra></extra>",
         "hovertext": [
          "Olympique Lyon"
         ],
         "legendgroup": "Olympique Lyon",
         "marker": {
          "color": "rgb(166,216,84)",
          "size": [
           136
          ],
          "sizemode": "area",
          "sizeref": 0.30375,
          "symbol": "circle"
         },
         "mode": "markers",
         "name": "Olympique Lyon",
         "orientation": "v",
         "showlegend": true,
         "textposition": "top center",
         "type": "scatter",
         "x": [
          58
         ],
         "xaxis": "x",
         "y": [
          42
         ],
         "yaxis": "y"
        },
        {
         "hovertemplate": "<b>%{hovertext}</b><br><br>Team=RSC Anderlecht<br>Number of Wins=%{x}<br>Number of Losses=%{y}<br>Number of Macthes Played=%{marker.size}<extra></extra>",
         "hovertext": [
          "RSC Anderlecht"
         ],
         "legendgroup": "RSC Anderlecht",
         "marker": {
          "color": "rgb(255,217,47)",
          "size": [
           163
          ],
          "sizemode": "area",
          "sizeref": 0.30375,
          "symbol": "circle"
         },
         "mode": "markers",
         "name": "RSC Anderlecht",
         "orientation": "v",
         "showlegend": true,
         "textposition": "top center",
         "type": "scatter",
         "x": [
          53
         ],
         "xaxis": "x",
         "y": [
          75
         ],
         "yaxis": "y"
        },
        {
         "hovertemplate": "<b>%{hovertext}</b><br><br>Team=Valencia CF<br>Number of Wins=%{x}<br>Number of Losses=%{y}<br>Number of Macthes Played=%{marker.size}<extra></extra>",
         "hovertext": [
          "Valencia CF"
         ],
         "legendgroup": "Valencia CF",
         "marker": {
          "color": "rgb(229,196,148)",
          "size": [
           116
          ],
          "sizemode": "area",
          "sizeref": 0.30375,
          "symbol": "circle"
         },
         "mode": "markers",
         "name": "Valencia CF",
         "orientation": "v",
         "showlegend": true,
         "textposition": "top center",
         "type": "scatter",
         "x": [
          48
         ],
         "xaxis": "x",
         "y": [
          34
         ],
         "yaxis": "y"
        },
        {
         "hovertemplate": "<b>%{hovertext}</b><br><br>Team=Galatasaray<br>Number of Wins=%{x}<br>Number of Losses=%{y}<br>Number of Macthes Played=%{marker.size}<extra></extra>",
         "hovertext": [
          "Galatasaray"
         ],
         "legendgroup": "Galatasaray",
         "marker": {
          "color": "rgb(179,179,179)",
          "size": [
           161
          ],
          "sizemode": "area",
          "sizeref": 0.30375,
          "symbol": "circle"
         },
         "mode": "markers",
         "name": "Galatasaray",
         "orientation": "v",
         "showlegend": true,
         "textposition": "top center",
         "type": "scatter",
         "x": [
          43
         ],
         "xaxis": "x",
         "y": [
          77
         ],
         "yaxis": "y"
        },
        {
         "hovertemplate": "<b>%{hovertext}</b><br><br>Team=Olympiakos Piraeus<br>Number of Wins=%{x}<br>Number of Losses=%{y}<br>Number of Macthes Played=%{marker.size}<extra></extra>",
         "hovertext": [
          "Olympiakos Piraeus"
         ],
         "legendgroup": "Olympiakos Piraeus",
         "marker": {
          "color": "rgb(102,194,165)",
          "size": [
           156
          ],
          "sizemode": "area",
          "sizeref": 0.30375,
          "symbol": "circle"
         },
         "mode": "markers",
         "name": "Olympiakos Piraeus",
         "orientation": "v",
         "showlegend": true,
         "textposition": "top center",
         "type": "scatter",
         "x": [
          47
         ],
         "xaxis": "x",
         "y": [
          81
         ],
         "yaxis": "y"
        },
        {
         "hovertemplate": "<b>%{hovertext}</b><br><br>Team=Rangers FC<br>Number of Wins=%{x}<br>Number of Losses=%{y}<br>Number of Macthes Played=%{marker.size}<extra></extra>",
         "hovertext": [
          "Rangers FC"
         ],
         "legendgroup": "Rangers FC",
         "marker": {
          "color": "rgb(252,141,98)",
          "size": [
           131
          ],
          "sizemode": "area",
          "sizeref": 0.30375,
          "symbol": "circle"
         },
         "mode": "markers",
         "name": "Rangers FC",
         "orientation": "v",
         "showlegend": true,
         "textposition": "top center",
         "type": "scatter",
         "x": [
          43
         ],
         "xaxis": "x",
         "y": [
          57
         ],
         "yaxis": "y"
        },
        {
         "hovertemplate": "<b>%{hovertext}</b><br><br>Team=Crvena Zvezda<br>Number of Wins=%{x}<br>Number of Losses=%{y}<br>Number of Macthes Played=%{marker.size}<extra></extra>",
         "hovertext": [
          "Crvena Zvezda"
         ],
         "legendgroup": "Crvena Zvezda",
         "marker": {
          "color": "rgb(141,160,203)",
          "size": [
           104
          ],
          "sizemode": "area",
          "sizeref": 0.30375,
          "symbol": "circle"
         },
         "mode": "markers",
         "name": "Crvena Zvezda",
         "orientation": "v",
         "showlegend": true,
         "textposition": "top center",
         "type": "scatter",
         "x": [
          48
         ],
         "xaxis": "x",
         "y": [
          41
         ],
         "yaxis": "y"
        },
        {
         "hovertemplate": "<b>%{hovertext}</b><br><br>Team=AS Roma<br>Number of Wins=%{x}<br>Number of Losses=%{y}<br>Number of Macthes Played=%{marker.size}<extra></extra>",
         "hovertext": [
          "AS Roma"
         ],
         "legendgroup": "AS Roma",
         "marker": {
          "color": "rgb(231,138,195)",
          "size": [
           109
          ],
          "sizemode": "area",
          "sizeref": 0.30375,
          "symbol": "circle"
         },
         "mode": "markers",
         "name": "AS Roma",
         "orientation": "v",
         "showlegend": true,
         "textposition": "top center",
         "type": "scatter",
         "x": [
          41
         ],
         "xaxis": "x",
         "y": [
          42
         ],
         "yaxis": "y"
        },
        {
         "hovertemplate": "<b>%{hovertext}</b><br><br>Team=Olympique Marseille<br>Number of Wins=%{x}<br>Number of Losses=%{y}<br>Number of Macthes Played=%{marker.size}<extra></extra>",
         "hovertext": [
          "Olympique Marseille"
         ],
         "legendgroup": "Olympique Marseille",
         "marker": {
          "color": "rgb(166,216,84)",
          "size": [
           110
          ],
          "sizemode": "area",
          "sizeref": 0.30375,
          "symbol": "circle"
         },
         "mode": "markers",
         "name": "Olympique Marseille",
         "orientation": "v",
         "showlegend": true,
         "textposition": "top center",
         "type": "scatter",
         "x": [
          43
         ],
         "xaxis": "x",
         "y": [
          49
         ],
         "yaxis": "y"
        },
        {
         "hovertemplate": "<b>%{hovertext}</b><br><br>Team=Panathinaikos<br>Number of Wins=%{x}<br>Number of Losses=%{y}<br>Number of Macthes Played=%{marker.size}<extra></extra>",
         "hovertext": [
          "Panathinaikos"
         ],
         "legendgroup": "Panathinaikos",
         "marker": {
          "color": "rgb(255,217,47)",
          "size": [
           127
          ],
          "sizemode": "area",
          "sizeref": 0.30375,
          "symbol": "circle"
         },
         "mode": "markers",
         "name": "Panathinaikos",
         "orientation": "v",
         "showlegend": true,
         "textposition": "top center",
         "type": "scatter",
         "x": [
          36
         ],
         "xaxis": "x",
         "y": [
          54
         ],
         "yaxis": "y"
        },
        {
         "hovertemplate": "<b>%{hovertext}</b><br><br>Team=Shakhtar Donetsk<br>Number of Wins=%{x}<br>Number of Losses=%{y}<br>Number of Macthes Played=%{marker.size}<extra></extra>",
         "hovertext": [
          "Shakhtar Donetsk"
         ],
         "legendgroup": "Shakhtar Donetsk",
         "marker": {
          "color": "rgb(229,196,148)",
          "size": [
           118
          ],
          "sizemode": "area",
          "sizeref": 0.30375,
          "symbol": "circle"
         },
         "mode": "markers",
         "name": "Shakhtar Donetsk",
         "orientation": "v",
         "showlegend": true,
         "textposition": "top center",
         "type": "scatter",
         "x": [
          39
         ],
         "xaxis": "x",
         "y": [
          53
         ],
         "yaxis": "y"
        },
        {
         "hovertemplate": "<b>%{hovertext}</b><br><br>Team=Bayer Leverkusen<br>Number of Wins=%{x}<br>Number of Losses=%{y}<br>Number of Macthes Played=%{marker.size}<extra></extra>",
         "hovertext": [
          "Bayer Leverkusen"
         ],
         "legendgroup": "Bayer Leverkusen",
         "marker": {
          "color": "rgb(179,179,179)",
          "size": [
           107
          ],
          "sizemode": "area",
          "sizeref": 0.30375,
          "symbol": "circle"
         },
         "mode": "markers",
         "name": "Bayer Leverkusen",
         "orientation": "v",
         "showlegend": true,
         "textposition": "top center",
         "type": "scatter",
         "x": [
          37
         ],
         "xaxis": "x",
         "y": [
          45
         ],
         "yaxis": "y"
        },
        {
         "hovertemplate": "<b>%{hovertext}</b><br><br>Team=AS Monaco<br>Number of Wins=%{x}<br>Number of Losses=%{y}<br>Number of Macthes Played=%{marker.size}<extra></extra>",
         "hovertext": [
          "AS Monaco"
         ],
         "legendgroup": "AS Monaco",
         "marker": {
          "color": "rgb(102,194,165)",
          "size": [
           98
          ],
          "sizemode": "area",
          "sizeref": 0.30375,
          "symbol": "circle"
         },
         "mode": "markers",
         "name": "AS Monaco",
         "orientation": "v",
         "showlegend": true,
         "textposition": "top center",
         "type": "scatter",
         "x": [
          35
         ],
         "xaxis": "x",
         "y": [
          42
         ],
         "yaxis": "y"
        },
        {
         "hovertemplate": "<b>%{hovertext}</b><br><br>Team=Spartak Moskva<br>Number of Wins=%{x}<br>Number of Losses=%{y}<br>Number of Macthes Played=%{marker.size}<extra></extra>",
         "hovertext": [
          "Spartak Moskva"
         ],
         "legendgroup": "Spartak Moskva",
         "marker": {
          "color": "rgb(252,141,98)",
          "size": [
           104
          ],
          "sizemode": "area",
          "sizeref": 0.30375,
          "symbol": "circle"
         },
         "mode": "markers",
         "name": "Spartak Moskva",
         "orientation": "v",
         "showlegend": true,
         "textposition": "top center",
         "type": "scatter",
         "x": [
          34
         ],
         "xaxis": "x",
         "y": [
          47
         ],
         "yaxis": "y"
        },
        {
         "hovertemplate": "<b>%{hovertext}</b><br><br>Team=AC Sparta Praha<br>Number of Wins=%{x}<br>Number of Losses=%{y}<br>Number of Macthes Played=%{marker.size}<extra></extra>",
         "hovertext": [
          "AC Sparta Praha"
         ],
         "legendgroup": "AC Sparta Praha",
         "marker": {
          "color": "rgb(141,160,203)",
          "size": [
           102
          ],
          "sizemode": "area",
          "sizeref": 0.30375,
          "symbol": "circle"
         },
         "mode": "markers",
         "name": "AC Sparta Praha",
         "orientation": "v",
         "showlegend": true,
         "textposition": "top center",
         "type": "scatter",
         "x": [
          33
         ],
         "xaxis": "x",
         "y": [
          45
         ],
         "yaxis": "y"
        },
        {
         "hovertemplate": "<b>%{hovertext}</b><br><br>Team=Feyenoord<br>Number of Wins=%{x}<br>Number of Losses=%{y}<br>Number of Macthes Played=%{marker.size}<extra></extra>",
         "hovertext": [
          "Feyenoord"
         ],
         "legendgroup": "Feyenoord",
         "marker": {
          "color": "rgb(231,138,195)",
          "size": [
           85
          ],
          "sizemode": "area",
          "sizeref": 0.30375,
          "symbol": "circle"
         },
         "mode": "markers",
         "name": "Feyenoord",
         "orientation": "v",
         "showlegend": true,
         "textposition": "top center",
         "type": "scatter",
         "x": [
          32
         ],
         "xaxis": "x",
         "y": [
          31
         ],
         "yaxis": "y"
        },
        {
         "hovertemplate": "<b>%{hovertext}</b><br><br>Team=CSKA Sofia<br>Number of Wins=%{x}<br>Number of Losses=%{y}<br>Number of Macthes Played=%{marker.size}<extra></extra>",
         "hovertext": [
          "CSKA Sofia"
         ],
         "legendgroup": "CSKA Sofia",
         "marker": {
          "color": "rgb(166,216,84)",
          "size": [
           86
          ],
          "sizemode": "area",
          "sizeref": 0.30375,
          "symbol": "circle"
         },
         "mode": "markers",
         "name": "CSKA Sofia",
         "orientation": "v",
         "showlegend": true,
         "textposition": "top center",
         "type": "scatter",
         "x": [
          34
         ],
         "xaxis": "x",
         "y": [
          37
         ],
         "yaxis": "y"
        },
        {
         "hovertemplate": "<b>%{hovertext}</b><br><br>Team=Club Brugge KV<br>Number of Wins=%{x}<br>Number of Losses=%{y}<br>Number of Macthes Played=%{marker.size}<extra></extra>",
         "hovertext": [
          "Club Brugge KV"
         ],
         "legendgroup": "Club Brugge KV",
         "marker": {
          "color": "rgb(255,217,47)",
          "size": [
           97
          ],
          "sizemode": "area",
          "sizeref": 0.30375,
          "symbol": "circle"
         },
         "mode": "markers",
         "name": "Club Brugge KV",
         "orientation": "v",
         "showlegend": true,
         "textposition": "top center",
         "type": "scatter",
         "x": [
          31
         ],
         "xaxis": "x",
         "y": [
          44
         ],
         "yaxis": "y"
        },
        {
         "hovertemplate": "<b>%{hovertext}</b><br><br>Team=SSC Napoli<br>Number of Wins=%{x}<br>Number of Losses=%{y}<br>Number of Macthes Played=%{marker.size}<extra></extra>",
         "hovertext": [
          "SSC Napoli"
         ],
         "legendgroup": "SSC Napoli",
         "marker": {
          "color": "rgb(229,196,148)",
          "size": [
           66
          ],
          "sizemode": "area",
          "sizeref": 0.30375,
          "symbol": "circle"
         },
         "mode": "markers",
         "name": "SSC Napoli",
         "orientation": "v",
         "showlegend": true,
         "textposition": "top center",
         "type": "scatter",
         "x": [
          30
         ],
         "xaxis": "x",
         "y": [
          19
         ],
         "yaxis": "y"
        },
        {
         "hovertemplate": "<b>%{hovertext}</b><br><br>Team=FC Schalke 04<br>Number of Wins=%{x}<br>Number of Losses=%{y}<br>Number of Macthes Played=%{marker.size}<extra></extra>",
         "hovertext": [
          "FC Schalke 04"
         ],
         "legendgroup": "FC Schalke 04",
         "marker": {
          "color": "rgb(179,179,179)",
          "size": [
           73
          ],
          "sizemode": "area",
          "sizeref": 0.30375,
          "symbol": "circle"
         },
         "mode": "markers",
         "name": "FC Schalke 04",
         "orientation": "v",
         "showlegend": true,
         "textposition": "top center",
         "type": "scatter",
         "x": [
          29
         ],
         "xaxis": "x",
         "y": [
          27
         ],
         "yaxis": "y"
        },
        {
         "hovertemplate": "<b>%{hovertext}</b><br><br>Team=FC Basel<br>Number of Wins=%{x}<br>Number of Losses=%{y}<br>Number of Macthes Played=%{marker.size}<extra></extra>",
         "hovertext": [
          "FC Basel"
         ],
         "legendgroup": "FC Basel",
         "marker": {
          "color": "rgb(102,194,165)",
          "size": [
           82
          ],
          "sizemode": "area",
          "sizeref": 0.30375,
          "symbol": "circle"
         },
         "mode": "markers",
         "name": "FC Basel",
         "orientation": "v",
         "showlegend": true,
         "textposition": "top center",
         "type": "scatter",
         "x": [
          29
         ],
         "xaxis": "x",
         "y": [
          38
         ],
         "yaxis": "y"
        },
        {
         "hovertemplate": "<b>%{hovertext}</b><br><br>Team=Sevilla FC<br>Number of Wins=%{x}<br>Number of Losses=%{y}<br>Number of Macthes Played=%{marker.size}<extra></extra>",
         "hovertext": [
          "Sevilla FC"
         ],
         "legendgroup": "Sevilla FC",
         "marker": {
          "color": "rgb(252,141,98)",
          "size": [
           72
          ],
          "sizemode": "area",
          "sizeref": 0.30375,
          "symbol": "circle"
         },
         "mode": "markers",
         "name": "Sevilla FC",
         "orientation": "v",
         "showlegend": true,
         "textposition": "top center",
         "type": "scatter",
         "x": [
          27
         ],
         "xaxis": "x",
         "y": [
          25
         ],
         "yaxis": "y"
        },
        {
         "hovertemplate": "<b>%{hovertext}</b><br><br>Team=IFK Göteborg<br>Number of Wins=%{x}<br>Number of Losses=%{y}<br>Number of Macthes Played=%{marker.size}<extra></extra>",
         "hovertext": [
          "IFK Göteborg"
         ],
         "legendgroup": "IFK Göteborg",
         "marker": {
          "color": "rgb(141,160,203)",
          "size": [
           70
          ],
          "sizemode": "area",
          "sizeref": 0.30375,
          "symbol": "circle"
         },
         "mode": "markers",
         "name": "IFK Göteborg",
         "orientation": "v",
         "showlegend": true,
         "textposition": "top center",
         "type": "scatter",
         "x": [
          30
         ],
         "xaxis": "x",
         "y": [
          30
         ],
         "yaxis": "y"
        },
        {
         "hovertemplate": "<b>%{hovertext}</b><br><br>Team=Sporting CP<br>Number of Wins=%{x}<br>Number of Losses=%{y}<br>Number of Macthes Played=%{marker.size}<extra></extra>",
         "hovertext": [
          "Sporting CP"
         ],
         "legendgroup": "Sporting CP",
         "marker": {
          "color": "rgb(231,138,195)",
          "size": [
           92
          ],
          "sizemode": "area",
          "sizeref": 0.30375,
          "symbol": "circle"
         },
         "mode": "markers",
         "name": "Sporting CP",
         "orientation": "v",
         "showlegend": true,
         "textposition": "top center",
         "type": "scatter",
         "x": [
          28
         ],
         "xaxis": "x",
         "y": [
          49
         ],
         "yaxis": "y"
        },
        {
         "hovertemplate": "<b>%{hovertext}</b><br><br>Team=FCSB<br>Number of Wins=%{x}<br>Number of Losses=%{y}<br>Number of Macthes Played=%{marker.size}<extra></extra>",
         "hovertext": [
          "FCSB"
         ],
         "legendgroup": "FCSB",
         "marker": {
          "color": "rgb(166,216,84)",
          "size": [
           87
          ],
          "sizemode": "area",
          "sizeref": 0.30375,
          "symbol": "circle"
         },
         "mode": "markers",
         "name": "FCSB",
         "orientation": "v",
         "showlegend": true,
         "textposition": "top center",
         "type": "scatter",
         "x": [
          25
         ],
         "xaxis": "x",
         "y": [
          40
         ],
         "yaxis": "y"
        },
        {
         "hovertemplate": "<b>%{hovertext}</b><br><br>Team=Tottenham Hotspur<br>Number of Wins=%{x}<br>Number of Losses=%{y}<br>Number of Macthes Played=%{marker.size}<extra></extra>",
         "hovertext": [
          "Tottenham Hotspur"
         ],
         "legendgroup": "Tottenham Hotspur",
         "marker": {
          "color": "rgb(255,217,47)",
          "size": [
           61
          ],
          "sizemode": "area",
          "sizeref": 0.30375,
          "symbol": "circle"
         },
         "mode": "markers",
         "name": "Tottenham Hotspur",
         "orientation": "v",
         "showlegend": true,
         "textposition": "top center",
         "type": "scatter",
         "x": [
          27
         ],
         "xaxis": "x",
         "y": [
          21
         ],
         "yaxis": "y"
        },
        {
         "hovertemplate": "<b>%{hovertext}</b><br><br>Team=CSKA Moskva<br>Number of Wins=%{x}<br>Number of Losses=%{y}<br>Number of Macthes Played=%{marker.size}<extra></extra>",
         "hovertext": [
          "CSKA Moskva"
         ],
         "legendgroup": "CSKA Moskva",
         "marker": {
          "color": "rgb(229,196,148)",
          "size": [
           86
          ],
          "sizemode": "area",
          "sizeref": 0.30375,
          "symbol": "circle"
         },
         "mode": "markers",
         "name": "CSKA Moskva",
         "orientation": "v",
         "showlegend": true,
         "textposition": "top center",
         "type": "scatter",
         "x": [
          23
         ],
         "xaxis": "x",
         "y": [
          43
         ],
         "yaxis": "y"
        },
        {
         "hovertemplate": "<b>%{hovertext}</b><br><br>Team=Lazio Roma<br>Number of Wins=%{x}<br>Number of Losses=%{y}<br>Number of Macthes Played=%{marker.size}<extra></extra>",
         "hovertext": [
          "Lazio Roma"
         ],
         "legendgroup": "Lazio Roma",
         "marker": {
          "color": "rgb(179,179,179)",
          "size": [
           60
          ],
          "sizemode": "area",
          "sizeref": 0.30375,
          "symbol": "circle"
         },
         "mode": "markers",
         "name": "Lazio Roma",
         "orientation": "v",
         "showlegend": true,
         "textposition": "top center",
         "type": "scatter",
         "x": [
          23
         ],
         "xaxis": "x",
         "y": [
          21
         ],
         "yaxis": "y"
        },
        {
         "hovertemplate": "<b>%{hovertext}</b><br><br>Team=Deportivo La Coruña<br>Number of Wins=%{x}<br>Number of Losses=%{y}<br>Number of Macthes Played=%{marker.size}<extra></extra>",
         "hovertext": [
          "Deportivo La Coruña"
         ],
         "legendgroup": "Deportivo La Coruña",
         "marker": {
          "color": "rgb(102,194,165)",
          "size": [
           58
          ],
          "sizemode": "area",
          "sizeref": 0.30375,
          "symbol": "circle"
         },
         "mode": "markers",
         "name": "Deportivo La Coruña",
         "orientation": "v",
         "showlegend": true,
         "textposition": "top center",
         "type": "scatter",
         "x": [
          23
         ],
         "xaxis": "x",
         "y": [
          20
         ],
         "yaxis": "y"
        },
        {
         "hovertemplate": "<b>%{hovertext}</b><br><br>Team=Rosenborg BK<br>Number of Wins=%{x}<br>Number of Losses=%{y}<br>Number of Macthes Played=%{marker.size}<extra></extra>",
         "hovertext": [
          "Rosenborg BK"
         ],
         "legendgroup": "Rosenborg BK",
         "marker": {
          "color": "rgb(252,141,98)",
          "size": [
           90
          ],
          "sizemode": "area",
          "sizeref": 0.30375,
          "symbol": "circle"
         },
         "mode": "markers",
         "name": "Rosenborg BK",
         "orientation": "v",
         "showlegend": true,
         "textposition": "top center",
         "type": "scatter",
         "x": [
          21
         ],
         "xaxis": "x",
         "y": [
          48
         ],
         "yaxis": "y"
        },
        {
         "hovertemplate": "<b>%{hovertext}</b><br><br>Team=Werder Bremen<br>Number of Wins=%{x}<br>Number of Losses=%{y}<br>Number of Macthes Played=%{marker.size}<extra></extra>",
         "hovertext": [
          "Werder Bremen"
         ],
         "legendgroup": "Werder Bremen",
         "marker": {
          "color": "rgb(141,160,203)",
          "size": [
           60
          ],
          "sizemode": "area",
          "sizeref": 0.30375,
          "symbol": "circle"
         },
         "mode": "markers",
         "name": "Werder Bremen",
         "orientation": "v",
         "showlegend": true,
         "textposition": "top center",
         "type": "scatter",
         "x": [
          23
         ],
         "xaxis": "x",
         "y": [
          23
         ],
         "yaxis": "y"
        },
        {
         "hovertemplate": "<b>%{hovertext}</b><br><br>Team=Girondins Bordeaux<br>Number of Wins=%{x}<br>Number of Losses=%{y}<br>Number of Macthes Played=%{marker.size}<extra></extra>",
         "hovertext": [
          "Girondins Bordeaux"
         ],
         "legendgroup": "Girondins Bordeaux",
         "marker": {
          "color": "rgb(231,138,195)",
          "size": [
           50
          ],
          "sizemode": "area",
          "sizeref": 0.30375,
          "symbol": "circle"
         },
         "mode": "markers",
         "name": "Girondins Bordeaux",
         "orientation": "v",
         "showlegend": true,
         "textposition": "top center",
         "type": "scatter",
         "x": [
          21
         ],
         "xaxis": "x",
         "y": [
          13
         ],
         "yaxis": "y"
        },
        {
         "hovertemplate": "<b>%{hovertext}</b><br><br>Team=Austria Wien<br>Number of Wins=%{x}<br>Number of Losses=%{y}<br>Number of Macthes Played=%{marker.size}<extra></extra>",
         "hovertext": [
          "Austria Wien"
         ],
         "legendgroup": "Austria Wien",
         "marker": {
          "color": "rgb(166,216,84)",
          "size": [
           63
          ],
          "sizemode": "area",
          "sizeref": 0.30375,
          "symbol": "circle"
         },
         "mode": "markers",
         "name": "Austria Wien",
         "orientation": "v",
         "showlegend": true,
         "textposition": "top center",
         "type": "scatter",
         "x": [
          22
         ],
         "xaxis": "x",
         "y": [
          28
         ],
         "yaxis": "y"
        },
        {
         "hovertemplate": "<b>%{hovertext}</b><br><br>Team=Standard Liège<br>Number of Wins=%{x}<br>Number of Losses=%{y}<br>Number of Macthes Played=%{marker.size}<extra></extra>",
         "hovertext": [
          "Standard Liège"
         ],
         "legendgroup": "Standard Liège",
         "marker": {
          "color": "rgb(255,217,47)",
          "size": [
           46
          ],
          "sizemode": "area",
          "sizeref": 0.30375,
          "symbol": "circle"
         },
         "mode": "markers",
         "name": "Standard Liège",
         "orientation": "v",
         "showlegend": true,
         "textposition": "top center",
         "type": "scatter",
         "x": [
          24
         ],
         "xaxis": "x",
         "y": [
          17
         ],
         "yaxis": "y"
        },
        {
         "hovertemplate": "<b>%{hovertext}</b><br><br>Team=Rapid Wien<br>Number of Wins=%{x}<br>Number of Losses=%{y}<br>Number of Macthes Played=%{marker.size}<extra></extra>",
         "hovertext": [
          "Rapid Wien"
         ],
         "legendgroup": "Rapid Wien",
         "marker": {
          "color": "rgb(229,196,148)",
          "size": [
           61
          ],
          "sizemode": "area",
          "sizeref": 0.30375,
          "symbol": "circle"
         },
         "mode": "markers",
         "name": "Rapid Wien",
         "orientation": "v",
         "showlegend": true,
         "textposition": "top center",
         "type": "scatter",
         "x": [
          24
         ],
         "xaxis": "x",
         "y": [
          32
         ],
         "yaxis": "y"
        },
        {
         "hovertemplate": "<b>%{hovertext}</b><br><br>Team=Zenit St. Petersburg<br>Number of Wins=%{x}<br>Number of Losses=%{y}<br>Number of Macthes Played=%{marker.size}<extra></extra>",
         "hovertext": [
          "Zenit St. Petersburg"
         ],
         "legendgroup": "Zenit St. Petersburg",
         "marker": {
          "color": "rgb(179,179,179)",
          "size": [
           64
          ],
          "sizemode": "area",
          "sizeref": 0.30375,
          "symbol": "circle"
         },
         "mode": "markers",
         "name": "Zenit St. Petersburg",
         "orientation": "v",
         "showlegend": true,
         "textposition": "top center",
         "type": "scatter",
         "x": [
          21
         ],
         "xaxis": "x",
         "y": [
          29
         ],
         "yaxis": "y"
        },
        {
         "hovertemplate": "<b>%{hovertext}</b><br><br>Team=FK Viagem Příbram<br>Number of Wins=%{x}<br>Number of Losses=%{y}<br>Number of Macthes Played=%{marker.size}<extra></extra>",
         "hovertext": [
          "FK Viagem Příbram"
         ],
         "legendgroup": "FK Viagem Příbram",
         "marker": {
          "color": "rgb(102,194,165)",
          "size": [
           45
          ],
          "sizemode": "area",
          "sizeref": 0.30375,
          "symbol": "circle"
         },
         "mode": "markers",
         "name": "FK Viagem Příbram",
         "orientation": "v",
         "showlegend": true,
         "textposition": "top center",
         "type": "scatter",
         "x": [
          22
         ],
         "xaxis": "x",
         "y": [
          13
         ],
         "yaxis": "y"
        },
        {
         "hovertemplate": "<b>%{hovertext}</b><br><br>Team=Bor. Mönchengladbach<br>Number of Wins=%{x}<br>Number of Losses=%{y}<br>Number of Macthes Played=%{marker.size}<extra></extra>",
         "hovertext": [
          "Bor. Mönchengladbach"
         ],
         "legendgroup": "Bor. Mönchengladbach",
         "marker": {
          "color": "rgb(252,141,98)",
          "size": [
           51
          ],
          "sizemode": "area",
          "sizeref": 0.30375,
          "symbol": "circle"
         },
         "mode": "markers",
         "name": "Bor. Mönchengladbach",
         "orientation": "v",
         "showlegend": true,
         "textposition": "top center",
         "type": "scatter",
         "x": [
          19
         ],
         "xaxis": "x",
         "y": [
          16
         ],
         "yaxis": "y"
        },
        {
         "hovertemplate": "<b>%{hovertext}</b><br><br>Team=Dinamo Bucureşti<br>Number of Wins=%{x}<br>Number of Losses=%{y}<br>Number of Macthes Played=%{marker.size}<extra></extra>",
         "hovertext": [
          "Dinamo Bucureşti"
         ],
         "legendgroup": "Dinamo Bucureşti",
         "marker": {
          "color": "rgb(141,160,203)",
          "size": [
           54
          ],
          "sizemode": "area",
          "sizeref": 0.30375,
          "symbol": "circle"
         },
         "mode": "markers",
         "name": "Dinamo Bucureşti",
         "orientation": "v",
         "showlegend": true,
         "textposition": "top center",
         "type": "scatter",
         "x": [
          21
         ],
         "xaxis": "x",
         "y": [
          24
         ],
         "yaxis": "y"
        },
        {
         "hovertemplate": "<b>%{hovertext}</b><br><br>Team=RB Leipzig<br>Number of Wins=%{x}<br>Number of Losses=%{y}<br>Number of Macthes Played=%{marker.size}<extra></extra>",
         "hovertext": [
          "RB Leipzig"
         ],
         "legendgroup": "RB Leipzig",
         "marker": {
          "color": "rgb(231,138,195)",
          "size": [
           46
          ],
          "sizemode": "area",
          "sizeref": 0.30375,
          "symbol": "circle"
         },
         "mode": "markers",
         "name": "RB Leipzig",
         "orientation": "v",
         "showlegend": true,
         "textposition": "top center",
         "type": "scatter",
         "x": [
          22
         ],
         "xaxis": "x",
         "y": [
          18
         ],
         "yaxis": "y"
        },
        {
         "hovertemplate": "<b>%{hovertext}</b><br><br>Team=Fenerbahçe<br>Number of Wins=%{x}<br>Number of Losses=%{y}<br>Number of Macthes Played=%{marker.size}<extra></extra>",
         "hovertext": [
          "Fenerbahçe"
         ],
         "legendgroup": "Fenerbahçe",
         "marker": {
          "color": "rgb(166,216,84)",
          "size": [
           73
          ],
          "sizemode": "area",
          "sizeref": 0.30375,
          "symbol": "circle"
         },
         "mode": "markers",
         "name": "Fenerbahçe",
         "orientation": "v",
         "showlegend": true,
         "textposition": "top center",
         "type": "scatter",
         "x": [
          20
         ],
         "xaxis": "x",
         "y": [
          43
         ],
         "yaxis": "y"
        },
        {
         "hovertemplate": "<b>%{hovertext}</b><br><br>Team=Leeds United<br>Number of Wins=%{x}<br>Number of Losses=%{y}<br>Number of Macthes Played=%{marker.size}<extra></extra>",
         "hovertext": [
          "Leeds United"
         ],
         "legendgroup": "Leeds United",
         "marker": {
          "color": "rgb(255,217,47)",
          "size": [
           38
          ],
          "sizemode": "area",
          "sizeref": 0.30375,
          "symbol": "circle"
         },
         "mode": "markers",
         "name": "Leeds United",
         "orientation": "v",
         "showlegend": true,
         "textposition": "top center",
         "type": "scatter",
         "x": [
          20
         ],
         "xaxis": "x",
         "y": [
          12
         ],
         "yaxis": "y"
        },
        {
         "hovertemplate": "<b>%{hovertext}</b><br><br>Team=ACF Fiorentina<br>Number of Wins=%{x}<br>Number of Losses=%{y}<br>Number of Macthes Played=%{marker.size}<extra></extra>",
         "hovertext": [
          "ACF Fiorentina"
         ],
         "legendgroup": "ACF Fiorentina",
         "marker": {
          "color": "rgb(229,196,148)",
          "size": [
           39
          ],
          "sizemode": "area",
          "sizeref": 0.30375,
          "symbol": "circle"
         },
         "mode": "markers",
         "name": "ACF Fiorentina",
         "orientation": "v",
         "showlegend": true,
         "textposition": "top center",
         "type": "scatter",
         "x": [
          18
         ],
         "xaxis": "x",
         "y": [
          9
         ],
         "yaxis": "y"
        },
        {
         "hovertemplate": "<b>%{hovertext}</b><br><br>Team=Górnik Zabrze<br>Number of Wins=%{x}<br>Number of Losses=%{y}<br>Number of Macthes Played=%{marker.size}<extra></extra>",
         "hovertext": [
          "Górnik Zabrze"
         ],
         "legendgroup": "Górnik Zabrze",
         "marker": {
          "color": "rgb(179,179,179)",
          "size": [
           43
          ],
          "sizemode": "area",
          "sizeref": 0.30375,
          "symbol": "circle"
         },
         "mode": "markers",
         "name": "Górnik Zabrze",
         "orientation": "v",
         "showlegend": true,
         "textposition": "top center",
         "type": "scatter",
         "x": [
          20
         ],
         "xaxis": "x",
         "y": [
          17
         ],
         "yaxis": "y"
        },
        {
         "hovertemplate": "<b>%{hovertext}</b><br><br>Team=Beşiktaş<br>Number of Wins=%{x}<br>Number of Losses=%{y}<br>Number of Macthes Played=%{marker.size}<extra></extra>",
         "hovertext": [
          "Beşiktaş"
         ],
         "legendgroup": "Beşiktaş",
         "marker": {
          "color": "rgb(102,194,165)",
          "size": [
           70
          ],
          "sizemode": "area",
          "sizeref": 0.30375,
          "symbol": "circle"
         },
         "mode": "markers",
         "name": "Beşiktaş",
         "orientation": "v",
         "showlegend": true,
         "textposition": "top center",
         "type": "scatter",
         "x": [
          17
         ],
         "xaxis": "x",
         "y": [
          40
         ],
         "yaxis": "y"
        },
        {
         "hovertemplate": "<b>%{hovertext}</b><br><br>Team=AS Saint-Étienne<br>Number of Wins=%{x}<br>Number of Losses=%{y}<br>Number of Macthes Played=%{marker.size}<extra></extra>",
         "hovertext": [
          "AS Saint-Étienne"
         ],
         "legendgroup": "AS Saint-Étienne",
         "marker": {
          "color": "rgb(252,141,98)",
          "size": [
           39
          ],
          "sizemode": "area",
          "sizeref": 0.30375,
          "symbol": "circle"
         },
         "mode": "markers",
         "name": "AS Saint-Étienne",
         "orientation": "v",
         "showlegend": true,
         "textposition": "top center",
         "type": "scatter",
         "x": [
          19
         ],
         "xaxis": "x",
         "y": [
          14
         ],
         "yaxis": "y"
        },
        {
         "hovertemplate": "<b>%{hovertext}</b><br><br>Team=Hamburger SV<br>Number of Wins=%{x}<br>Number of Losses=%{y}<br>Number of Macthes Played=%{marker.size}<extra></extra>",
         "hovertext": [
          "Hamburger SV"
         ],
         "legendgroup": "Hamburger SV",
         "marker": {
          "color": "rgb(141,160,203)",
          "size": [
           39
          ],
          "sizemode": "area",
          "sizeref": 0.30375,
          "symbol": "circle"
         },
         "mode": "markers",
         "name": "Hamburger SV",
         "orientation": "v",
         "showlegend": true,
         "textposition": "top center",
         "type": "scatter",
         "x": [
          18
         ],
         "xaxis": "x",
         "y": [
          15
         ],
         "yaxis": "y"
        },
        {
         "hovertemplate": "<b>%{hovertext}</b><br><br>Team=Újpest FC<br>Number of Wins=%{x}<br>Number of Losses=%{y}<br>Number of Macthes Played=%{marker.size}<extra></extra>",
         "hovertext": [
          "Újpest FC"
         ],
         "legendgroup": "Újpest FC",
         "marker": {
          "color": "rgb(231,138,195)",
          "size": [
           40
          ],
          "sizemode": "area",
          "sizeref": 0.30375,
          "symbol": "circle"
         },
         "mode": "markers",
         "name": "Újpest FC",
         "orientation": "v",
         "showlegend": true,
         "textposition": "top center",
         "type": "scatter",
         "x": [
          17
         ],
         "xaxis": "x",
         "y": [
          15
         ],
         "yaxis": "y"
        },
        {
         "hovertemplate": "<b>%{hovertext}</b><br><br>Team=Malmö FF<br>Number of Wins=%{x}<br>Number of Losses=%{y}<br>Number of Macthes Played=%{marker.size}<extra></extra>",
         "hovertext": [
          "Malmö FF"
         ],
         "legendgroup": "Malmö FF",
         "marker": {
          "color": "rgb(166,216,84)",
          "size": [
           53
          ],
          "sizemode": "area",
          "sizeref": 0.30375,
          "symbol": "circle"
         },
         "mode": "markers",
         "name": "Malmö FF",
         "orientation": "v",
         "showlegend": true,
         "textposition": "top center",
         "type": "scatter",
         "x": [
          14
         ],
         "xaxis": "x",
         "y": [
          28
         ],
         "yaxis": "y"
        },
        {
         "hovertemplate": "<b>%{hovertext}</b><br><br>Team=FC Nantes<br>Number of Wins=%{x}<br>Number of Losses=%{y}<br>Number of Macthes Played=%{marker.size}<extra></extra>",
         "hovertext": [
          "FC Nantes"
         ],
         "legendgroup": "FC Nantes",
         "marker": {
          "color": "rgb(255,217,47)",
          "size": [
           40
          ],
          "sizemode": "area",
          "sizeref": 0.30375,
          "symbol": "circle"
         },
         "mode": "markers",
         "name": "FC Nantes",
         "orientation": "v",
         "showlegend": true,
         "textposition": "top center",
         "type": "scatter",
         "x": [
          12
         ],
         "xaxis": "x",
         "y": [
          14
         ],
         "yaxis": "y"
        },
        {
         "hovertemplate": "<b>%{hovertext}</b><br><br>Team=BFC Dynamo<br>Number of Wins=%{x}<br>Number of Losses=%{y}<br>Number of Macthes Played=%{marker.size}<extra></extra>",
         "hovertext": [
          "BFC Dynamo"
         ],
         "legendgroup": "BFC Dynamo",
         "marker": {
          "color": "rgb(229,196,148)",
          "size": [
           36
          ],
          "sizemode": "area",
          "sizeref": 0.30375,
          "symbol": "circle"
         },
         "mode": "markers",
         "name": "BFC Dynamo",
         "orientation": "v",
         "showlegend": true,
         "textposition": "top center",
         "type": "scatter",
         "x": [
          14
         ],
         "xaxis": "x",
         "y": [
          15
         ],
         "yaxis": "y"
        },
        {
         "hovertemplate": "<b>%{hovertext}</b><br><br>Team=Villarreal CF<br>Number of Wins=%{x}<br>Number of Losses=%{y}<br>Number of Macthes Played=%{marker.size}<extra></extra>",
         "hovertext": [
          "Villarreal CF"
         ],
         "legendgroup": "Villarreal CF",
         "marker": {
          "color": "rgb(179,179,179)",
          "size": [
           40
          ],
          "sizemode": "area",
          "sizeref": 0.30375,
          "symbol": "circle"
         },
         "mode": "markers",
         "name": "Villarreal CF",
         "orientation": "v",
         "showlegend": true,
         "textposition": "top center",
         "type": "scatter",
         "x": [
          11
         ],
         "xaxis": "x",
         "y": [
          14
         ],
         "yaxis": "y"
        },
        {
         "hovertemplate": "<b>%{hovertext}</b><br><br>Team=Hajduk Split<br>Number of Wins=%{x}<br>Number of Losses=%{y}<br>Number of Macthes Played=%{marker.size}<extra></extra>",
         "hovertext": [
          "Hajduk Split"
         ],
         "legendgroup": "Hajduk Split",
         "marker": {
          "color": "rgb(102,194,165)",
          "size": [
           26
          ],
          "sizemode": "area",
          "sizeref": 0.30375,
          "symbol": "circle"
         },
         "mode": "markers",
         "name": "Hajduk Split",
         "orientation": "v",
         "showlegend": true,
         "textposition": "top center",
         "type": "scatter",
         "x": [
          14
         ],
         "xaxis": "x",
         "y": [
          7
         ],
         "yaxis": "y"
        },
        {
         "hovertemplate": "<b>%{hovertext}</b><br><br>Team=Legia Warszawa<br>Number of Wins=%{x}<br>Number of Losses=%{y}<br>Number of Macthes Played=%{marker.size}<extra></extra>",
         "hovertext": [
          "Legia Warszawa"
         ],
         "legendgroup": "Legia Warszawa",
         "marker": {
          "color": "rgb(252,141,98)",
          "size": [
           32
          ],
          "sizemode": "area",
          "sizeref": 0.30375,
          "symbol": "circle"
         },
         "mode": "markers",
         "name": "Legia Warszawa",
         "orientation": "v",
         "showlegend": true,
         "textposition": "top center",
         "type": "scatter",
         "x": [
          14
         ],
         "xaxis": "x",
         "y": [
          13
         ],
         "yaxis": "y"
        },
        {
         "hovertemplate": "<b>%{hovertext}</b><br><br>Team=Spartak Trnava<br>Number of Wins=%{x}<br>Number of Losses=%{y}<br>Number of Macthes Played=%{marker.size}<extra></extra>",
         "hovertext": [
          "Spartak Trnava"
         ],
         "legendgroup": "Spartak Trnava",
         "marker": {
          "color": "rgb(141,160,203)",
          "size": [
           24
          ],
          "sizemode": "area",
          "sizeref": 0.30375,
          "symbol": "circle"
         },
         "mode": "markers",
         "name": "Spartak Trnava",
         "orientation": "v",
         "showlegend": true,
         "textposition": "top center",
         "type": "scatter",
         "x": [
          13
         ],
         "xaxis": "x",
         "y": [
          4
         ],
         "yaxis": "y"
        },
        {
         "hovertemplate": "<b>%{hovertext}</b><br><br>Team=Partizan<br>Number of Wins=%{x}<br>Number of Losses=%{y}<br>Number of Macthes Played=%{marker.size}<extra></extra>",
         "hovertext": [
          "Partizan"
         ],
         "legendgroup": "Partizan",
         "marker": {
          "color": "rgb(231,138,195)",
          "size": [
           45
          ],
          "sizemode": "area",
          "sizeref": 0.30375,
          "symbol": "circle"
         },
         "mode": "markers",
         "name": "Partizan",
         "orientation": "v",
         "showlegend": true,
         "textposition": "top center",
         "type": "scatter",
         "x": [
          13
         ],
         "xaxis": "x",
         "y": [
          25
         ],
         "yaxis": "y"
        },
        {
         "hovertemplate": "<b>%{hovertext}</b><br><br>Team=AEK Athen<br>Number of Wins=%{x}<br>Number of Losses=%{y}<br>Number of Macthes Played=%{marker.size}<extra></extra>",
         "hovertext": [
          "AEK Athen"
         ],
         "legendgroup": "AEK Athen",
         "marker": {
          "color": "rgb(166,216,84)",
          "size": [
           56
          ],
          "sizemode": "area",
          "sizeref": 0.30375,
          "symbol": "circle"
         },
         "mode": "markers",
         "name": "AEK Athen",
         "orientation": "v",
         "showlegend": true,
         "textposition": "top center",
         "type": "scatter",
         "x": [
          9
         ],
         "xaxis": "x",
         "y": [
          28
         ],
         "yaxis": "y"
        },
        {
         "hovertemplate": "<b>%{hovertext}</b><br><br>Team=Stade Reims<br>Number of Wins=%{x}<br>Number of Losses=%{y}<br>Number of Macthes Played=%{marker.size}<extra></extra>",
         "hovertext": [
          "Stade Reims"
         ],
         "legendgroup": "Stade Reims",
         "marker": {
          "color": "rgb(255,217,47)",
          "size": [
           24
          ],
          "sizemode": "area",
          "sizeref": 0.30375,
          "symbol": "circle"
         },
         "mode": "markers",
         "name": "Stade Reims",
         "orientation": "v",
         "showlegend": true,
         "textposition": "top center",
         "type": "scatter",
         "x": [
          14
         ],
         "xaxis": "x",
         "y": [
          7
         ],
         "yaxis": "y"
        },
        {
         "hovertemplate": "<b>%{hovertext}</b><br><br>Team=FC København<br>Number of Wins=%{x}<br>Number of Losses=%{y}<br>Number of Macthes Played=%{marker.size}<extra></extra>",
         "hovertext": [
          "FC København"
         ],
         "legendgroup": "FC København",
         "marker": {
          "color": "rgb(229,196,148)",
          "size": [
           44
          ],
          "sizemode": "area",
          "sizeref": 0.30375,
          "symbol": "circle"
         },
         "mode": "markers",
         "name": "FC København",
         "orientation": "v",
         "showlegend": true,
         "textposition": "top center",
         "type": "scatter",
         "x": [
          11
         ],
         "xaxis": "x",
         "y": [
          21
         ],
         "yaxis": "y"
        },
        {
         "hovertemplate": "<b>%{hovertext}</b><br><br>Team=Budapesti Vasas<br>Number of Wins=%{x}<br>Number of Losses=%{y}<br>Number of Macthes Played=%{marker.size}<extra></extra>",
         "hovertext": [
          "Budapesti Vasas"
         ],
         "legendgroup": "Budapesti Vasas",
         "marker": {
          "color": "rgb(179,179,179)",
          "size": [
           27
          ],
          "sizemode": "area",
          "sizeref": 0.30375,
          "symbol": "circle"
         },
         "mode": "markers",
         "name": "Budapesti Vasas",
         "orientation": "v",
         "showlegend": true,
         "textposition": "top center",
         "type": "scatter",
         "x": [
          12
         ],
         "xaxis": "x",
         "y": [
          9
         ],
         "yaxis": "y"
        },
        {
         "hovertemplate": "<b>%{hovertext}</b><br><br>Team=Dynamo Dresden<br>Number of Wins=%{x}<br>Number of Losses=%{y}<br>Number of Macthes Played=%{marker.size}<extra></extra>",
         "hovertext": [
          "Dynamo Dresden"
         ],
         "legendgroup": "Dynamo Dresden",
         "marker": {
          "color": "rgb(102,194,165)",
          "size": [
           30
          ],
          "sizemode": "area",
          "sizeref": 0.30375,
          "symbol": "circle"
         },
         "mode": "markers",
         "name": "Dynamo Dresden",
         "orientation": "v",
         "showlegend": true,
         "textposition": "top center",
         "type": "scatter",
         "x": [
          12
         ],
         "xaxis": "x",
         "y": [
          12
         ],
         "yaxis": "y"
        },
        {
         "hovertemplate": "<b>%{hovertext}</b><br><br>Team=Lille OSC<br>Number of Wins=%{x}<br>Number of Losses=%{y}<br>Number of Macthes Played=%{marker.size}<extra></extra>",
         "hovertext": [
          "Lille OSC"
         ],
         "legendgroup": "Lille OSC",
         "marker": {
          "color": "rgb(252,141,98)",
          "size": [
           46
          ],
          "sizemode": "area",
          "sizeref": 0.30375,
          "symbol": "circle"
         },
         "mode": "markers",
         "name": "Lille OSC",
         "orientation": "v",
         "showlegend": true,
         "textposition": "top center",
         "type": "scatter",
         "x": [
          9
         ],
         "xaxis": "x",
         "y": [
          22
         ],
         "yaxis": "y"
        },
        {
         "hovertemplate": "<b>%{hovertext}</b><br><br>Team=Nottingham Forest<br>Number of Wins=%{x}<br>Number of Losses=%{y}<br>Number of Macthes Played=%{marker.size}<extra></extra>",
         "hovertext": [
          "Nottingham Forest"
         ],
         "legendgroup": "Nottingham Forest",
         "marker": {
          "color": "rgb(141,160,203)",
          "size": [
           20
          ],
          "sizemode": "area",
          "sizeref": 0.30375,
          "symbol": "circle"
         },
         "mode": "markers",
         "name": "Nottingham Forest",
         "orientation": "v",
         "showlegend": true,
         "textposition": "top center",
         "type": "scatter",
         "x": [
          12
         ],
         "xaxis": "x",
         "y": [
          4
         ],
         "yaxis": "y"
        },
        {
         "hovertemplate": "<b>%{hovertext}</b><br><br>Team=BSC Young Boys<br>Number of Wins=%{x}<br>Number of Losses=%{y}<br>Number of Macthes Played=%{marker.size}<extra></extra>",
         "hovertext": [
          "BSC Young Boys"
         ],
         "legendgroup": "BSC Young Boys",
         "marker": {
          "color": "rgb(231,138,195)",
          "size": [
           35
          ],
          "sizemode": "area",
          "sizeref": 0.30375,
          "symbol": "circle"
         },
         "mode": "markers",
         "name": "BSC Young Boys",
         "orientation": "v",
         "showlegend": true,
         "textposition": "top center",
         "type": "scatter",
         "x": [
          10
         ],
         "xaxis": "x",
         "y": [
          16
         ],
         "yaxis": "y"
        },
        {
         "hovertemplate": "<b>%{hovertext}</b><br><br>Team=FC Zürich<br>Number of Wins=%{x}<br>Number of Losses=%{y}<br>Number of Macthes Played=%{marker.size}<extra></extra>",
         "hovertext": [
          "FC Zürich"
         ],
         "legendgroup": "FC Zürich",
         "marker": {
          "color": "rgb(166,216,84)",
          "size": [
           33
          ],
          "sizemode": "area",
          "sizeref": 0.30375,
          "symbol": "circle"
         },
         "mode": "markers",
         "name": "FC Zürich",
         "orientation": "v",
         "showlegend": true,
         "textposition": "top center",
         "type": "scatter",
         "x": [
          12
         ],
         "xaxis": "x",
         "y": [
          18
         ],
         "yaxis": "y"
        },
        {
         "hovertemplate": "<b>%{hovertext}</b><br><br>Team=RB Salzburg<br>Number of Wins=%{x}<br>Number of Losses=%{y}<br>Number of Macthes Played=%{marker.size}<extra></extra>",
         "hovertext": [
          "RB Salzburg"
         ],
         "legendgroup": "RB Salzburg",
         "marker": {
          "color": "rgb(255,217,47)",
          "size": [
           38
          ],
          "sizemode": "area",
          "sizeref": 0.30375,
          "symbol": "circle"
         },
         "mode": "markers",
         "name": "RB Salzburg",
         "orientation": "v",
         "showlegend": true,
         "textposition": "top center",
         "type": "scatter",
         "x": [
          9
         ],
         "xaxis": "x",
         "y": [
          18
         ],
         "yaxis": "y"
        },
        {
         "hovertemplate": "<b>%{hovertext}</b><br><br>Team=Real Sociedad<br>Number of Wins=%{x}<br>Number of Losses=%{y}<br>Number of Macthes Played=%{marker.size}<extra></extra>",
         "hovertext": [
          "Real Sociedad"
         ],
         "legendgroup": "Real Sociedad",
         "marker": {
          "color": "rgb(229,196,148)",
          "size": [
           32
          ],
          "sizemode": "area",
          "sizeref": 0.30375,
          "symbol": "circle"
         },
         "mode": "markers",
         "name": "Real Sociedad",
         "orientation": "v",
         "showlegend": true,
         "textposition": "top center",
         "type": "scatter",
         "x": [
          9
         ],
         "xaxis": "x",
         "y": [
          14
         ],
         "yaxis": "y"
        },
        {
         "hovertemplate": "<b>%{hovertext}</b><br><br>Team=Ferencvárosi TC<br>Number of Wins=%{x}<br>Number of Losses=%{y}<br>Number of Macthes Played=%{marker.size}<extra></extra>",
         "hovertext": [
          "Ferencvárosi TC"
         ],
         "legendgroup": "Ferencvárosi TC",
         "marker": {
          "color": "rgb(179,179,179)",
          "size": [
           32
          ],
          "sizemode": "area",
          "sizeref": 0.30375,
          "symbol": "circle"
         },
         "mode": "markers",
         "name": "Ferencvárosi TC",
         "orientation": "v",
         "showlegend": true,
         "textposition": "top center",
         "type": "scatter",
         "x": [
          10
         ],
         "xaxis": "x",
         "y": [
          16
         ],
         "yaxis": "y"
        },
        {
         "hovertemplate": "<b>%{hovertext}</b><br><br>Team=Grasshopper Club Zürich<br>Number of Wins=%{x}<br>Number of Losses=%{y}<br>Number of Macthes Played=%{marker.size}<extra></extra>",
         "hovertext": [
          "Grasshopper Club Zürich"
         ],
         "legendgroup": "Grasshopper Club Zürich",
         "marker": {
          "color": "rgb(102,194,165)",
          "size": [
           38
          ],
          "sizemode": "area",
          "sizeref": 0.30375,
          "symbol": "circle"
         },
         "mode": "markers",
         "name": "Grasshopper Club Zürich",
         "orientation": "v",
         "showlegend": true,
         "textposition": "top center",
         "type": "scatter",
         "x": [
          9
         ],
         "xaxis": "x",
         "y": [
          21
         ],
         "yaxis": "y"
        },
        {
         "hovertemplate": "<b>%{hovertext}</b><br><br>Team=Lokomotiv Moskva<br>Number of Wins=%{x}<br>Number of Losses=%{y}<br>Number of Macthes Played=%{marker.size}<extra></extra>",
         "hovertext": [
          "Lokomotiv Moskva"
         ],
         "legendgroup": "Lokomotiv Moskva",
         "marker": {
          "color": "rgb(252,141,98)",
          "size": [
           44
          ],
          "sizemode": "area",
          "sizeref": 0.30375,
          "symbol": "circle"
         },
         "mode": "markers",
         "name": "Lokomotiv Moskva",
         "orientation": "v",
         "showlegend": true,
         "textposition": "top center",
         "type": "scatter",
         "x": [
          9
         ],
         "xaxis": "x",
         "y": [
          27
         ],
         "yaxis": "y"
        },
        {
         "hovertemplate": "<b>%{hovertext}</b><br><br>Team=Omonia Nikosia<br>Number of Wins=%{x}<br>Number of Losses=%{y}<br>Number of Macthes Played=%{marker.size}<extra></extra>",
         "hovertext": [
          "Omonia Nikosia"
         ],
         "legendgroup": "Omonia Nikosia",
         "marker": {
          "color": "rgb(141,160,203)",
          "size": [
           36
          ],
          "sizemode": "area",
          "sizeref": 0.30375,
          "symbol": "circle"
         },
         "mode": "markers",
         "name": "Omonia Nikosia",
         "orientation": "v",
         "showlegend": true,
         "textposition": "top center",
         "type": "scatter",
         "x": [
          11
         ],
         "xaxis": "x",
         "y": [
          23
         ],
         "yaxis": "y"
        },
        {
         "hovertemplate": "<b>%{hovertext}</b><br><br>Team=VfL Wolfsburg<br>Number of Wins=%{x}<br>Number of Losses=%{y}<br>Number of Macthes Played=%{marker.size}<extra></extra>",
         "hovertext": [
          "VfL Wolfsburg"
         ],
         "legendgroup": "VfL Wolfsburg",
         "marker": {
          "color": "rgb(231,138,195)",
          "size": [
           22
          ],
          "sizemode": "area",
          "sizeref": 0.30375,
          "symbol": "circle"
         },
         "mode": "markers",
         "name": "VfL Wolfsburg",
         "orientation": "v",
         "showlegend": true,
         "textposition": "top center",
         "type": "scatter",
         "x": [
          10
         ],
         "xaxis": "x",
         "y": [
          9
         ],
         "yaxis": "y"
        },
        {
         "hovertemplate": "<b>%{hovertext}</b><br><br>Team=Budapest Honvéd<br>Number of Wins=%{x}<br>Number of Losses=%{y}<br>Number of Macthes Played=%{marker.size}<extra></extra>",
         "hovertext": [
          "Budapest Honvéd"
         ],
         "legendgroup": "Budapest Honvéd",
         "marker": {
          "color": "rgb(166,216,84)",
          "size": [
           26
          ],
          "sizemode": "area",
          "sizeref": 0.30375,
          "symbol": "circle"
         },
         "mode": "markers",
         "name": "Budapest Honvéd",
         "orientation": "v",
         "showlegend": true,
         "textposition": "top center",
         "type": "scatter",
         "x": [
          10
         ],
         "xaxis": "x",
         "y": [
          13
         ],
         "yaxis": "y"
        },
        {
         "hovertemplate": "<b>%{hovertext}</b><br><br>Team=Dinamo Zagreb<br>Number of Wins=%{x}<br>Number of Losses=%{y}<br>Number of Macthes Played=%{marker.size}<extra></extra>",
         "hovertext": [
          "Dinamo Zagreb"
         ],
         "legendgroup": "Dinamo Zagreb",
         "marker": {
          "color": "rgb(255,217,47)",
          "size": [
           54
          ],
          "sizemode": "area",
          "sizeref": 0.30375,
          "symbol": "circle"
         },
         "mode": "markers",
         "name": "Dinamo Zagreb",
         "orientation": "v",
         "showlegend": true,
         "textposition": "top center",
         "type": "scatter",
         "x": [
          8
         ],
         "xaxis": "x",
         "y": [
          37
         ],
         "yaxis": "y"
        },
        {
         "hovertemplate": "<b>%{hovertext}</b><br><br>Team=Athletic Bilbao<br>Number of Wins=%{x}<br>Number of Losses=%{y}<br>Number of Macthes Played=%{marker.size}<extra></extra>",
         "hovertext": [
          "Athletic Bilbao"
         ],
         "legendgroup": "Athletic Bilbao",
         "marker": {
          "color": "rgb(229,196,148)",
          "size": [
           24
          ],
          "sizemode": "area",
          "sizeref": 0.30375,
          "symbol": "circle"
         },
         "mode": "markers",
         "name": "Athletic Bilbao",
         "orientation": "v",
         "showlegend": true,
         "textposition": "top center",
         "type": "scatter",
         "x": [
          8
         ],
         "xaxis": "x",
         "y": [
          9
         ],
         "yaxis": "y"
        },
        {
         "hovertemplate": "<b>%{hovertext}</b><br><br>Team=VfB Stuttgart<br>Number of Wins=%{x}<br>Number of Losses=%{y}<br>Number of Macthes Played=%{marker.size}<extra></extra>",
         "hovertext": [
          "VfB Stuttgart"
         ],
         "legendgroup": "VfB Stuttgart",
         "marker": {
          "color": "rgb(179,179,179)",
          "size": [
           27
          ],
          "sizemode": "area",
          "sizeref": 0.30375,
          "symbol": "circle"
         },
         "mode": "markers",
         "name": "VfB Stuttgart",
         "orientation": "v",
         "showlegend": true,
         "textposition": "top center",
         "type": "scatter",
         "x": [
          8
         ],
         "xaxis": "x",
         "y": [
          12
         ],
         "yaxis": "y"
        },
        {
         "hovertemplate": "<b>%{hovertext}</b><br><br>Team=Aston Villa<br>Number of Wins=%{x}<br>Number of Losses=%{y}<br>Number of Macthes Played=%{marker.size}<extra></extra>",
         "hovertext": [
          "Aston Villa"
         ],
         "legendgroup": "Aston Villa",
         "marker": {
          "color": "rgb(102,194,165)",
          "size": [
           15
          ],
          "sizemode": "area",
          "sizeref": 0.30375,
          "symbol": "circle"
         },
         "mode": "markers",
         "name": "Aston Villa",
         "orientation": "v",
         "showlegend": true,
         "textposition": "top center",
         "type": "scatter",
         "x": [
          9
         ],
         "xaxis": "x",
         "y": [
          3
         ],
         "yaxis": "y"
        },
        {
         "hovertemplate": "<b>%{hovertext}</b><br><br>Team=Atalanta<br>Number of Wins=%{x}<br>Number of Losses=%{y}<br>Number of Macthes Played=%{marker.size}<extra></extra>",
         "hovertext": [
          "Atalanta"
         ],
         "legendgroup": "Atalanta",
         "marker": {
          "color": "rgb(252,141,98)",
          "size": [
           23
          ],
          "sizemode": "area",
          "sizeref": 0.30375,
          "symbol": "circle"
         },
         "mode": "markers",
         "name": "Atalanta",
         "orientation": "v",
         "showlegend": true,
         "textposition": "top center",
         "type": "scatter",
         "x": [
          8
         ],
         "xaxis": "x",
         "y": [
          9
         ],
         "yaxis": "y"
        },
        {
         "hovertemplate": "<b>%{hovertext}</b><br><br>Team=1. FC Köln<br>Number of Wins=%{x}<br>Number of Losses=%{y}<br>Number of Macthes Played=%{marker.size}<extra></extra>",
         "hovertext": [
          "1. FC Köln"
         ],
         "legendgroup": "1. FC Köln",
         "marker": {
          "color": "rgb(141,160,203)",
          "size": [
           17
          ],
          "sizemode": "area",
          "sizeref": 0.30375,
          "symbol": "circle"
         },
         "mode": "markers",
         "name": "1. FC Köln",
         "orientation": "v",
         "showlegend": true,
         "textposition": "top center",
         "type": "scatter",
         "x": [
          7
         ],
         "xaxis": "x",
         "y": [
          2
         ],
         "yaxis": "y"
        },
        {
         "hovertemplate": "<b>%{hovertext}</b><br><br>Team=Newcastle United<br>Number of Wins=%{x}<br>Number of Losses=%{y}<br>Number of Macthes Played=%{marker.size}<extra></extra>",
         "hovertext": [
          "Newcastle United"
         ],
         "legendgroup": "Newcastle United",
         "marker": {
          "color": "rgb(231,138,195)",
          "size": [
           24
          ],
          "sizemode": "area",
          "sizeref": 0.30375,
          "symbol": "circle"
         },
         "mode": "markers",
         "name": "Newcastle United",
         "orientation": "v",
         "showlegend": true,
         "textposition": "top center",
         "type": "scatter",
         "x": [
          8
         ],
         "xaxis": "x",
         "y": [
          12
         ],
         "yaxis": "y"
        },
        {
         "hovertemplate": "<b>%{hovertext}</b><br><br>Team=Trabzonspor<br>Number of Wins=%{x}<br>Number of Losses=%{y}<br>Number of Macthes Played=%{marker.size}<extra></extra>",
         "hovertext": [
          "Trabzonspor"
         ],
         "legendgroup": "Trabzonspor",
         "marker": {
          "color": "rgb(166,216,84)",
          "size": [
           20
          ],
          "sizemode": "area",
          "sizeref": 0.30375,
          "symbol": "circle"
         },
         "mode": "markers",
         "name": "Trabzonspor",
         "orientation": "v",
         "showlegend": true,
         "textposition": "top center",
         "type": "scatter",
         "x": [
          7
         ],
         "xaxis": "x",
         "y": [
          8
         ],
         "yaxis": "y"
        },
        {
         "hovertemplate": "<b>%{hovertext}</b><br><br>Team=Linfield FC<br>Number of Wins=%{x}<br>Number of Losses=%{y}<br>Number of Macthes Played=%{marker.size}<extra></extra>",
         "hovertext": [
          "Linfield FC"
         ],
         "legendgroup": "Linfield FC",
         "marker": {
          "color": "rgb(255,217,47)",
          "size": [
           40
          ],
          "sizemode": "area",
          "sizeref": 0.30375,
          "symbol": "circle"
         },
         "mode": "markers",
         "name": "Linfield FC",
         "orientation": "v",
         "showlegend": true,
         "textposition": "top center",
         "type": "scatter",
         "x": [
          5
         ],
         "xaxis": "x",
         "y": [
          23
         ],
         "yaxis": "y"
        },
        {
         "hovertemplate": "<b>%{hovertext}</b><br><br>Team=APOEL Nikosia<br>Number of Wins=%{x}<br>Number of Losses=%{y}<br>Number of Macthes Played=%{marker.size}<extra></extra>",
         "hovertext": [
          "APOEL Nikosia"
         ],
         "legendgroup": "APOEL Nikosia",
         "marker": {
          "color": "rgb(229,196,148)",
          "size": [
           40
          ],
          "sizemode": "area",
          "sizeref": 0.30375,
          "symbol": "circle"
         },
         "mode": "markers",
         "name": "APOEL Nikosia",
         "orientation": "v",
         "showlegend": true,
         "textposition": "top center",
         "type": "scatter",
         "x": [
          5
         ],
         "xaxis": "x",
         "y": [
          24
         ],
         "yaxis": "y"
        },
        {
         "hovertemplate": "<b>%{hovertext}</b><br><br>Team=Eintracht Frankfurt<br>Number of Wins=%{x}<br>Number of Losses=%{y}<br>Number of Macthes Played=%{marker.size}<extra></extra>",
         "hovertext": [
          "Eintracht Frankfurt"
         ],
         "legendgroup": "Eintracht Frankfurt",
         "marker": {
          "color": "rgb(179,179,179)",
          "size": [
           15
          ],
          "sizemode": "area",
          "sizeref": 0.30375,
          "symbol": "circle"
         },
         "mode": "markers",
         "name": "Eintracht Frankfurt",
         "orientation": "v",
         "showlegend": true,
         "textposition": "top center",
         "type": "scatter",
         "x": [
          7
         ],
         "xaxis": "x",
         "y": [
          5
         ],
         "yaxis": "y"
        },
        {
         "hovertemplate": "<b>%{hovertext}</b><br><br>Team=RC Lens<br>Number of Wins=%{x}<br>Number of Losses=%{y}<br>Number of Macthes Played=%{marker.size}<extra></extra>",
         "hovertext": [
          "RC Lens"
         ],
         "legendgroup": "RC Lens",
         "marker": {
          "color": "rgb(102,194,165)",
          "size": [
           18
          ],
          "sizemode": "area",
          "sizeref": 0.30375,
          "symbol": "circle"
         },
         "mode": "markers",
         "name": "RC Lens",
         "orientation": "v",
         "showlegend": true,
         "textposition": "top center",
         "type": "scatter",
         "x": [
          6
         ],
         "xaxis": "x",
         "y": [
          6
         ],
         "yaxis": "y"
        },
        {
         "hovertemplate": "<b>%{hovertext}</b><br><br>Team=FC Wacker Innsbruck<br>Number of Wins=%{x}<br>Number of Losses=%{y}<br>Number of Macthes Played=%{marker.size}<extra></extra>",
         "hovertext": [
          "FC Wacker Innsbruck"
         ],
         "legendgroup": "FC Wacker Innsbruck",
         "marker": {
          "color": "rgb(252,141,98)",
          "size": [
           22
          ],
          "sizemode": "area",
          "sizeref": 0.30375,
          "symbol": "circle"
         },
         "mode": "markers",
         "name": "FC Wacker Innsbruck",
         "orientation": "v",
         "showlegend": true,
         "textposition": "top center",
         "type": "scatter",
         "x": [
          7
         ],
         "xaxis": "x",
         "y": [
          12
         ],
         "yaxis": "y"
        },
        {
         "hovertemplate": "<b>%{hovertext}</b><br><br>Team=OGC Nice<br>Number of Wins=%{x}<br>Number of Losses=%{y}<br>Number of Macthes Played=%{marker.size}<extra></extra>",
         "hovertext": [
          "OGC Nice"
         ],
         "legendgroup": "OGC Nice",
         "marker": {
          "color": "rgb(141,160,203)",
          "size": [
           14
          ],
          "sizemode": "area",
          "sizeref": 0.30375,
          "symbol": "circle"
         },
         "mode": "markers",
         "name": "OGC Nice",
         "orientation": "v",
         "showlegend": true,
         "textposition": "top center",
         "type": "scatter",
         "x": [
          7
         ],
         "xaxis": "x",
         "y": [
          5
         ],
         "yaxis": "y"
        },
        {
         "hovertemplate": "<b>%{hovertext}</b><br><br>Team=Slovan Bratislava<br>Number of Wins=%{x}<br>Number of Losses=%{y}<br>Number of Macthes Played=%{marker.size}<extra></extra>",
         "hovertext": [
          "Slovan Bratislava"
         ],
         "legendgroup": "Slovan Bratislava",
         "marker": {
          "color": "rgb(231,138,195)",
          "size": [
           16
          ],
          "sizemode": "area",
          "sizeref": 0.30375,
          "symbol": "circle"
         },
         "mode": "markers",
         "name": "Slovan Bratislava",
         "orientation": "v",
         "showlegend": true,
         "textposition": "top center",
         "type": "scatter",
         "x": [
          7
         ],
         "xaxis": "x",
         "y": [
          7
         ],
         "yaxis": "y"
        },
        {
         "hovertemplate": "<b>%{hovertext}</b><br><br>Team=Sturm Graz<br>Number of Wins=%{x}<br>Number of Losses=%{y}<br>Number of Macthes Played=%{marker.size}<extra></extra>",
         "hovertext": [
          "Sturm Graz"
         ],
         "legendgroup": "Sturm Graz",
         "marker": {
          "color": "rgb(166,216,84)",
          "size": [
           24
          ],
          "sizemode": "area",
          "sizeref": 0.30375,
          "symbol": "circle"
         },
         "mode": "markers",
         "name": "Sturm Graz",
         "orientation": "v",
         "showlegend": true,
         "textposition": "top center",
         "type": "scatter",
         "x": [
          7
         ],
         "xaxis": "x",
         "y": [
          15
         ],
         "yaxis": "y"
        },
        {
         "hovertemplate": "<b>%{hovertext}</b><br><br>Team=Győri ETO FC<br>Number of Wins=%{x}<br>Number of Losses=%{y}<br>Number of Macthes Played=%{marker.size}<extra></extra>",
         "hovertext": [
          "Győri ETO FC"
         ],
         "legendgroup": "Győri ETO FC",
         "marker": {
          "color": "rgb(255,217,47)",
          "size": [
           14
          ],
          "sizemode": "area",
          "sizeref": 0.30375,
          "symbol": "circle"
         },
         "mode": "markers",
         "name": "Győri ETO FC",
         "orientation": "v",
         "showlegend": true,
         "textposition": "top center",
         "type": "scatter",
         "x": [
          7
         ],
         "xaxis": "x",
         "y": [
          6
         ],
         "yaxis": "y"
        },
        {
         "hovertemplate": "<b>%{hovertext}</b><br><br>Team=Servette FC<br>Number of Wins=%{x}<br>Number of Losses=%{y}<br>Number of Macthes Played=%{marker.size}<extra></extra>",
         "hovertext": [
          "Servette FC"
         ],
         "legendgroup": "Servette FC",
         "marker": {
          "color": "rgb(229,196,148)",
          "size": [
           17
          ],
          "sizemode": "area",
          "sizeref": 0.30375,
          "symbol": "circle"
         },
         "mode": "markers",
         "name": "Servette FC",
         "orientation": "v",
         "showlegend": true,
         "textposition": "top center",
         "type": "scatter",
         "x": [
          6
         ],
         "xaxis": "x",
         "y": [
          7
         ],
         "yaxis": "y"
        },
        {
         "hovertemplate": "<b>%{hovertext}</b><br><br>Team=Aarhus GF<br>Number of Wins=%{x}<br>Number of Losses=%{y}<br>Number of Macthes Played=%{marker.size}<extra></extra>",
         "hovertext": [
          "Aarhus GF"
         ],
         "legendgroup": "Aarhus GF",
         "marker": {
          "color": "rgb(179,179,179)",
          "size": [
           18
          ],
          "sizemode": "area",
          "sizeref": 0.30375,
          "symbol": "circle"
         },
         "mode": "markers",
         "name": "Aarhus GF",
         "orientation": "v",
         "showlegend": true,
         "textposition": "top center",
         "type": "scatter",
         "x": [
          6
         ],
         "xaxis": "x",
         "y": [
          8
         ],
         "yaxis": "y"
        },
        {
         "hovertemplate": "<b>%{hovertext}</b><br><br>Team=1. FC Frankfurt (Oder)<br>Number of Wins=%{x}<br>Number of Losses=%{y}<br>Number of Macthes Played=%{marker.size}<extra></extra>",
         "hovertext": [
          "1. FC Frankfurt (Oder)"
         ],
         "legendgroup": "1. FC Frankfurt (Oder)",
         "marker": {
          "color": "rgb(102,194,165)",
          "size": [
           21
          ],
          "sizemode": "area",
          "sizeref": 0.30375,
          "symbol": "circle"
         },
         "mode": "markers",
         "name": "1. FC Frankfurt (Oder)",
         "orientation": "v",
         "showlegend": true,
         "textposition": "top center",
         "type": "scatter",
         "x": [
          7
         ],
         "xaxis": "x",
         "y": [
          12
         ],
         "yaxis": "y"
        },
        {
         "hovertemplate": "<b>%{hovertext}</b><br><br>Team=Lech Poznań<br>Number of Wins=%{x}<br>Number of Losses=%{y}<br>Number of Macthes Played=%{marker.size}<extra></extra>",
         "hovertext": [
          "Lech Poznań"
         ],
         "legendgroup": "Lech Poznań",
         "marker": {
          "color": "rgb(252,141,98)",
          "size": [
           16
          ],
          "sizemode": "area",
          "sizeref": 0.30375,
          "symbol": "circle"
         },
         "mode": "markers",
         "name": "Lech Poznań",
         "orientation": "v",
         "showlegend": true,
         "textposition": "top center",
         "type": "scatter",
         "x": [
          7
         ],
         "xaxis": "x",
         "y": [
          8
         ],
         "yaxis": "y"
        },
        {
         "hovertemplate": "<b>%{hovertext}</b><br><br>Team=AJ Auxerre<br>Number of Wins=%{x}<br>Number of Losses=%{y}<br>Number of Macthes Played=%{marker.size}<extra></extra>",
         "hovertext": [
          "AJ Auxerre"
         ],
         "legendgroup": "AJ Auxerre",
         "marker": {
          "color": "rgb(141,160,203)",
          "size": [
           20
          ],
          "sizemode": "area",
          "sizeref": 0.30375,
          "symbol": "circle"
         },
         "mode": "markers",
         "name": "AJ Auxerre",
         "orientation": "v",
         "showlegend": true,
         "textposition": "top center",
         "type": "scatter",
         "x": [
          7
         ],
         "xaxis": "x",
         "y": [
          12
         ],
         "yaxis": "y"
        },
        {
         "hovertemplate": "<b>%{hovertext}</b><br><br>Team=Jeunesse Esch<br>Number of Wins=%{x}<br>Number of Losses=%{y}<br>Number of Macthes Played=%{marker.size}<extra></extra>",
         "hovertext": [
          "Jeunesse Esch"
         ],
         "legendgroup": "Jeunesse Esch",
         "marker": {
          "color": "rgb(231,138,195)",
          "size": [
           39
          ],
          "sizemode": "area",
          "sizeref": 0.30375,
          "symbol": "circle"
         },
         "mode": "markers",
         "name": "Jeunesse Esch",
         "orientation": "v",
         "showlegend": true,
         "textposition": "top center",
         "type": "scatter",
         "x": [
          6
         ],
         "xaxis": "x",
         "y": [
          30
         ],
         "yaxis": "y"
        },
        {
         "hovertemplate": "<b>%{hovertext}</b><br><br>Team=Sampdoria<br>Number of Wins=%{x}<br>Number of Losses=%{y}<br>Number of Macthes Played=%{marker.size}<extra></extra>",
         "hovertext": [
          "Sampdoria"
         ],
         "legendgroup": "Sampdoria",
         "marker": {
          "color": "rgb(166,216,84)",
          "size": [
           11
          ],
          "sizemode": "area",
          "sizeref": 0.30375,
          "symbol": "circle"
         },
         "mode": "markers",
         "name": "Sampdoria",
         "orientation": "v",
         "showlegend": true,
         "textposition": "top center",
         "type": "scatter",
         "x": [
          6
         ],
         "xaxis": "x",
         "y": [
          3
         ],
         "yaxis": "y"
        },
        {
         "hovertemplate": "<b>%{hovertext}</b><br><br>Team=Derby County<br>Number of Wins=%{x}<br>Number of Losses=%{y}<br>Number of Macthes Played=%{marker.size}<extra></extra>",
         "hovertext": [
          "Derby County"
         ],
         "legendgroup": "Derby County",
         "marker": {
          "color": "rgb(255,217,47)",
          "size": [
           12
          ],
          "sizemode": "area",
          "sizeref": 0.30375,
          "symbol": "circle"
         },
         "mode": "markers",
         "name": "Derby County",
         "orientation": "v",
         "showlegend": true,
         "textposition": "top center",
         "type": "scatter",
         "x": [
          6
         ],
         "xaxis": "x",
         "y": [
          4
         ],
         "yaxis": "y"
        },
        {
         "hovertemplate": "<b>%{hovertext}</b><br><br>Team=1. FC Kaiserslautern<br>Number of Wins=%{x}<br>Number of Losses=%{y}<br>Number of Macthes Played=%{marker.size}<extra></extra>",
         "hovertext": [
          "1. FC Kaiserslautern"
         ],
         "legendgroup": "1. FC Kaiserslautern",
         "marker": {
          "color": "rgb(229,196,148)",
          "size": [
           12
          ],
          "sizemode": "area",
          "sizeref": 0.30375,
          "symbol": "circle"
         },
         "mode": "markers",
         "name": "1. FC Kaiserslautern",
         "orientation": "v",
         "showlegend": true,
         "textposition": "top center",
         "type": "scatter",
         "x": [
          6
         ],
         "xaxis": "x",
         "y": [
          4
         ],
         "yaxis": "y"
        },
        {
         "hovertemplate": "<b>%{hovertext}</b><br><br>Team=Brøndby IF<br>Number of Wins=%{x}<br>Number of Losses=%{y}<br>Number of Macthes Played=%{marker.size}<extra></extra>",
         "hovertext": [
          "Brøndby IF"
         ],
         "legendgroup": "Brøndby IF",
         "marker": {
          "color": "rgb(179,179,179)",
          "size": [
           20
          ],
          "sizemode": "area",
          "sizeref": 0.30375,
          "symbol": "circle"
         },
         "mode": "markers",
         "name": "Brøndby IF",
         "orientation": "v",
         "showlegend": true,
         "textposition": "top center",
         "type": "scatter",
         "x": [
          5
         ],
         "xaxis": "x",
         "y": [
          10
         ],
         "yaxis": "y"
        },
        {
         "hovertemplate": "<b>%{hovertext}</b><br><br>Team=HJK Helsinki<br>Number of Wins=%{x}<br>Number of Losses=%{y}<br>Number of Macthes Played=%{marker.size}<extra></extra>",
         "hovertext": [
          "HJK Helsinki"
         ],
         "legendgroup": "HJK Helsinki",
         "marker": {
          "color": "rgb(102,194,165)",
          "size": [
           28
          ],
          "sizemode": "area",
          "sizeref": 0.30375,
          "symbol": "circle"
         },
         "mode": "markers",
         "name": "HJK Helsinki",
         "orientation": "v",
         "showlegend": true,
         "textposition": "top center",
         "type": "scatter",
         "x": [
          6
         ],
         "xaxis": "x",
         "y": [
          20
         ],
         "yaxis": "y"
        },
        {
         "hovertemplate": "<b>%{hovertext}</b><br><br>Team=Erzgebirge Aue<br>Number of Wins=%{x}<br>Number of Losses=%{y}<br>Number of Macthes Played=%{marker.size}<extra></extra>",
         "hovertext": [
          "Erzgebirge Aue"
         ],
         "legendgroup": "Erzgebirge Aue",
         "marker": {
          "color": "rgb(252,141,98)",
          "size": [
           16
          ],
          "sizemode": "area",
          "sizeref": 0.30375,
          "symbol": "circle"
         },
         "mode": "markers",
         "name": "Erzgebirge Aue",
         "orientation": "v",
         "showlegend": true,
         "textposition": "top center",
         "type": "scatter",
         "x": [
          5
         ],
         "xaxis": "x",
         "y": [
          7
         ],
         "yaxis": "y"
        },
        {
         "hovertemplate": "<b>%{hovertext}</b><br><br>Team=Aberdeen FC<br>Number of Wins=%{x}<br>Number of Losses=%{y}<br>Number of Macthes Played=%{marker.size}<extra></extra>",
         "hovertext": [
          "Aberdeen FC"
         ],
         "legendgroup": "Aberdeen FC",
         "marker": {
          "color": "rgb(141,160,203)",
          "size": [
           12
          ],
          "sizemode": "area",
          "sizeref": 0.30375,
          "symbol": "circle"
         },
         "mode": "markers",
         "name": "Aberdeen FC",
         "orientation": "v",
         "showlegend": true,
         "textposition": "top center",
         "type": "scatter",
         "x": [
          5
         ],
         "xaxis": "x",
         "y": [
          3
         ],
         "yaxis": "y"
        },
        {
         "hovertemplate": "<b>%{hovertext}</b><br><br>Team=Ruch Chorzów<br>Number of Wins=%{x}<br>Number of Losses=%{y}<br>Number of Macthes Played=%{marker.size}<extra></extra>",
         "hovertext": [
          "Ruch Chorzów"
         ],
         "legendgroup": "Ruch Chorzów",
         "marker": {
          "color": "rgb(231,138,195)",
          "size": [
           14
          ],
          "sizemode": "area",
          "sizeref": 0.30375,
          "symbol": "circle"
         },
         "mode": "markers",
         "name": "Ruch Chorzów",
         "orientation": "v",
         "showlegend": true,
         "textposition": "top center",
         "type": "scatter",
         "x": [
          5
         ],
         "xaxis": "x",
         "y": [
          5
         ],
         "yaxis": "y"
        },
        {
         "hovertemplate": "<b>%{hovertext}</b><br><br>Team=BATE Borisov<br>Number of Wins=%{x}<br>Number of Losses=%{y}<br>Number of Macthes Played=%{marker.size}<extra></extra>",
         "hovertext": [
          "BATE Borisov"
         ],
         "legendgroup": "BATE Borisov",
         "marker": {
          "color": "rgb(166,216,84)",
          "size": [
           30
          ],
          "sizemode": "area",
          "sizeref": 0.30375,
          "symbol": "circle"
         },
         "mode": "markers",
         "name": "BATE Borisov",
         "orientation": "v",
         "showlegend": true,
         "textposition": "top center",
         "type": "scatter",
         "x": [
          4
         ],
         "xaxis": "x",
         "y": [
          19
         ],
         "yaxis": "y"
        },
        {
         "hovertemplate": "<b>%{hovertext}</b><br><br>Team=Dnipro Dnipropetrovsk<br>Number of Wins=%{x}<br>Number of Losses=%{y}<br>Number of Macthes Played=%{marker.size}<extra></extra>",
         "hovertext": [
          "Dnipro Dnipropetrovsk"
         ],
         "legendgroup": "Dnipro Dnipropetrovsk",
         "marker": {
          "color": "rgb(255,217,47)",
          "size": [
           12
          ],
          "sizemode": "area",
          "sizeref": 0.30375,
          "symbol": "circle"
         },
         "mode": "markers",
         "name": "Dnipro Dnipropetrovsk",
         "orientation": "v",
         "showlegend": true,
         "textposition": "top center",
         "type": "scatter",
         "x": [
          5
         ],
         "xaxis": "x",
         "y": [
          4
         ],
         "yaxis": "y"
        },
        {
         "hovertemplate": "<b>%{hovertext}</b><br><br>Team=Baník Ostrava<br>Number of Wins=%{x}<br>Number of Losses=%{y}<br>Number of Macthes Played=%{marker.size}<extra></extra>",
         "hovertext": [
          "Baník Ostrava"
         ],
         "legendgroup": "Baník Ostrava",
         "marker": {
          "color": "rgb(229,196,148)",
          "size": [
           14
          ],
          "sizemode": "area",
          "sizeref": 0.30375,
          "symbol": "circle"
         },
         "mode": "markers",
         "name": "Baník Ostrava",
         "orientation": "v",
         "showlegend": true,
         "textposition": "top center",
         "type": "scatter",
         "x": [
          5
         ],
         "xaxis": "x",
         "y": [
          6
         ],
         "yaxis": "y"
        },
        {
         "hovertemplate": "<b>%{hovertext}</b><br><br>Team=CFR Cluj<br>Number of Wins=%{x}<br>Number of Losses=%{y}<br>Number of Macthes Played=%{marker.size}<extra></extra>",
         "hovertext": [
          "CFR Cluj"
         ],
         "legendgroup": "CFR Cluj",
         "marker": {
          "color": "rgb(179,179,179)",
          "size": [
           18
          ],
          "sizemode": "area",
          "sizeref": 0.30375,
          "symbol": "circle"
         },
         "mode": "markers",
         "name": "CFR Cluj",
         "orientation": "v",
         "showlegend": true,
         "textposition": "top center",
         "type": "scatter",
         "x": [
          5
         ],
         "xaxis": "x",
         "y": [
          10
         ],
         "yaxis": "y"
        },
        {
         "hovertemplate": "<b>%{hovertext}</b><br><br>Team=Boavista<br>Number of Wins=%{x}<br>Number of Losses=%{y}<br>Number of Macthes Played=%{marker.size}<extra></extra>",
         "hovertext": [
          "Boavista"
         ],
         "legendgroup": "Boavista",
         "marker": {
          "color": "rgb(102,194,165)",
          "size": [
           18
          ],
          "sizemode": "area",
          "sizeref": 0.30375,
          "symbol": "circle"
         },
         "mode": "markers",
         "name": "Boavista",
         "orientation": "v",
         "showlegend": true,
         "textposition": "top center",
         "type": "scatter",
         "x": [
          4
         ],
         "xaxis": "x",
         "y": [
          8
         ],
         "yaxis": "y"
        },
        {
         "hovertemplate": "<b>%{hovertext}</b><br><br>Team=Leicester City<br>Number of Wins=%{x}<br>Number of Losses=%{y}<br>Number of Macthes Played=%{marker.size}<extra></extra>",
         "hovertext": [
          "Leicester City"
         ],
         "legendgroup": "Leicester City",
         "marker": {
          "color": "rgb(252,141,98)",
          "size": [
           10
          ],
          "sizemode": "area",
          "sizeref": 0.30375,
          "symbol": "circle"
         },
         "mode": "markers",
         "name": "Leicester City",
         "orientation": "v",
         "showlegend": true,
         "textposition": "top center",
         "type": "scatter",
         "x": [
          5
         ],
         "xaxis": "x",
         "y": [
          3
         ],
         "yaxis": "y"
        },
        {
         "hovertemplate": "<b>%{hovertext}</b><br><br>Team=Widzew Łódź<br>Number of Wins=%{x}<br>Number of Losses=%{y}<br>Number of Macthes Played=%{marker.size}<extra></extra>",
         "hovertext": [
          "Widzew Łódź"
         ],
         "legendgroup": "Widzew Łódź",
         "marker": {
          "color": "rgb(141,160,203)",
          "size": [
           16
          ],
          "sizemode": "area",
          "sizeref": 0.30375,
          "symbol": "circle"
         },
         "mode": "markers",
         "name": "Widzew Łódź",
         "orientation": "v",
         "showlegend": true,
         "textposition": "top center",
         "type": "scatter",
         "x": [
          5
         ],
         "xaxis": "x",
         "y": [
          9
         ],
         "yaxis": "y"
        },
        {
         "hovertemplate": "<b>%{hovertext}</b><br><br>Team=Levski Sofia<br>Number of Wins=%{x}<br>Number of Losses=%{y}<br>Number of Macthes Played=%{marker.size}<extra></extra>",
         "hovertext": [
          "Levski Sofia"
         ],
         "legendgroup": "Levski Sofia",
         "marker": {
          "color": "rgb(231,138,195)",
          "size": [
           28
          ],
          "sizemode": "area",
          "sizeref": 0.30375,
          "symbol": "circle"
         },
         "mode": "markers",
         "name": "Levski Sofia",
         "orientation": "v",
         "showlegend": true,
         "textposition": "top center",
         "type": "scatter",
         "x": [
          4
         ],
         "xaxis": "x",
         "y": [
          19
         ],
         "yaxis": "y"
        },
        {
         "hovertemplate": "<b>%{hovertext}</b><br><br>Team=Dundee United<br>Number of Wins=%{x}<br>Number of Losses=%{y}<br>Number of Macthes Played=%{marker.size}<extra></extra>",
         "hovertext": [
          "Dundee United"
         ],
         "legendgroup": "Dundee United",
         "marker": {
          "color": "rgb(166,216,84)",
          "size": [
           8
          ],
          "sizemode": "area",
          "sizeref": 0.30375,
          "symbol": "circle"
         },
         "mode": "markers",
         "name": "Dundee United",
         "orientation": "v",
         "showlegend": true,
         "textposition": "top center",
         "type": "scatter",
         "x": [
          5
         ],
         "xaxis": "x",
         "y": [
          2
         ],
         "yaxis": "y"
        },
        {
         "hovertemplate": "<b>%{hovertext}</b><br><br>Team=Málaga CF<br>Number of Wins=%{x}<br>Number of Losses=%{y}<br>Number of Macthes Played=%{marker.size}<extra></extra>",
         "hovertext": [
          "Málaga CF"
         ],
         "legendgroup": "Málaga CF",
         "marker": {
          "color": "rgb(255,217,47)",
          "size": [
           10
          ],
          "sizemode": "area",
          "sizeref": 0.30375,
          "symbol": "circle"
         },
         "mode": "markers",
         "name": "Málaga CF",
         "orientation": "v",
         "showlegend": true,
         "textposition": "top center",
         "type": "scatter",
         "x": [
          4
         ],
         "xaxis": "x",
         "y": [
          2
         ],
         "yaxis": "y"
        },
        {
         "hovertemplate": "<b>%{hovertext}</b><br><br>Team=MTK Budapest<br>Number of Wins=%{x}<br>Number of Losses=%{y}<br>Number of Macthes Played=%{marker.size}<extra></extra>",
         "hovertext": [
          "MTK Budapest"
         ],
         "legendgroup": "MTK Budapest",
         "marker": {
          "color": "rgb(229,196,148)",
          "size": [
           10
          ],
          "sizemode": "area",
          "sizeref": 0.30375,
          "symbol": "circle"
         },
         "mode": "markers",
         "name": "MTK Budapest",
         "orientation": "v",
         "showlegend": true,
         "textposition": "top center",
         "type": "scatter",
         "x": [
          5
         ],
         "xaxis": "x",
         "y": [
          4
         ],
         "yaxis": "y"
        },
        {
         "hovertemplate": "<b>%{hovertext}</b><br><br>Team=Wiener Sport-Club<br>Number of Wins=%{x}<br>Number of Losses=%{y}<br>Number of Macthes Played=%{marker.size}<extra></extra>",
         "hovertext": [
          "Wiener Sport-Club"
         ],
         "legendgroup": "Wiener Sport-Club",
         "marker": {
          "color": "rgb(179,179,179)",
          "size": [
           12
          ],
          "sizemode": "area",
          "sizeref": 0.30375,
          "symbol": "circle"
         },
         "mode": "markers",
         "name": "Wiener Sport-Club",
         "orientation": "v",
         "showlegend": true,
         "textposition": "top center",
         "type": "scatter",
         "x": [
          4
         ],
         "xaxis": "x",
         "y": [
          4
         ],
         "yaxis": "y"
        },
        {
         "hovertemplate": "<b>%{hovertext}</b><br><br>Team=1. FC Nürnberg<br>Number of Wins=%{x}<br>Number of Losses=%{y}<br>Number of Macthes Played=%{marker.size}<extra></extra>",
         "hovertext": [
          "1. FC Nürnberg"
         ],
         "legendgroup": "1. FC Nürnberg",
         "marker": {
          "color": "rgb(102,194,165)",
          "size": [
           8
          ],
          "sizemode": "area",
          "sizeref": 0.30375,
          "symbol": "circle"
         },
         "mode": "markers",
         "name": "1. FC Nürnberg",
         "orientation": "v",
         "showlegend": true,
         "textposition": "top center",
         "type": "scatter",
         "x": [
          5
         ],
         "xaxis": "x",
         "y": [
          2
         ],
         "yaxis": "y"
        },
        {
         "hovertemplate": "<b>%{hovertext}</b><br><br>Team=Vojvodina<br>Number of Wins=%{x}<br>Number of Losses=%{y}<br>Number of Macthes Played=%{marker.size}<extra></extra>",
         "hovertext": [
          "Vojvodina"
         ],
         "legendgroup": "Vojvodina",
         "marker": {
          "color": "rgb(252,141,98)",
          "size": [
           9
          ],
          "sizemode": "area",
          "sizeref": 0.30375,
          "symbol": "circle"
         },
         "mode": "markers",
         "name": "Vojvodina",
         "orientation": "v",
         "showlegend": true,
         "textposition": "top center",
         "type": "scatter",
         "x": [
          5
         ],
         "xaxis": "x",
         "y": [
          3
         ],
         "yaxis": "y"
        },
        {
         "hovertemplate": "<b>%{hovertext}</b><br><br>Team=FC Kuusysi (old)<br>Number of Wins=%{x}<br>Number of Losses=%{y}<br>Number of Macthes Played=%{marker.size}<extra></extra>",
         "hovertext": [
          "FC Kuusysi (old)"
         ],
         "legendgroup": "FC Kuusysi (old)",
         "marker": {
          "color": "rgb(141,160,203)",
          "size": [
           14
          ],
          "sizemode": "area",
          "sizeref": 0.30375,
          "symbol": "circle"
         },
         "mode": "markers",
         "name": "FC Kuusysi (old)",
         "orientation": "v",
         "showlegend": true,
         "textposition": "top center",
         "type": "scatter",
         "x": [
          5
         ],
         "xaxis": "x",
         "y": [
          8
         ],
         "yaxis": "y"
        },
        {
         "hovertemplate": "<b>%{hovertext}</b><br><br>Team=Sporting Braga<br>Number of Wins=%{x}<br>Number of Losses=%{y}<br>Number of Macthes Played=%{marker.size}<extra></extra>",
         "hovertext": [
          "Sporting Braga"
         ],
         "legendgroup": "Sporting Braga",
         "marker": {
          "color": "rgb(231,138,195)",
          "size": [
           18
          ],
          "sizemode": "area",
          "sizeref": 0.30375,
          "symbol": "circle"
         },
         "mode": "markers",
         "name": "Sporting Braga",
         "orientation": "v",
         "showlegend": true,
         "textposition": "top center",
         "type": "scatter",
         "x": [
          5
         ],
         "xaxis": "x",
         "y": [
          12
         ],
         "yaxis": "y"
        },
        {
         "hovertemplate": "<b>%{hovertext}</b><br><br>Team=FC Ararat<br>Number of Wins=%{x}<br>Number of Losses=%{y}<br>Number of Macthes Played=%{marker.size}<extra></extra>",
         "hovertext": [
          "FC Ararat"
         ],
         "legendgroup": "FC Ararat",
         "marker": {
          "color": "rgb(166,216,84)",
          "size": [
           6
          ],
          "sizemode": "area",
          "sizeref": 0.30375,
          "symbol": "circle"
         },
         "mode": "markers",
         "name": "FC Ararat",
         "orientation": "v",
         "showlegend": true,
         "textposition": "top center",
         "type": "scatter",
         "x": [
          5
         ],
         "xaxis": "x",
         "y": [
          1
         ],
         "yaxis": "y"
        },
        {
         "hovertemplate": "<b>%{hovertext}</b><br><br>Team=Dundee FC<br>Number of Wins=%{x}<br>Number of Losses=%{y}<br>Number of Macthes Played=%{marker.size}<extra></extra>",
         "hovertext": [
          "Dundee FC"
         ],
         "legendgroup": "Dundee FC",
         "marker": {
          "color": "rgb(255,217,47)",
          "size": [
           8
          ],
          "sizemode": "area",
          "sizeref": 0.30375,
          "symbol": "circle"
         },
         "mode": "markers",
         "name": "Dundee FC",
         "orientation": "v",
         "showlegend": true,
         "textposition": "top center",
         "type": "scatter",
         "x": [
          5
         ],
         "xaxis": "x",
         "y": [
          3
         ],
         "yaxis": "y"
        },
        {
         "hovertemplate": "<b>%{hovertext}</b><br><br>Team=FC Carl Zeiss Jena<br>Number of Wins=%{x}<br>Number of Losses=%{y}<br>Number of Macthes Played=%{marker.size}<extra></extra>",
         "hovertext": [
          "FC Carl Zeiss Jena"
         ],
         "legendgroup": "FC Carl Zeiss Jena",
         "marker": {
          "color": "rgb(229,196,148)",
          "size": [
           8
          ],
          "sizemode": "area",
          "sizeref": 0.30375,
          "symbol": "circle"
         },
         "mode": "markers",
         "name": "FC Carl Zeiss Jena",
         "orientation": "v",
         "showlegend": true,
         "textposition": "top center",
         "type": "scatter",
         "x": [
          5
         ],
         "xaxis": "x",
         "y": [
          3
         ],
         "yaxis": "y"
        },
        {
         "hovertemplate": "<b>%{hovertext}</b><br><br>Team=Glentoran FC<br>Number of Wins=%{x}<br>Number of Losses=%{y}<br>Number of Macthes Played=%{marker.size}<extra></extra>",
         "hovertext": [
          "Glentoran FC"
         ],
         "legendgroup": "Glentoran FC",
         "marker": {
          "color": "rgb(179,179,179)",
          "size": [
           20
          ],
          "sizemode": "area",
          "sizeref": 0.30375,
          "symbol": "circle"
         },
         "mode": "markers",
         "name": "Glentoran FC",
         "orientation": "v",
         "showlegend": true,
         "textposition": "top center",
         "type": "scatter",
         "x": [
          3
         ],
         "xaxis": "x",
         "y": [
          11
         ],
         "yaxis": "y"
        },
        {
         "hovertemplate": "<b>%{hovertext}</b><br><br>Team=Viktoria Plzeň<br>Number of Wins=%{x}<br>Number of Losses=%{y}<br>Number of Macthes Played=%{marker.size}<extra></extra>",
         "hovertext": [
          "Viktoria Plzeň"
         ],
         "legendgroup": "Viktoria Plzeň",
         "marker": {
          "color": "rgb(102,194,165)",
          "size": [
           24
          ],
          "sizemode": "area",
          "sizeref": 0.30375,
          "symbol": "circle"
         },
         "mode": "markers",
         "name": "Viktoria Plzeň",
         "orientation": "v",
         "showlegend": true,
         "textposition": "top center",
         "type": "scatter",
         "x": [
          4
         ],
         "xaxis": "x",
         "y": [
          17
         ],
         "yaxis": "y"
        },
        {
         "hovertemplate": "<b>%{hovertext}</b><br><br>Team=FC Universitatea Craiova<br>Number of Wins=%{x}<br>Number of Losses=%{y}<br>Number of Macthes Played=%{marker.size}<extra></extra>",
         "hovertext": [
          "FC Universitatea Craiova"
         ],
         "legendgroup": "FC Universitatea Craiova",
         "marker": {
          "color": "rgb(252,141,98)",
          "size": [
           12
          ],
          "sizemode": "area",
          "sizeref": 0.30375,
          "symbol": "circle"
         },
         "mode": "markers",
         "name": "FC Universitatea Craiova",
         "orientation": "v",
         "showlegend": true,
         "textposition": "top center",
         "type": "scatter",
         "x": [
          4
         ],
         "xaxis": "x",
         "y": [
          6
         ],
         "yaxis": "y"
        },
        {
         "hovertemplate": "<b>%{hovertext}</b><br><br>Team=Lillestrøm SK<br>Number of Wins=%{x}<br>Number of Losses=%{y}<br>Number of Macthes Played=%{marker.size}<extra></extra>",
         "hovertext": [
          "Lillestrøm SK"
         ],
         "legendgroup": "Lillestrøm SK",
         "marker": {
          "color": "rgb(141,160,203)",
          "size": [
           12
          ],
          "sizemode": "area",
          "sizeref": 0.30375,
          "symbol": "circle"
         },
         "mode": "markers",
         "name": "Lillestrøm SK",
         "orientation": "v",
         "showlegend": true,
         "textposition": "top center",
         "type": "scatter",
         "x": [
          3
         ],
         "xaxis": "x",
         "y": [
          4
         ],
         "yaxis": "y"
        },
        {
         "hovertemplate": "<b>%{hovertext}</b><br><br>Team=AFC DWS<br>Number of Wins=%{x}<br>Number of Losses=%{y}<br>Number of Macthes Played=%{marker.size}<extra></extra>",
         "hovertext": [
          "AFC DWS"
         ],
         "legendgroup": "AFC DWS",
         "marker": {
          "color": "rgb(231,138,195)",
          "size": [
           6
          ],
          "sizemode": "area",
          "sizeref": 0.30375,
          "symbol": "circle"
         },
         "mode": "markers",
         "name": "AFC DWS",
         "orientation": "v",
         "showlegend": true,
         "textposition": "top center",
         "type": "scatter",
         "x": [
          4
         ],
         "xaxis": "x",
         "y": [
          1
         ],
         "yaxis": "y"
        },
        {
         "hovertemplate": "<b>%{hovertext}</b><br><br>Team=Vejle BK<br>Number of Wins=%{x}<br>Number of Losses=%{y}<br>Number of Macthes Played=%{marker.size}<extra></extra>",
         "hovertext": [
          "Vejle BK"
         ],
         "legendgroup": "Vejle BK",
         "marker": {
          "color": "rgb(166,216,84)",
          "size": [
           12
          ],
          "sizemode": "area",
          "sizeref": 0.30375,
          "symbol": "circle"
         },
         "mode": "markers",
         "name": "Vejle BK",
         "orientation": "v",
         "showlegend": true,
         "textposition": "top center",
         "type": "scatter",
         "x": [
          3
         ],
         "xaxis": "x",
         "y": [
          5
         ],
         "yaxis": "y"
        },
        {
         "hovertemplate": "<b>%{hovertext}</b><br><br>Team=Sliema Wanderers<br>Number of Wins=%{x}<br>Number of Losses=%{y}<br>Number of Macthes Played=%{marker.size}<extra></extra>",
         "hovertext": [
          "Sliema Wanderers"
         ],
         "legendgroup": "Sliema Wanderers",
         "marker": {
          "color": "rgb(255,217,47)",
          "size": [
           14
          ],
          "sizemode": "area",
          "sizeref": 0.30375,
          "symbol": "circle"
         },
         "mode": "markers",
         "name": "Sliema Wanderers",
         "orientation": "v",
         "showlegend": true,
         "textposition": "top center",
         "type": "scatter",
         "x": [
          4
         ],
         "xaxis": "x",
         "y": [
          9
         ],
         "yaxis": "y"
        },
        {
         "hovertemplate": "<b>%{hovertext}</b><br><br>Team=Argeș Pitești<br>Number of Wins=%{x}<br>Number of Losses=%{y}<br>Number of Macthes Played=%{marker.size}<extra></extra>",
         "hovertext": [
          "Argeș Pitești"
         ],
         "legendgroup": "Argeș Pitești",
         "marker": {
          "color": "rgb(229,196,148)",
          "size": [
           8
          ],
          "sizemode": "area",
          "sizeref": 0.30375,
          "symbol": "circle"
         },
         "mode": "markers",
         "name": "Argeș Pitești",
         "orientation": "v",
         "showlegend": true,
         "textposition": "top center",
         "type": "scatter",
         "x": [
          4
         ],
         "xaxis": "x",
         "y": [
          4
         ],
         "yaxis": "y"
        },
        {
         "hovertemplate": "<b>%{hovertext}</b><br><br>Team=Dinamo Minsk<br>Number of Wins=%{x}<br>Number of Losses=%{y}<br>Number of Macthes Played=%{marker.size}<extra></extra>",
         "hovertext": [
          "Dinamo Minsk"
         ],
         "legendgroup": "Dinamo Minsk",
         "marker": {
          "color": "rgb(179,179,179)",
          "size": [
           8
          ],
          "sizemode": "area",
          "sizeref": 0.30375,
          "symbol": "circle"
         },
         "mode": "markers",
         "name": "Dinamo Minsk",
         "orientation": "v",
         "showlegend": true,
         "textposition": "top center",
         "type": "scatter",
         "x": [
          3
         ],
         "xaxis": "x",
         "y": [
          2
         ],
         "yaxis": "y"
        },
        {
         "hovertemplate": "<b>%{hovertext}</b><br><br>Team=Neuchâtel Xamax FCS<br>Number of Wins=%{x}<br>Number of Losses=%{y}<br>Number of Macthes Played=%{marker.size}<extra></extra>",
         "hovertext": [
          "Neuchâtel Xamax FCS"
         ],
         "legendgroup": "Neuchâtel Xamax FCS",
         "marker": {
          "color": "rgb(102,194,165)",
          "size": [
           8
          ],
          "sizemode": "area",
          "sizeref": 0.30375,
          "symbol": "circle"
         },
         "mode": "markers",
         "name": "Neuchâtel Xamax FCS",
         "orientation": "v",
         "showlegend": true,
         "textposition": "top center",
         "type": "scatter",
         "x": [
          4
         ],
         "xaxis": "x",
         "y": [
          4
         ],
         "yaxis": "y"
        },
        {
         "hovertemplate": "<b>%{hovertext}</b><br><br>Team=Åtvidabergs FF<br>Number of Wins=%{x}<br>Number of Losses=%{y}<br>Number of Macthes Played=%{marker.size}<extra></extra>",
         "hovertext": [
          "Åtvidabergs FF"
         ],
         "legendgroup": "Åtvidabergs FF",
         "marker": {
          "color": "rgb(252,141,98)",
          "size": [
           8
          ],
          "sizemode": "area",
          "sizeref": 0.30375,
          "symbol": "circle"
         },
         "mode": "markers",
         "name": "Åtvidabergs FF",
         "orientation": "v",
         "showlegend": true,
         "textposition": "top center",
         "type": "scatter",
         "x": [
          4
         ],
         "xaxis": "x",
         "y": [
          4
         ],
         "yaxis": "y"
        },
        {
         "hovertemplate": "<b>%{hovertext}</b><br><br>Team=Rubin Kazan<br>Number of Wins=%{x}<br>Number of Losses=%{y}<br>Number of Macthes Played=%{marker.size}<extra></extra>",
         "hovertext": [
          "Rubin Kazan"
         ],
         "legendgroup": "Rubin Kazan",
         "marker": {
          "color": "rgb(141,160,203)",
          "size": [
           12
          ],
          "sizemode": "area",
          "sizeref": 0.30375,
          "symbol": "circle"
         },
         "mode": "markers",
         "name": "Rubin Kazan",
         "orientation": "v",
         "showlegend": true,
         "textposition": "top center",
         "type": "scatter",
         "x": [
          2
         ],
         "xaxis": "x",
         "y": [
          4
         ],
         "yaxis": "y"
        },
        {
         "hovertemplate": "<b>%{hovertext}</b><br><br>Team=KF Tiranë<br>Number of Wins=%{x}<br>Number of Losses=%{y}<br>Number of Macthes Played=%{marker.size}<extra></extra>",
         "hovertext": [
          "KF Tiranë"
         ],
         "legendgroup": "KF Tiranë",
         "marker": {
          "color": "rgb(231,138,195)",
          "size": [
           16
          ],
          "sizemode": "area",
          "sizeref": 0.30375,
          "symbol": "circle"
         },
         "mode": "markers",
         "name": "KF Tiranë",
         "orientation": "v",
         "showlegend": true,
         "textposition": "top center",
         "type": "scatter",
         "x": [
          3
         ],
         "xaxis": "x",
         "y": [
          10
         ],
         "yaxis": "y"
        },
        {
         "hovertemplate": "<b>%{hovertext}</b><br><br>Team=Esbjerg fB<br>Number of Wins=%{x}<br>Number of Losses=%{y}<br>Number of Macthes Played=%{marker.size}<extra></extra>",
         "hovertext": [
          "Esbjerg fB"
         ],
         "legendgroup": "Esbjerg fB",
         "marker": {
          "color": "rgb(166,216,84)",
          "size": [
           12
          ],
          "sizemode": "area",
          "sizeref": 0.30375,
          "symbol": "circle"
         },
         "mode": "markers",
         "name": "Esbjerg fB",
         "orientation": "v",
         "showlegend": true,
         "textposition": "top center",
         "type": "scatter",
         "x": [
          3
         ],
         "xaxis": "x",
         "y": [
          6
         ],
         "yaxis": "y"
        },
        {
         "hovertemplate": "<b>%{hovertext}</b><br><br>Team=Everton FC<br>Number of Wins=%{x}<br>Number of Losses=%{y}<br>Number of Macthes Played=%{marker.size}<extra></extra>",
         "hovertext": [
          "Everton FC"
         ],
         "legendgroup": "Everton FC",
         "marker": {
          "color": "rgb(255,217,47)",
          "size": [
           8
          ],
          "sizemode": "area",
          "sizeref": 0.30375,
          "symbol": "circle"
         },
         "mode": "markers",
         "name": "Everton FC",
         "orientation": "v",
         "showlegend": true,
         "textposition": "top center",
         "type": "scatter",
         "x": [
          2
         ],
         "xaxis": "x",
         "y": [
          1
         ],
         "yaxis": "y"
        },
        {
         "hovertemplate": "<b>%{hovertext}</b><br><br>Team=AZ Alkmaar<br>Number of Wins=%{x}<br>Number of Losses=%{y}<br>Number of Macthes Played=%{marker.size}<extra></extra>",
         "hovertext": [
          "AZ Alkmaar"
         ],
         "legendgroup": "AZ Alkmaar",
         "marker": {
          "color": "rgb(229,196,148)",
          "size": [
           10
          ],
          "sizemode": "area",
          "sizeref": 0.30375,
          "symbol": "circle"
         },
         "mode": "markers",
         "name": "AZ Alkmaar",
         "orientation": "v",
         "showlegend": true,
         "textposition": "top center",
         "type": "scatter",
         "x": [
          2
         ],
         "xaxis": "x",
         "y": [
          3
         ],
         "yaxis": "y"
        },
        {
         "hovertemplate": "<b>%{hovertext}</b><br><br>Team=IFK Norrköping<br>Number of Wins=%{x}<br>Number of Losses=%{y}<br>Number of Macthes Played=%{marker.size}<extra></extra>",
         "hovertext": [
          "IFK Norrköping"
         ],
         "legendgroup": "IFK Norrköping",
         "marker": {
          "color": "rgb(179,179,179)",
          "size": [
           12
          ],
          "sizemode": "area",
          "sizeref": 0.30375,
          "symbol": "circle"
         },
         "mode": "markers",
         "name": "IFK Norrköping",
         "orientation": "v",
         "showlegend": true,
         "textposition": "top center",
         "type": "scatter",
         "x": [
          2
         ],
         "xaxis": "x",
         "y": [
          5
         ],
         "yaxis": "y"
        },
        {
         "hovertemplate": "<b>%{hovertext}</b><br><br>Team=FK Partizani<br>Number of Wins=%{x}<br>Number of Losses=%{y}<br>Number of Macthes Played=%{marker.size}<extra></extra>",
         "hovertext": [
          "FK Partizani"
         ],
         "legendgroup": "FK Partizani",
         "marker": {
          "color": "rgb(102,194,165)",
          "size": [
           14
          ],
          "sizemode": "area",
          "sizeref": 0.30375,
          "symbol": "circle"
         },
         "mode": "markers",
         "name": "FK Partizani",
         "orientation": "v",
         "showlegend": true,
         "textposition": "top center",
         "type": "scatter",
         "x": [
          3
         ],
         "xaxis": "x",
         "y": [
          9
         ],
         "yaxis": "y"
        },
        {
         "hovertemplate": "<b>%{hovertext}</b><br><br>Team=Hibernian FC<br>Number of Wins=%{x}<br>Number of Losses=%{y}<br>Number of Macthes Played=%{marker.size}<extra></extra>",
         "hovertext": [
          "Hibernian FC"
         ],
         "legendgroup": "Hibernian FC",
         "marker": {
          "color": "rgb(252,141,98)",
          "size": [
           6
          ],
          "sizemode": "area",
          "sizeref": 0.30375,
          "symbol": "circle"
         },
         "mode": "markers",
         "name": "Hibernian FC",
         "orientation": "v",
         "showlegend": true,
         "textposition": "top center",
         "type": "scatter",
         "x": [
          3
         ],
         "xaxis": "x",
         "y": [
          2
         ],
         "yaxis": "y"
        },
        {
         "hovertemplate": "<b>%{hovertext}</b><br><br>Team=RC Strasbourg<br>Number of Wins=%{x}<br>Number of Losses=%{y}<br>Number of Macthes Played=%{marker.size}<extra></extra>",
         "hovertext": [
          "RC Strasbourg"
         ],
         "legendgroup": "RC Strasbourg",
         "marker": {
          "color": "rgb(141,160,203)",
          "size": [
           6
          ],
          "sizemode": "area",
          "sizeref": 0.30375,
          "symbol": "circle"
         },
         "mode": "markers",
         "name": "RC Strasbourg",
         "orientation": "v",
         "showlegend": true,
         "textposition": "top center",
         "type": "scatter",
         "x": [
          3
         ],
         "xaxis": "x",
         "y": [
          2
         ],
         "yaxis": "y"
        },
        {
         "hovertemplate": "<b>%{hovertext}</b><br><br>Team=IFK Malmö<br>Number of Wins=%{x}<br>Number of Losses=%{y}<br>Number of Macthes Played=%{marker.size}<extra></extra>",
         "hovertext": [
          "IFK Malmö"
         ],
         "legendgroup": "IFK Malmö",
         "marker": {
          "color": "rgb(231,138,195)",
          "size": [
           6
          ],
          "sizemode": "area",
          "sizeref": 0.30375,
          "symbol": "circle"
         },
         "mode": "markers",
         "name": "IFK Malmö",
         "orientation": "v",
         "showlegend": true,
         "textposition": "top center",
         "type": "scatter",
         "x": [
          3
         ],
         "xaxis": "x",
         "y": [
          2
         ],
         "yaxis": "y"
        },
        {
         "hovertemplate": "<b>%{hovertext}</b><br><br>Team=KAA Gent<br>Number of Wins=%{x}<br>Number of Losses=%{y}<br>Number of Macthes Played=%{marker.size}<extra></extra>",
         "hovertext": [
          "KAA Gent"
         ],
         "legendgroup": "KAA Gent",
         "marker": {
          "color": "rgb(166,216,84)",
          "size": [
           8
          ],
          "sizemode": "area",
          "sizeref": 0.30375,
          "symbol": "circle"
         },
         "mode": "markers",
         "name": "KAA Gent",
         "orientation": "v",
         "showlegend": true,
         "textposition": "top center",
         "type": "scatter",
         "x": [
          3
         ],
         "xaxis": "x",
         "y": [
          4
         ],
         "yaxis": "y"
        },
        {
         "hovertemplate": "<b>%{hovertext}</b><br><br>Team=Lokomotiv Sofia<br>Number of Wins=%{x}<br>Number of Losses=%{y}<br>Number of Macthes Played=%{marker.size}<extra></extra>",
         "hovertext": [
          "Lokomotiv Sofia"
         ],
         "legendgroup": "Lokomotiv Sofia",
         "marker": {
          "color": "rgb(255,217,47)",
          "size": [
           8
          ],
          "sizemode": "area",
          "sizeref": 0.30375,
          "symbol": "circle"
         },
         "mode": "markers",
         "name": "Lokomotiv Sofia",
         "orientation": "v",
         "showlegend": true,
         "textposition": "top center",
         "type": "scatter",
         "x": [
          3
         ],
         "xaxis": "x",
         "y": [
          4
         ],
         "yaxis": "y"
        },
        {
         "hovertemplate": "<b>%{hovertext}</b><br><br>Team=Hertha BSC<br>Number of Wins=%{x}<br>Number of Losses=%{y}<br>Number of Macthes Played=%{marker.size}<extra></extra>",
         "hovertext": [
          "Hertha BSC"
         ],
         "legendgroup": "Hertha BSC",
         "marker": {
          "color": "rgb(229,196,148)",
          "size": [
           12
          ],
          "sizemode": "area",
          "sizeref": 0.30375,
          "symbol": "circle"
         },
         "mode": "markers",
         "name": "Hertha BSC",
         "orientation": "v",
         "showlegend": true,
         "textposition": "top center",
         "type": "scatter",
         "x": [
          2
         ],
         "xaxis": "x",
         "y": [
          6
         ],
         "yaxis": "y"
        },
        {
         "hovertemplate": "<b>%{hovertext}</b><br><br>Team=Aalborg BK<br>Number of Wins=%{x}<br>Number of Losses=%{y}<br>Number of Macthes Played=%{marker.size}<extra></extra>",
         "hovertext": [
          "Aalborg BK"
         ],
         "legendgroup": "Aalborg BK",
         "marker": {
          "color": "rgb(179,179,179)",
          "size": [
           12
          ],
          "sizemode": "area",
          "sizeref": 0.30375,
          "symbol": "circle"
         },
         "mode": "markers",
         "name": "Aalborg BK",
         "orientation": "v",
         "showlegend": true,
         "textposition": "top center",
         "type": "scatter",
         "x": [
          2
         ],
         "xaxis": "x",
         "y": [
          6
         ],
         "yaxis": "y"
        },
        {
         "hovertemplate": "<b>%{hovertext}</b><br><br>Team=Maccabi Haifa<br>Number of Wins=%{x}<br>Number of Losses=%{y}<br>Number of Macthes Played=%{marker.size}<extra></extra>",
         "hovertext": [
          "Maccabi Haifa"
         ],
         "legendgroup": "Maccabi Haifa",
         "marker": {
          "color": "rgb(102,194,165)",
          "size": [
           18
          ],
          "sizemode": "area",
          "sizeref": 0.30375,
          "symbol": "circle"
         },
         "mode": "markers",
         "name": "Maccabi Haifa",
         "orientation": "v",
         "showlegend": true,
         "textposition": "top center",
         "type": "scatter",
         "x": [
          3
         ],
         "xaxis": "x",
         "y": [
          14
         ],
         "yaxis": "y"
        },
        {
         "hovertemplate": "<b>%{hovertext}</b><br><br>Team=NK Maribor<br>Number of Wins=%{x}<br>Number of Losses=%{y}<br>Number of Macthes Played=%{marker.size}<extra></extra>",
         "hovertext": [
          "NK Maribor"
         ],
         "legendgroup": "NK Maribor",
         "marker": {
          "color": "rgb(252,141,98)",
          "size": [
           18
          ],
          "sizemode": "area",
          "sizeref": 0.30375,
          "symbol": "circle"
         },
         "mode": "markers",
         "name": "NK Maribor",
         "orientation": "v",
         "showlegend": true,
         "textposition": "top center",
         "type": "scatter",
         "x": [
          1
         ],
         "xaxis": "x",
         "y": [
          10
         ],
         "yaxis": "y"
        },
        {
         "hovertemplate": "<b>%{hovertext}</b><br><br>Team=Ipswich Town<br>Number of Wins=%{x}<br>Number of Losses=%{y}<br>Number of Macthes Played=%{marker.size}<extra></extra>",
         "hovertext": [
          "Ipswich Town"
         ],
         "legendgroup": "Ipswich Town",
         "marker": {
          "color": "rgb(141,160,203)",
          "size": [
           4
          ],
          "sizemode": "area",
          "sizeref": 0.30375,
          "symbol": "circle"
         },
         "mode": "markers",
         "name": "Ipswich Town",
         "orientation": "v",
         "showlegend": true,
         "textposition": "top center",
         "type": "scatter",
         "x": [
          3
         ],
         "xaxis": "x",
         "y": [
          1
         ],
         "yaxis": "y"
        },
        {
         "hovertemplate": "<b>%{hovertext}</b><br><br>Team=TSV 1860 München<br>Number of Wins=%{x}<br>Number of Losses=%{y}<br>Number of Macthes Played=%{marker.size}<extra></extra>",
         "hovertext": [
          "TSV 1860 München"
         ],
         "legendgroup": "TSV 1860 München",
         "marker": {
          "color": "rgb(231,138,195)",
          "size": [
           4
          ],
          "sizemode": "area",
          "sizeref": 0.30375,
          "symbol": "circle"
         },
         "mode": "markers",
         "name": "TSV 1860 München",
         "orientation": "v",
         "showlegend": true,
         "textposition": "top center",
         "type": "scatter",
         "x": [
          3
         ],
         "xaxis": "x",
         "y": [
          1
         ],
         "yaxis": "y"
        },
        {
         "hovertemplate": "<b>%{hovertext}</b><br><br>Team=KV Mechelen<br>Number of Wins=%{x}<br>Number of Losses=%{y}<br>Number of Macthes Played=%{marker.size}<extra></extra>",
         "hovertext": [
          "KV Mechelen"
         ],
         "legendgroup": "KV Mechelen",
         "marker": {
          "color": "rgb(166,216,84)",
          "size": [
           6
          ],
          "sizemode": "area",
          "sizeref": 0.30375,
          "symbol": "circle"
         },
         "mode": "markers",
         "name": "KV Mechelen",
         "orientation": "v",
         "showlegend": true,
         "textposition": "top center",
         "type": "scatter",
         "x": [
          2
         ],
         "xaxis": "x",
         "y": [
          1
         ],
         "yaxis": "y"
        },
        {
         "hovertemplate": "<b>%{hovertext}</b><br><br>Team=Bohemians Praha 1905<br>Number of Wins=%{x}<br>Number of Losses=%{y}<br>Number of Macthes Played=%{marker.size}<extra></extra>",
         "hovertext": [
          "Bohemians Praha 1905"
         ],
         "legendgroup": "Bohemians Praha 1905",
         "marker": {
          "color": "rgb(255,217,47)",
          "size": [
           4
          ],
          "sizemode": "area",
          "sizeref": 0.30375,
          "symbol": "circle"
         },
         "mode": "markers",
         "name": "Bohemians Praha 1905",
         "orientation": "v",
         "showlegend": true,
         "textposition": "top center",
         "type": "scatter",
         "x": [
          3
         ],
         "xaxis": "x",
         "y": [
          1
         ],
         "yaxis": "y"
        },
        {
         "hovertemplate": "<b>%{hovertext}</b><br><br>Team=1. FC Magdeburg<br>Number of Wins=%{x}<br>Number of Losses=%{y}<br>Number of Macthes Played=%{marker.size}<extra></extra>",
         "hovertext": [
          "1. FC Magdeburg"
         ],
         "legendgroup": "1. FC Magdeburg",
         "marker": {
          "color": "rgb(229,196,148)",
          "size": [
           8
          ],
          "sizemode": "area",
          "sizeref": 0.30375,
          "symbol": "circle"
         },
         "mode": "markers",
         "name": "1. FC Magdeburg",
         "orientation": "v",
         "showlegend": true,
         "textposition": "top center",
         "type": "scatter",
         "x": [
          3
         ],
         "xaxis": "x",
         "y": [
          5
         ],
         "yaxis": "y"
        },
        {
         "hovertemplate": "<b>%{hovertext}</b><br><br>Team=Sparta Rotterdam<br>Number of Wins=%{x}<br>Number of Losses=%{y}<br>Number of Macthes Played=%{marker.size}<extra></extra>",
         "hovertext": [
          "Sparta Rotterdam"
         ],
         "legendgroup": "Sparta Rotterdam",
         "marker": {
          "color": "rgb(179,179,179)",
          "size": [
           6
          ],
          "sizemode": "area",
          "sizeref": 0.30375,
          "symbol": "circle"
         },
         "mode": "markers",
         "name": "Sparta Rotterdam",
         "orientation": "v",
         "showlegend": true,
         "textposition": "top center",
         "type": "scatter",
         "x": [
          3
         ],
         "xaxis": "x",
         "y": [
          3
         ],
         "yaxis": "y"
        },
        {
         "hovertemplate": "<b>%{hovertext}</b><br><br>Team=Parma Calcio 1913<br>Number of Wins=%{x}<br>Number of Losses=%{y}<br>Number of Macthes Played=%{marker.size}<extra></extra>",
         "hovertext": [
          "Parma Calcio 1913"
         ],
         "legendgroup": "Parma Calcio 1913",
         "marker": {
          "color": "rgb(102,194,165)",
          "size": [
           6
          ],
          "sizemode": "area",
          "sizeref": 0.30375,
          "symbol": "circle"
         },
         "mode": "markers",
         "name": "Parma Calcio 1913",
         "orientation": "v",
         "showlegend": true,
         "textposition": "top center",
         "type": "scatter",
         "x": [
          2
         ],
         "xaxis": "x",
         "y": [
          1
         ],
         "yaxis": "y"
        },
        {
         "hovertemplate": "<b>%{hovertext}</b><br><br>Team=RC Celta<br>Number of Wins=%{x}<br>Number of Losses=%{y}<br>Number of Macthes Played=%{marker.size}<extra></extra>",
         "hovertext": [
          "RC Celta"
         ],
         "legendgroup": "RC Celta",
         "marker": {
          "color": "rgb(252,141,98)",
          "size": [
           8
          ],
          "sizemode": "area",
          "sizeref": 0.30375,
          "symbol": "circle"
         },
         "mode": "markers",
         "name": "RC Celta",
         "orientation": "v",
         "showlegend": true,
         "textposition": "top center",
         "type": "scatter",
         "x": [
          2
         ],
         "xaxis": "x",
         "y": [
          3
         ],
         "yaxis": "y"
        },
        {
         "hovertemplate": "<b>%{hovertext}</b><br><br>Team=Polonia Bytom<br>Number of Wins=%{x}<br>Number of Losses=%{y}<br>Number of Macthes Played=%{marker.size}<extra></extra>",
         "hovertext": [
          "Polonia Bytom"
         ],
         "legendgroup": "Polonia Bytom",
         "marker": {
          "color": "rgb(141,160,203)",
          "size": [
           6
          ],
          "sizemode": "area",
          "sizeref": 0.30375,
          "symbol": "circle"
         },
         "mode": "markers",
         "name": "Polonia Bytom",
         "orientation": "v",
         "showlegend": true,
         "textposition": "top center",
         "type": "scatter",
         "x": [
          3
         ],
         "xaxis": "x",
         "y": [
          3
         ],
         "yaxis": "y"
        },
        {
         "hovertemplate": "<b>%{hovertext}</b><br><br>Team=RCD Mallorca<br>Number of Wins=%{x}<br>Number of Losses=%{y}<br>Number of Macthes Played=%{marker.size}<extra></extra>",
         "hovertext": [
          "RCD Mallorca"
         ],
         "legendgroup": "RCD Mallorca",
         "marker": {
          "color": "rgb(231,138,195)",
          "size": [
           6
          ],
          "sizemode": "area",
          "sizeref": 0.30375,
          "symbol": "circle"
         },
         "mode": "markers",
         "name": "RCD Mallorca",
         "orientation": "v",
         "showlegend": true,
         "textposition": "top center",
         "type": "scatter",
         "x": [
          3
         ],
         "xaxis": "x",
         "y": [
          3
         ],
         "yaxis": "y"
        },
        {
         "hovertemplate": "<b>%{hovertext}</b><br><br>Team=Waterford FC<br>Number of Wins=%{x}<br>Number of Losses=%{y}<br>Number of Macthes Played=%{marker.size}<extra></extra>",
         "hovertext": [
          "Waterford FC"
         ],
         "legendgroup": "Waterford FC",
         "marker": {
          "color": "rgb(166,216,84)",
          "size": [
           12
          ],
          "sizemode": "area",
          "sizeref": 0.30375,
          "symbol": "circle"
         },
         "mode": "markers",
         "name": "Waterford FC",
         "orientation": "v",
         "showlegend": true,
         "textposition": "top center",
         "type": "scatter",
         "x": [
          3
         ],
         "xaxis": "x",
         "y": [
          9
         ],
         "yaxis": "y"
        },
        {
         "hovertemplate": "<b>%{hovertext}</b><br><br>Team=ÍA Akranes<br>Number of Wins=%{x}<br>Number of Losses=%{y}<br>Number of Macthes Played=%{marker.size}<extra></extra>",
         "hovertext": [
          "ÍA Akranes"
         ],
         "legendgroup": "ÍA Akranes",
         "marker": {
          "color": "rgb(255,217,47)",
          "size": [
           16
          ],
          "sizemode": "area",
          "sizeref": 0.30375,
          "symbol": "circle"
         },
         "mode": "markers",
         "name": "ÍA Akranes",
         "orientation": "v",
         "showlegend": true,
         "textposition": "top center",
         "type": "scatter",
         "x": [
          2
         ],
         "xaxis": "x",
         "y": [
          11
         ],
         "yaxis": "y"
        },
        {
         "hovertemplate": "<b>%{hovertext}</b><br><br>Team=Dundalk FC<br>Number of Wins=%{x}<br>Number of Losses=%{y}<br>Number of Macthes Played=%{marker.size}<extra></extra>",
         "hovertext": [
          "Dundalk FC"
         ],
         "legendgroup": "Dundalk FC",
         "marker": {
          "color": "rgb(229,196,148)",
          "size": [
           16
          ],
          "sizemode": "area",
          "sizeref": 0.30375,
          "symbol": "circle"
         },
         "mode": "markers",
         "name": "Dundalk FC",
         "orientation": "v",
         "showlegend": true,
         "textposition": "top center",
         "type": "scatter",
         "x": [
          2
         ],
         "xaxis": "x",
         "y": [
          11
         ],
         "yaxis": "y"
        },
        {
         "hovertemplate": "<b>%{hovertext}</b><br><br>Team=Valur Reykjavík<br>Number of Wins=%{x}<br>Number of Losses=%{y}<br>Number of Macthes Played=%{marker.size}<extra></extra>",
         "hovertext": [
          "Valur Reykjavík"
         ],
         "legendgroup": "Valur Reykjavík",
         "marker": {
          "color": "rgb(179,179,179)",
          "size": [
           16
          ],
          "sizemode": "area",
          "sizeref": 0.30375,
          "symbol": "circle"
         },
         "mode": "markers",
         "name": "Valur Reykjavík",
         "orientation": "v",
         "showlegend": true,
         "textposition": "top center",
         "type": "scatter",
         "x": [
          2
         ],
         "xaxis": "x",
         "y": [
          11
         ],
         "yaxis": "y"
        },
        {
         "hovertemplate": "<b>%{hovertext}</b><br><br>Team=KSK Beveren<br>Number of Wins=%{x}<br>Number of Losses=%{y}<br>Number of Macthes Played=%{marker.size}<extra></extra>",
         "hovertext": [
          "KSK Beveren"
         ],
         "legendgroup": "KSK Beveren",
         "marker": {
          "color": "rgb(102,194,165)",
          "size": [
           6
          ],
          "sizemode": "area",
          "sizeref": 0.30375,
          "symbol": "circle"
         },
         "mode": "markers",
         "name": "KSK Beveren",
         "orientation": "v",
         "showlegend": true,
         "textposition": "top center",
         "type": "scatter",
         "x": [
          2
         ],
         "xaxis": "x",
         "y": [
          2
         ],
         "yaxis": "y"
        },
        {
         "hovertemplate": "<b>%{hovertext}</b><br><br>Team=FC Unirea<br>Number of Wins=%{x}<br>Number of Losses=%{y}<br>Number of Macthes Played=%{marker.size}<extra></extra>",
         "hovertext": [
          "FC Unirea"
         ],
         "legendgroup": "FC Unirea",
         "marker": {
          "color": "rgb(252,141,98)",
          "size": [
           6
          ],
          "sizemode": "area",
          "sizeref": 0.30375,
          "symbol": "circle"
         },
         "mode": "markers",
         "name": "FC Unirea",
         "orientation": "v",
         "showlegend": true,
         "textposition": "top center",
         "type": "scatter",
         "x": [
          2
         ],
         "xaxis": "x",
         "y": [
          2
         ],
         "yaxis": "y"
        },
        {
         "hovertemplate": "<b>%{hovertext}</b><br><br>Team=Wisła Kraków<br>Number of Wins=%{x}<br>Number of Losses=%{y}<br>Number of Macthes Played=%{marker.size}<extra></extra>",
         "hovertext": [
          "Wisła Kraków"
         ],
         "legendgroup": "Wisła Kraków",
         "marker": {
          "color": "rgb(141,160,203)",
          "size": [
           6
          ],
          "sizemode": "area",
          "sizeref": 0.30375,
          "symbol": "circle"
         },
         "mode": "markers",
         "name": "Wisła Kraków",
         "orientation": "v",
         "showlegend": true,
         "textposition": "top center",
         "type": "scatter",
         "x": [
          2
         ],
         "xaxis": "x",
         "y": [
          2
         ],
         "yaxis": "y"
        },
        {
         "hovertemplate": "<b>%{hovertext}</b><br><br>Team=Wolverhampton Wanderers<br>Number of Wins=%{x}<br>Number of Losses=%{y}<br>Number of Macthes Played=%{marker.size}<extra></extra>",
         "hovertext": [
          "Wolverhampton Wanderers"
         ],
         "legendgroup": "Wolverhampton Wanderers",
         "marker": {
          "color": "rgb(231,138,195)",
          "size": [
           8
          ],
          "sizemode": "area",
          "sizeref": 0.30375,
          "symbol": "circle"
         },
         "mode": "markers",
         "name": "Wolverhampton Wanderers",
         "orientation": "v",
         "showlegend": true,
         "textposition": "top center",
         "type": "scatter",
         "x": [
          2
         ],
         "xaxis": "x",
         "y": [
          4
         ],
         "yaxis": "y"
        },
        {
         "hovertemplate": "<b>%{hovertext}</b><br><br>Team=KB København<br>Number of Wins=%{x}<br>Number of Losses=%{y}<br>Number of Macthes Played=%{marker.size}<extra></extra>",
         "hovertext": [
          "KB København"
         ],
         "legendgroup": "KB København",
         "marker": {
          "color": "rgb(166,216,84)",
          "size": [
           11
          ],
          "sizemode": "area",
          "sizeref": 0.30375,
          "symbol": "circle"
         },
         "mode": "markers",
         "name": "KB København",
         "orientation": "v",
         "showlegend": true,
         "textposition": "top center",
         "type": "scatter",
         "x": [
          2
         ],
         "xaxis": "x",
         "y": [
          7
         ],
         "yaxis": "y"
        },
        {
         "hovertemplate": "<b>%{hovertext}</b><br><br>Team=FC Reipas Lahti (old)<br>Number of Wins=%{x}<br>Number of Losses=%{y}<br>Number of Macthes Played=%{marker.size}<extra></extra>",
         "hovertext": [
          "FC Reipas Lahti (old)"
         ],
         "legendgroup": "FC Reipas Lahti (old)",
         "marker": {
          "color": "rgb(255,217,47)",
          "size": [
           8
          ],
          "sizemode": "area",
          "sizeref": 0.30375,
          "symbol": "circle"
         },
         "mode": "markers",
         "name": "FC Reipas Lahti (old)",
         "orientation": "v",
         "showlegend": true,
         "textposition": "top center",
         "type": "scatter",
         "x": [
          2
         ],
         "xaxis": "x",
         "y": [
          4
         ],
         "yaxis": "y"
        },
        {
         "hovertemplate": "<b>%{hovertext}</b><br><br>Team=KRC Genk<br>Number of Wins=%{x}<br>Number of Losses=%{y}<br>Number of Macthes Played=%{marker.size}<extra></extra>",
         "hovertext": [
          "KRC Genk"
         ],
         "legendgroup": "KRC Genk",
         "marker": {
          "color": "rgb(229,196,148)",
          "size": [
           18
          ],
          "sizemode": "area",
          "sizeref": 0.30375,
          "symbol": "circle"
         },
         "mode": "markers",
         "name": "KRC Genk",
         "orientation": "v",
         "showlegend": true,
         "textposition": "top center",
         "type": "scatter",
         "x": [
          0
         ],
         "xaxis": "x",
         "y": [
          10
         ],
         "yaxis": "y"
        },
        {
         "hovertemplate": "<b>%{hovertext}</b><br><br>Team=Inter Bratislava<br>Number of Wins=%{x}<br>Number of Losses=%{y}<br>Number of Macthes Played=%{marker.size}<extra></extra>",
         "hovertext": [
          "Inter Bratislava"
         ],
         "legendgroup": "Inter Bratislava",
         "marker": {
          "color": "rgb(179,179,179)",
          "size": [
           4
          ],
          "sizemode": "area",
          "sizeref": 0.30375,
          "symbol": "circle"
         },
         "mode": "markers",
         "name": "Inter Bratislava",
         "orientation": "v",
         "showlegend": true,
         "textposition": "top center",
         "type": "scatter",
         "x": [
          2
         ],
         "xaxis": "x",
         "y": [
          1
         ],
         "yaxis": "y"
        },
        {
         "hovertemplate": "<b>%{hovertext}</b><br><br>Team=Lyngby BK<br>Number of Wins=%{x}<br>Number of Losses=%{y}<br>Number of Macthes Played=%{marker.size}<extra></extra>",
         "hovertext": [
          "Lyngby BK"
         ],
         "legendgroup": "Lyngby BK",
         "marker": {
          "color": "rgb(102,194,165)",
          "size": [
           6
          ],
          "sizemode": "area",
          "sizeref": 0.30375,
          "symbol": "circle"
         },
         "mode": "markers",
         "name": "Lyngby BK",
         "orientation": "v",
         "showlegend": true,
         "textposition": "top center",
         "type": "scatter",
         "x": [
          2
         ],
         "xaxis": "x",
         "y": [
          3
         ],
         "yaxis": "y"
        },
        {
         "hovertemplate": "<b>%{hovertext}</b><br><br>Team=Zorya Lugansk<br>Number of Wins=%{x}<br>Number of Losses=%{y}<br>Number of Macthes Played=%{marker.size}<extra></extra>",
         "hovertext": [
          "Zorya Lugansk"
         ],
         "legendgroup": "Zorya Lugansk",
         "marker": {
          "color": "rgb(252,141,98)",
          "size": [
           4
          ],
          "sizemode": "area",
          "sizeref": 0.30375,
          "symbol": "circle"
         },
         "mode": "markers",
         "name": "Zorya Lugansk",
         "orientation": "v",
         "showlegend": true,
         "textposition": "top center",
         "type": "scatter",
         "x": [
          2
         ],
         "xaxis": "x",
         "y": [
          1
         ],
         "yaxis": "y"
        },
        {
         "hovertemplate": "<b>%{hovertext}</b><br><br>Team=FC Sion<br>Number of Wins=%{x}<br>Number of Losses=%{y}<br>Number of Macthes Played=%{marker.size}<extra></extra>",
         "hovertext": [
          "FC Sion"
         ],
         "legendgroup": "FC Sion",
         "marker": {
          "color": "rgb(141,160,203)",
          "size": [
           4
          ],
          "sizemode": "area",
          "sizeref": 0.30375,
          "symbol": "circle"
         },
         "mode": "markers",
         "name": "FC Sion",
         "orientation": "v",
         "showlegend": true,
         "textposition": "top center",
         "type": "scatter",
         "x": [
          2
         ],
         "xaxis": "x",
         "y": [
          1
         ],
         "yaxis": "y"
        },
        {
         "hovertemplate": "<b>%{hovertext}</b><br><br>Team=Hellas Verona<br>Number of Wins=%{x}<br>Number of Losses=%{y}<br>Number of Macthes Played=%{marker.size}<extra></extra>",
         "hovertext": [
          "Hellas Verona"
         ],
         "legendgroup": "Hellas Verona",
         "marker": {
          "color": "rgb(231,138,195)",
          "size": [
           4
          ],
          "sizemode": "area",
          "sizeref": 0.30375,
          "symbol": "circle"
         },
         "mode": "markers",
         "name": "Hellas Verona",
         "orientation": "v",
         "showlegend": true,
         "textposition": "top center",
         "type": "scatter",
         "x": [
          2
         ],
         "xaxis": "x",
         "y": [
          1
         ],
         "yaxis": "y"
        },
        {
         "hovertemplate": "<b>%{hovertext}</b><br><br>Team=MFK Vítkovice<br>Number of Wins=%{x}<br>Number of Losses=%{y}<br>Number of Macthes Played=%{marker.size}<extra></extra>",
         "hovertext": [
          "MFK Vítkovice"
         ],
         "legendgroup": "MFK Vítkovice",
         "marker": {
          "color": "rgb(166,216,84)",
          "size": [
           4
          ],
          "sizemode": "area",
          "sizeref": 0.30375,
          "symbol": "circle"
         },
         "mode": "markers",
         "name": "MFK Vítkovice",
         "orientation": "v",
         "showlegend": true,
         "textposition": "top center",
         "type": "scatter",
         "x": [
          2
         ],
         "xaxis": "x",
         "y": [
          1
         ],
         "yaxis": "y"
        },
        {
         "hovertemplate": "<b>%{hovertext}</b><br><br>Team=Udinese Calcio<br>Number of Wins=%{x}<br>Number of Losses=%{y}<br>Number of Macthes Played=%{marker.size}<extra></extra>",
         "hovertext": [
          "Udinese Calcio"
         ],
         "legendgroup": "Udinese Calcio",
         "marker": {
          "color": "rgb(255,217,47)",
          "size": [
           6
          ],
          "sizemode": "area",
          "sizeref": 0.30375,
          "symbol": "circle"
         },
         "mode": "markers",
         "name": "Udinese Calcio",
         "orientation": "v",
         "showlegend": true,
         "textposition": "top center",
         "type": "scatter",
         "x": [
          2
         ],
         "xaxis": "x",
         "y": [
          3
         ],
         "yaxis": "y"
        },
        {
         "hovertemplate": "<b>%{hovertext}</b><br><br>Team=B 1903 København<br>Number of Wins=%{x}<br>Number of Losses=%{y}<br>Number of Macthes Played=%{marker.size}<extra></extra>",
         "hovertext": [
          "B 1903 København"
         ],
         "legendgroup": "B 1903 København",
         "marker": {
          "color": "rgb(229,196,148)",
          "size": [
           8
          ],
          "sizemode": "area",
          "sizeref": 0.30375,
          "symbol": "circle"
         },
         "mode": "markers",
         "name": "B 1903 København",
         "orientation": "v",
         "showlegend": true,
         "textposition": "top center",
         "type": "scatter",
         "x": [
          2
         ],
         "xaxis": "x",
         "y": [
          5
         ],
         "yaxis": "y"
        },
        {
         "hovertemplate": "<b>%{hovertext}</b><br><br>Team=FC Sheriff<br>Number of Wins=%{x}<br>Number of Losses=%{y}<br>Number of Macthes Played=%{marker.size}<extra></extra>",
         "hovertext": [
          "FC Sheriff"
         ],
         "legendgroup": "FC Sheriff",
         "marker": {
          "color": "rgb(179,179,179)",
          "size": [
           6
          ],
          "sizemode": "area",
          "sizeref": 0.30375,
          "symbol": "circle"
         },
         "mode": "markers",
         "name": "FC Sheriff",
         "orientation": "v",
         "showlegend": true,
         "textposition": "top center",
         "type": "scatter",
         "x": [
          2
         ],
         "xaxis": "x",
         "y": [
          3
         ],
         "yaxis": "y"
        },
        {
         "hovertemplate": "<b>%{hovertext}</b><br><br>Team=Real Betis<br>Number of Wins=%{x}<br>Number of Losses=%{y}<br>Number of Macthes Played=%{marker.size}<extra></extra>",
         "hovertext": [
          "Real Betis"
         ],
         "legendgroup": "Real Betis",
         "marker": {
          "color": "rgb(102,194,165)",
          "size": [
           6
          ],
          "sizemode": "area",
          "sizeref": 0.30375,
          "symbol": "circle"
         },
         "mode": "markers",
         "name": "Real Betis",
         "orientation": "v",
         "showlegend": true,
         "textposition": "top center",
         "type": "scatter",
         "x": [
          2
         ],
         "xaxis": "x",
         "y": [
          3
         ],
         "yaxis": "y"
        },
        {
         "hovertemplate": "<b>%{hovertext}</b><br><br>Team=Hvidovre IF<br>Number of Wins=%{x}<br>Number of Losses=%{y}<br>Number of Macthes Played=%{marker.size}<extra></extra>",
         "hovertext": [
          "Hvidovre IF"
         ],
         "legendgroup": "Hvidovre IF",
         "marker": {
          "color": "rgb(252,141,98)",
          "size": [
           8
          ],
          "sizemode": "area",
          "sizeref": 0.30375,
          "symbol": "circle"
         },
         "mode": "markers",
         "name": "Hvidovre IF",
         "orientation": "v",
         "showlegend": true,
         "textposition": "top center",
         "type": "scatter",
         "x": [
          1
         ],
         "xaxis": "x",
         "y": [
          3
         ],
         "yaxis": "y"
        },
        {
         "hovertemplate": "<b>%{hovertext}</b><br><br>Team=Petrolul Ploieşti<br>Number of Wins=%{x}<br>Number of Losses=%{y}<br>Number of Macthes Played=%{marker.size}<extra></extra>",
         "hovertext": [
          "Petrolul Ploieşti"
         ],
         "legendgroup": "Petrolul Ploieşti",
         "marker": {
          "color": "rgb(141,160,203)",
          "size": [
           8
          ],
          "sizemode": "area",
          "sizeref": 0.30375,
          "symbol": "circle"
         },
         "mode": "markers",
         "name": "Petrolul Ploieşti",
         "orientation": "v",
         "showlegend": true,
         "textposition": "top center",
         "type": "scatter",
         "x": [
          2
         ],
         "xaxis": "x",
         "y": [
          5
         ],
         "yaxis": "y"
        },
        {
         "hovertemplate": "<b>%{hovertext}</b><br><br>Team=Djurgårdens IF<br>Number of Wins=%{x}<br>Number of Losses=%{y}<br>Number of Macthes Played=%{marker.size}<extra></extra>",
         "hovertext": [
          "Djurgårdens IF"
         ],
         "legendgroup": "Djurgårdens IF",
         "marker": {
          "color": "rgb(231,138,195)",
          "size": [
           8
          ],
          "sizemode": "area",
          "sizeref": 0.30375,
          "symbol": "circle"
         },
         "mode": "markers",
         "name": "Djurgårdens IF",
         "orientation": "v",
         "showlegend": true,
         "textposition": "top center",
         "type": "scatter",
         "x": [
          2
         ],
         "xaxis": "x",
         "y": [
          5
         ],
         "yaxis": "y"
        },
        {
         "hovertemplate": "<b>%{hovertext}</b><br><br>Team=Slavia Praha<br>Number of Wins=%{x}<br>Number of Losses=%{y}<br>Number of Macthes Played=%{marker.size}<extra></extra>",
         "hovertext": [
          "Slavia Praha"
         ],
         "legendgroup": "Slavia Praha",
         "marker": {
          "color": "rgb(166,216,84)",
          "size": [
           12
          ],
          "sizemode": "area",
          "sizeref": 0.30375,
          "symbol": "circle"
         },
         "mode": "markers",
         "name": "Slavia Praha",
         "orientation": "v",
         "showlegend": true,
         "textposition": "top center",
         "type": "scatter",
         "x": [
          1
         ],
         "xaxis": "x",
         "y": [
          7
         ],
         "yaxis": "y"
        },
        {
         "hovertemplate": "<b>%{hovertext}</b><br><br>Team=PFC Ludogorets Razgrad<br>Number of Wins=%{x}<br>Number of Losses=%{y}<br>Number of Macthes Played=%{marker.size}<extra></extra>",
         "hovertext": [
          "PFC Ludogorets Razgrad"
         ],
         "legendgroup": "PFC Ludogorets Razgrad",
         "marker": {
          "color": "rgb(255,217,47)",
          "size": [
           12
          ],
          "sizemode": "area",
          "sizeref": 0.30375,
          "symbol": "circle"
         },
         "mode": "markers",
         "name": "PFC Ludogorets Razgrad",
         "orientation": "v",
         "showlegend": true,
         "textposition": "top center",
         "type": "scatter",
         "x": [
          1
         ],
         "xaxis": "x",
         "y": [
          7
         ],
         "yaxis": "y"
        },
        {
         "hovertemplate": "<b>%{hovertext}</b><br><br>Team=Zbrojovka Brno<br>Number of Wins=%{x}<br>Number of Losses=%{y}<br>Number of Macthes Played=%{marker.size}<extra></extra>",
         "hovertext": [
          "Zbrojovka Brno"
         ],
         "legendgroup": "Zbrojovka Brno",
         "marker": {
          "color": "rgb(229,196,148)",
          "size": [
           4
          ],
          "sizemode": "area",
          "sizeref": 0.30375,
          "symbol": "circle"
         },
         "mode": "markers",
         "name": "Zbrojovka Brno",
         "orientation": "v",
         "showlegend": true,
         "textposition": "top center",
         "type": "scatter",
         "x": [
          1
         ],
         "xaxis": "x",
         "y": [
          0
         ],
         "yaxis": "y"
        },
        {
         "hovertemplate": "<b>%{hovertext}</b><br><br>Team=B 1913 Odense<br>Number of Wins=%{x}<br>Number of Losses=%{y}<br>Number of Macthes Played=%{marker.size}<extra></extra>",
         "hovertext": [
          "B 1913 Odense"
         ],
         "legendgroup": "B 1913 Odense",
         "marker": {
          "color": "rgb(179,179,179)",
          "size": [
           4
          ],
          "sizemode": "area",
          "sizeref": 0.30375,
          "symbol": "circle"
         },
         "mode": "markers",
         "name": "B 1913 Odense",
         "orientation": "v",
         "showlegend": true,
         "textposition": "top center",
         "type": "scatter",
         "x": [
          2
         ],
         "xaxis": "x",
         "y": [
          2
         ],
         "yaxis": "y"
        },
        {
         "hovertemplate": "<b>%{hovertext}</b><br><br>Team=Burnley FC<br>Number of Wins=%{x}<br>Number of Losses=%{y}<br>Number of Macthes Played=%{marker.size}<extra></extra>",
         "hovertext": [
          "Burnley FC"
         ],
         "legendgroup": "Burnley FC",
         "marker": {
          "color": "rgb(102,194,165)",
          "size": [
           4
          ],
          "sizemode": "area",
          "sizeref": 0.30375,
          "symbol": "circle"
         },
         "mode": "markers",
         "name": "Burnley FC",
         "orientation": "v",
         "showlegend": true,
         "textposition": "top center",
         "type": "scatter",
         "x": [
          2
         ],
         "xaxis": "x",
         "y": [
          2
         ],
         "yaxis": "y"
        },
        {
         "hovertemplate": "<b>%{hovertext}</b><br><br>Team=Cagliari Calcio<br>Number of Wins=%{x}<br>Number of Losses=%{y}<br>Number of Macthes Played=%{marker.size}<extra></extra>",
         "hovertext": [
          "Cagliari Calcio"
         ],
         "legendgroup": "Cagliari Calcio",
         "marker": {
          "color": "rgb(252,141,98)",
          "size": [
           4
          ],
          "sizemode": "area",
          "sizeref": 0.30375,
          "symbol": "circle"
         },
         "mode": "markers",
         "name": "Cagliari Calcio",
         "orientation": "v",
         "showlegend": true,
         "textposition": "top center",
         "type": "scatter",
         "x": [
          2
         ],
         "xaxis": "x",
         "y": [
          2
         ],
         "yaxis": "y"
        },
        {
         "hovertemplate": "<b>%{hovertext}</b><br><br>Team=Eintracht Braunschweig<br>Number of Wins=%{x}<br>Number of Losses=%{y}<br>Number of Macthes Played=%{marker.size}<extra></extra>",
         "hovertext": [
          "Eintracht Braunschweig"
         ],
         "legendgroup": "Eintracht Braunschweig",
         "marker": {
          "color": "rgb(141,160,203)",
          "size": [
           5
          ],
          "sizemode": "area",
          "sizeref": 0.30375,
          "symbol": "circle"
         },
         "mode": "markers",
         "name": "Eintracht Braunschweig",
         "orientation": "v",
         "showlegend": true,
         "textposition": "top center",
         "type": "scatter",
         "x": [
          2
         ],
         "xaxis": "x",
         "y": [
          3
         ],
         "yaxis": "y"
        },
        {
         "hovertemplate": "<b>%{hovertext}</b><br><br>Team=FC Twente<br>Number of Wins=%{x}<br>Number of Losses=%{y}<br>Number of Macthes Played=%{marker.size}<extra></extra>",
         "hovertext": [
          "FC Twente"
         ],
         "legendgroup": "FC Twente",
         "marker": {
          "color": "rgb(231,138,195)",
          "size": [
           6
          ],
          "sizemode": "area",
          "sizeref": 0.30375,
          "symbol": "circle"
         },
         "mode": "markers",
         "name": "FC Twente",
         "orientation": "v",
         "showlegend": true,
         "textposition": "top center",
         "type": "scatter",
         "x": [
          1
         ],
         "xaxis": "x",
         "y": [
          2
         ],
         "yaxis": "y"
        },
        {
         "hovertemplate": "<b>%{hovertext}</b><br><br>Team=RWDM Brussels FC<br>Number of Wins=%{x}<br>Number of Losses=%{y}<br>Number of Macthes Played=%{marker.size}<extra></extra>",
         "hovertext": [
          "RWDM Brussels FC"
         ],
         "legendgroup": "RWDM Brussels FC",
         "marker": {
          "color": "rgb(166,216,84)",
          "size": [
           4
          ],
          "sizemode": "area",
          "sizeref": 0.30375,
          "symbol": "circle"
         },
         "mode": "markers",
         "name": "RWDM Brussels FC",
         "orientation": "v",
         "showlegend": true,
         "textposition": "top center",
         "type": "scatter",
         "x": [
          2
         ],
         "xaxis": "x",
         "y": [
          2
         ],
         "yaxis": "y"
        },
        {
         "hovertemplate": "<b>%{hovertext}</b><br><br>Team=FC Petržalka<br>Number of Wins=%{x}<br>Number of Losses=%{y}<br>Number of Macthes Played=%{marker.size}<extra></extra>",
         "hovertext": [
          "FC Petržalka"
         ],
         "legendgroup": "FC Petržalka",
         "marker": {
          "color": "rgb(255,217,47)",
          "size": [
           6
          ],
          "sizemode": "area",
          "sizeref": 0.30375,
          "symbol": "circle"
         },
         "mode": "markers",
         "name": "FC Petržalka",
         "orientation": "v",
         "showlegend": true,
         "textposition": "top center",
         "type": "scatter",
         "x": [
          1
         ],
         "xaxis": "x",
         "y": [
          2
         ],
         "yaxis": "y"
        },
        {
         "hovertemplate": "<b>%{hovertext}</b><br><br>Team=Anorthosis Famagusta<br>Number of Wins=%{x}<br>Number of Losses=%{y}<br>Number of Macthes Played=%{marker.size}<extra></extra>",
         "hovertext": [
          "Anorthosis Famagusta"
         ],
         "legendgroup": "Anorthosis Famagusta",
         "marker": {
          "color": "rgb(229,196,148)",
          "size": [
           8
          ],
          "sizemode": "area",
          "sizeref": 0.30375,
          "symbol": "circle"
         },
         "mode": "markers",
         "name": "Anorthosis Famagusta",
         "orientation": "v",
         "showlegend": true,
         "textposition": "top center",
         "type": "scatter",
         "x": [
          1
         ],
         "xaxis": "x",
         "y": [
          4
         ],
         "yaxis": "y"
        },
        {
         "hovertemplate": "<b>%{hovertext}</b><br><br>Team=Lyn Oslo<br>Number of Wins=%{x}<br>Number of Losses=%{y}<br>Number of Macthes Played=%{marker.size}<extra></extra>",
         "hovertext": [
          "Lyn Oslo"
         ],
         "legendgroup": "Lyn Oslo",
         "marker": {
          "color": "rgb(179,179,179)",
          "size": [
           10
          ],
          "sizemode": "area",
          "sizeref": 0.30375,
          "symbol": "circle"
         },
         "mode": "markers",
         "name": "Lyn Oslo",
         "orientation": "v",
         "showlegend": true,
         "textposition": "top center",
         "type": "scatter",
         "x": [
          2
         ],
         "xaxis": "x",
         "y": [
          8
         ],
         "yaxis": "y"
        },
        {
         "hovertemplate": "<b>%{hovertext}</b><br><br>Team=Torino FC<br>Number of Wins=%{x}<br>Number of Losses=%{y}<br>Number of Macthes Played=%{marker.size}<extra></extra>",
         "hovertext": [
          "Torino FC"
         ],
         "legendgroup": "Torino FC",
         "marker": {
          "color": "rgb(102,194,165)",
          "size": [
           4
          ],
          "sizemode": "area",
          "sizeref": 0.30375,
          "symbol": "circle"
         },
         "mode": "markers",
         "name": "Torino FC",
         "orientation": "v",
         "showlegend": true,
         "textposition": "top center",
         "type": "scatter",
         "x": [
          1
         ],
         "xaxis": "x",
         "y": [
          1
         ],
         "yaxis": "y"
        },
        {
         "hovertemplate": "<b>%{hovertext}</b><br><br>Team=FK Sarajevo<br>Number of Wins=%{x}<br>Number of Losses=%{y}<br>Number of Macthes Played=%{marker.size}<extra></extra>",
         "hovertext": [
          "FK Sarajevo"
         ],
         "legendgroup": "FK Sarajevo",
         "marker": {
          "color": "rgb(252,141,98)",
          "size": [
           6
          ],
          "sizemode": "area",
          "sizeref": 0.30375,
          "symbol": "circle"
         },
         "mode": "markers",
         "name": "FK Sarajevo",
         "orientation": "v",
         "showlegend": true,
         "textposition": "top center",
         "type": "scatter",
         "x": [
          1
         ],
         "xaxis": "x",
         "y": [
          3
         ],
         "yaxis": "y"
        },
        {
         "hovertemplate": "<b>%{hovertext}</b><br><br>Team=Hapoel Tel Aviv<br>Number of Wins=%{x}<br>Number of Losses=%{y}<br>Number of Macthes Played=%{marker.size}<extra></extra>",
         "hovertext": [
          "Hapoel Tel Aviv"
         ],
         "legendgroup": "Hapoel Tel Aviv",
         "marker": {
          "color": "rgb(141,160,203)",
          "size": [
           6
          ],
          "sizemode": "area",
          "sizeref": 0.30375,
          "symbol": "circle"
         },
         "mode": "markers",
         "name": "Hapoel Tel Aviv",
         "orientation": "v",
         "showlegend": true,
         "textposition": "top center",
         "type": "scatter",
         "x": [
          1
         ],
         "xaxis": "x",
         "y": [
          3
         ],
         "yaxis": "y"
        },
        {
         "hovertemplate": "<b>%{hovertext}</b><br><br>Team=Gwardia Warszawa<br>Number of Wins=%{x}<br>Number of Losses=%{y}<br>Number of Macthes Played=%{marker.size}<extra></extra>",
         "hovertext": [
          "Gwardia Warszawa"
         ],
         "legendgroup": "Gwardia Warszawa",
         "marker": {
          "color": "rgb(231,138,195)",
          "size": [
           5
          ],
          "sizemode": "area",
          "sizeref": 0.30375,
          "symbol": "circle"
         },
         "mode": "markers",
         "name": "Gwardia Warszawa",
         "orientation": "v",
         "showlegend": true,
         "textposition": "top center",
         "type": "scatter",
         "x": [
          1
         ],
         "xaxis": "x",
         "y": [
          2
         ],
         "yaxis": "y"
        },
        {
         "hovertemplate": "<b>%{hovertext}</b><br><br>Team=Kilmarnock FC<br>Number of Wins=%{x}<br>Number of Losses=%{y}<br>Number of Macthes Played=%{marker.size}<extra></extra>",
         "hovertext": [
          "Kilmarnock FC"
         ],
         "legendgroup": "Kilmarnock FC",
         "marker": {
          "color": "rgb(166,216,84)",
          "size": [
           4
          ],
          "sizemode": "area",
          "sizeref": 0.30375,
          "symbol": "circle"
         },
         "mode": "markers",
         "name": "Kilmarnock FC",
         "orientation": "v",
         "showlegend": true,
         "textposition": "top center",
         "type": "scatter",
         "x": [
          1
         ],
         "xaxis": "x",
         "y": [
          1
         ],
         "yaxis": "y"
        },
        {
         "hovertemplate": "<b>%{hovertext}</b><br><br>Team=FC Hradec Králové<br>Number of Wins=%{x}<br>Number of Losses=%{y}<br>Number of Macthes Played=%{marker.size}<extra></extra>",
         "hovertext": [
          "FC Hradec Králové"
         ],
         "legendgroup": "FC Hradec Králové",
         "marker": {
          "color": "rgb(255,217,47)",
          "size": [
           4
          ],
          "sizemode": "area",
          "sizeref": 0.30375,
          "symbol": "circle"
         },
         "mode": "markers",
         "name": "FC Hradec Králové",
         "orientation": "v",
         "showlegend": true,
         "textposition": "top center",
         "type": "scatter",
         "x": [
          1
         ],
         "xaxis": "x",
         "y": [
          1
         ],
         "yaxis": "y"
        },
        {
         "hovertemplate": "<b>%{hovertext}</b><br><br>Team=FC La Chaux-de-Fonds<br>Number of Wins=%{x}<br>Number of Losses=%{y}<br>Number of Macthes Played=%{marker.size}<extra></extra>",
         "hovertext": [
          "FC La Chaux-de-Fonds"
         ],
         "legendgroup": "FC La Chaux-de-Fonds",
         "marker": {
          "color": "rgb(229,196,148)",
          "size": [
           4
          ],
          "sizemode": "area",
          "sizeref": 0.30375,
          "symbol": "circle"
         },
         "mode": "markers",
         "name": "FC La Chaux-de-Fonds",
         "orientation": "v",
         "showlegend": true,
         "textposition": "top center",
         "type": "scatter",
         "x": [
          1
         ],
         "xaxis": "x",
         "y": [
          1
         ],
         "yaxis": "y"
        },
        {
         "hovertemplate": "<b>%{hovertext}</b><br><br>Team=FK Krasnodar<br>Number of Wins=%{x}<br>Number of Losses=%{y}<br>Number of Macthes Played=%{marker.size}<extra></extra>",
         "hovertext": [
          "FK Krasnodar"
         ],
         "legendgroup": "FK Krasnodar",
         "marker": {
          "color": "rgb(179,179,179)",
          "size": [
           6
          ],
          "sizemode": "area",
          "sizeref": 0.30375,
          "symbol": "circle"
         },
         "mode": "markers",
         "name": "FK Krasnodar",
         "orientation": "v",
         "showlegend": true,
         "textposition": "top center",
         "type": "scatter",
         "x": [
          1
         ],
         "xaxis": "x",
         "y": [
          3
         ],
         "yaxis": "y"
        },
        {
         "hovertemplate": "<b>%{hovertext}</b><br><br>Team=FK Rostov<br>Number of Wins=%{x}<br>Number of Losses=%{y}<br>Number of Macthes Played=%{marker.size}<extra></extra>",
         "hovertext": [
          "FK Rostov"
         ],
         "legendgroup": "FK Rostov",
         "marker": {
          "color": "rgb(102,194,165)",
          "size": [
           6
          ],
          "sizemode": "area",
          "sizeref": 0.30375,
          "symbol": "circle"
         },
         "mode": "markers",
         "name": "FK Rostov",
         "orientation": "v",
         "showlegend": true,
         "textposition": "top center",
         "type": "scatter",
         "x": [
          1
         ],
         "xaxis": "x",
         "y": [
          3
         ],
         "yaxis": "y"
        },
        {
         "hovertemplate": "<b>%{hovertext}</b><br><br>Team=Helsingborgs IF<br>Number of Wins=%{x}<br>Number of Losses=%{y}<br>Number of Macthes Played=%{marker.size}<extra></extra>",
         "hovertext": [
          "Helsingborgs IF"
         ],
         "legendgroup": "Helsingborgs IF",
         "marker": {
          "color": "rgb(252,141,98)",
          "size": [
           6
          ],
          "sizemode": "area",
          "sizeref": 0.30375,
          "symbol": "circle"
         },
         "mode": "markers",
         "name": "Helsingborgs IF",
         "orientation": "v",
         "showlegend": true,
         "textposition": "top center",
         "type": "scatter",
         "x": [
          1
         ],
         "xaxis": "x",
         "y": [
          3
         ],
         "yaxis": "y"
        },
        {
         "hovertemplate": "<b>%{hovertext}</b><br><br>Team=Bohemian FC<br>Number of Wins=%{x}<br>Number of Losses=%{y}<br>Number of Macthes Played=%{marker.size}<extra></extra>",
         "hovertext": [
          "Bohemian FC"
         ],
         "legendgroup": "Bohemian FC",
         "marker": {
          "color": "rgb(141,160,203)",
          "size": [
           6
          ],
          "sizemode": "area",
          "sizeref": 0.30375,
          "symbol": "circle"
         },
         "mode": "markers",
         "name": "Bohemian FC",
         "orientation": "v",
         "showlegend": true,
         "textposition": "top center",
         "type": "scatter",
         "x": [
          1
         ],
         "xaxis": "x",
         "y": [
          3
         ],
         "yaxis": "y"
        },
        {
         "hovertemplate": "<b>%{hovertext}</b><br><br>Team=Viking FK<br>Number of Wins=%{x}<br>Number of Losses=%{y}<br>Number of Macthes Played=%{marker.size}<extra></extra>",
         "hovertext": [
          "Viking FK"
         ],
         "legendgroup": "Viking FK",
         "marker": {
          "color": "rgb(231,138,195)",
          "size": [
           14
          ],
          "sizemode": "area",
          "sizeref": 0.30375,
          "symbol": "circle"
         },
         "mode": "markers",
         "name": "Viking FK",
         "orientation": "v",
         "showlegend": true,
         "textposition": "top center",
         "type": "scatter",
         "x": [
          1
         ],
         "xaxis": "x",
         "y": [
          11
         ],
         "yaxis": "y"
        },
        {
         "hovertemplate": "<b>%{hovertext}</b><br><br>Team=Hibernians FC<br>Number of Wins=%{x}<br>Number of Losses=%{y}<br>Number of Macthes Played=%{marker.size}<extra></extra>",
         "hovertext": [
          "Hibernians FC"
         ],
         "legendgroup": "Hibernians FC",
         "marker": {
          "color": "rgb(166,216,84)",
          "size": [
           12
          ],
          "sizemode": "area",
          "sizeref": 0.30375,
          "symbol": "circle"
         },
         "mode": "markers",
         "name": "Hibernians FC",
         "orientation": "v",
         "showlegend": true,
         "textposition": "top center",
         "type": "scatter",
         "x": [
          1
         ],
         "xaxis": "x",
         "y": [
          9
         ],
         "yaxis": "y"
        },
        {
         "hovertemplate": "<b>%{hovertext}</b><br><br>Team=Rapid Bucureşti<br>Number of Wins=%{x}<br>Number of Losses=%{y}<br>Number of Macthes Played=%{marker.size}<extra></extra>",
         "hovertext": [
          "Rapid Bucureşti"
         ],
         "legendgroup": "Rapid Bucureşti",
         "marker": {
          "color": "rgb(255,217,47)",
          "size": [
           4
          ],
          "sizemode": "area",
          "sizeref": 0.30375,
          "symbol": "circle"
         },
         "mode": "markers",
         "name": "Rapid Bucureşti",
         "orientation": "v",
         "showlegend": true,
         "textposition": "top center",
         "type": "scatter",
         "x": [
          1
         ],
         "xaxis": "x",
         "y": [
          2
         ],
         "yaxis": "y"
        },
        {
         "hovertemplate": "<b>%{hovertext}</b><br><br>Team=Spartak Plovdiv<br>Number of Wins=%{x}<br>Number of Losses=%{y}<br>Number of Macthes Played=%{marker.size}<extra></extra>",
         "hovertext": [
          "Spartak Plovdiv"
         ],
         "legendgroup": "Spartak Plovdiv",
         "marker": {
          "color": "rgb(229,196,148)",
          "size": [
           4
          ],
          "sizemode": "area",
          "sizeref": 0.30375,
          "symbol": "circle"
         },
         "mode": "markers",
         "name": "Spartak Plovdiv",
         "orientation": "v",
         "showlegend": true,
         "textposition": "top center",
         "type": "scatter",
         "x": [
          1
         ],
         "xaxis": "x",
         "y": [
          2
         ],
         "yaxis": "y"
        },
        {
         "hovertemplate": "<b>%{hovertext}</b><br><br>Team=Bologna FC<br>Number of Wins=%{x}<br>Number of Losses=%{y}<br>Number of Macthes Played=%{marker.size}<extra></extra>",
         "hovertext": [
          "Bologna FC"
         ],
         "legendgroup": "Bologna FC",
         "marker": {
          "color": "rgb(179,179,179)",
          "size": [
           3
          ],
          "sizemode": "area",
          "sizeref": 0.30375,
          "symbol": "circle"
         },
         "mode": "markers",
         "name": "Bologna FC",
         "orientation": "v",
         "showlegend": true,
         "textposition": "top center",
         "type": "scatter",
         "x": [
          1
         ],
         "xaxis": "x",
         "y": [
          1
         ],
         "yaxis": "y"
        },
        {
         "hovertemplate": "<b>%{hovertext}</b><br><br>Team=AB Gladsaxe<br>Number of Wins=%{x}<br>Number of Losses=%{y}<br>Number of Macthes Played=%{marker.size}<extra></extra>",
         "hovertext": [
          "AB Gladsaxe"
         ],
         "legendgroup": "AB Gladsaxe",
         "marker": {
          "color": "rgb(102,194,165)",
          "size": [
           4
          ],
          "sizemode": "area",
          "sizeref": 0.30375,
          "symbol": "circle"
         },
         "mode": "markers",
         "name": "AB Gladsaxe",
         "orientation": "v",
         "showlegend": true,
         "textposition": "top center",
         "type": "scatter",
         "x": [
          1
         ],
         "xaxis": "x",
         "y": [
          2
         ],
         "yaxis": "y"
        },
        {
         "hovertemplate": "<b>%{hovertext}</b><br><br>Team=Halmstads BK<br>Number of Wins=%{x}<br>Number of Losses=%{y}<br>Number of Macthes Played=%{marker.size}<extra></extra>",
         "hovertext": [
          "Halmstads BK"
         ],
         "legendgroup": "Halmstads BK",
         "marker": {
          "color": "rgb(252,141,98)",
          "size": [
           4
          ],
          "sizemode": "area",
          "sizeref": 0.30375,
          "symbol": "circle"
         },
         "mode": "markers",
         "name": "Halmstads BK",
         "orientation": "v",
         "showlegend": true,
         "textposition": "top center",
         "type": "scatter",
         "x": [
          1
         ],
         "xaxis": "x",
         "y": [
          2
         ],
         "yaxis": "y"
        },
        {
         "hovertemplate": "<b>%{hovertext}</b><br><br>Team=Blackburn Rovers<br>Number of Wins=%{x}<br>Number of Losses=%{y}<br>Number of Macthes Played=%{marker.size}<extra></extra>",
         "hovertext": [
          "Blackburn Rovers"
         ],
         "legendgroup": "Blackburn Rovers",
         "marker": {
          "color": "rgb(141,160,203)",
          "size": [
           6
          ],
          "sizemode": "area",
          "sizeref": 0.30375,
          "symbol": "circle"
         },
         "mode": "markers",
         "name": "Blackburn Rovers",
         "orientation": "v",
         "showlegend": true,
         "textposition": "top center",
         "type": "scatter",
         "x": [
          1
         ],
         "xaxis": "x",
         "y": [
          4
         ],
         "yaxis": "y"
        },
        {
         "hovertemplate": "<b>%{hovertext}</b><br><br>Team=FC Thun Berner Oberland<br>Number of Wins=%{x}<br>Number of Losses=%{y}<br>Number of Macthes Played=%{marker.size}<extra></extra>",
         "hovertext": [
          "FC Thun Berner Oberland"
         ],
         "legendgroup": "FC Thun Berner Oberland",
         "marker": {
          "color": "rgb(231,138,195)",
          "size": [
           6
          ],
          "sizemode": "area",
          "sizeref": 0.30375,
          "symbol": "circle"
         },
         "mode": "markers",
         "name": "FC Thun Berner Oberland",
         "orientation": "v",
         "showlegend": true,
         "textposition": "top center",
         "type": "scatter",
         "x": [
          1
         ],
         "xaxis": "x",
         "y": [
          4
         ],
         "yaxis": "y"
        },
        {
         "hovertemplate": "<b>%{hovertext}</b><br><br>Team=FK Astana<br>Number of Wins=%{x}<br>Number of Losses=%{y}<br>Number of Macthes Played=%{marker.size}<extra></extra>",
         "hovertext": [
          "FK Astana"
         ],
         "legendgroup": "FK Astana",
         "marker": {
          "color": "rgb(166,216,84)",
          "size": [
           6
          ],
          "sizemode": "area",
          "sizeref": 0.30375,
          "symbol": "circle"
         },
         "mode": "markers",
         "name": "FK Astana",
         "orientation": "v",
         "showlegend": true,
         "textposition": "top center",
         "type": "scatter",
         "x": [
          0
         ],
         "xaxis": "x",
         "y": [
          2
         ],
         "yaxis": "y"
        },
        {
         "hovertemplate": "<b>%{hovertext}</b><br><br>Team=sc Heerenveen<br>Number of Wins=%{x}<br>Number of Losses=%{y}<br>Number of Macthes Played=%{marker.size}<extra></extra>",
         "hovertext": [
          "sc Heerenveen"
         ],
         "legendgroup": "sc Heerenveen",
         "marker": {
          "color": "rgb(255,217,47)",
          "size": [
           6
          ],
          "sizemode": "area",
          "sizeref": 0.30375,
          "symbol": "circle"
         },
         "mode": "markers",
         "name": "sc Heerenveen",
         "orientation": "v",
         "showlegend": true,
         "textposition": "top center",
         "type": "scatter",
         "x": [
          1
         ],
         "xaxis": "x",
         "y": [
          4
         ],
         "yaxis": "y"
        },
        {
         "hovertemplate": "<b>%{hovertext}</b><br><br>Team=PAOK Saloniki<br>Number of Wins=%{x}<br>Number of Losses=%{y}<br>Number of Macthes Played=%{marker.size}<extra></extra>",
         "hovertext": [
          "PAOK Saloniki"
         ],
         "legendgroup": "PAOK Saloniki",
         "marker": {
          "color": "rgb(229,196,148)",
          "size": [
           6
          ],
          "sizemode": "area",
          "sizeref": 0.30375,
          "symbol": "circle"
         },
         "mode": "markers",
         "name": "PAOK Saloniki",
         "orientation": "v",
         "showlegend": true,
         "textposition": "top center",
         "type": "scatter",
         "x": [
          1
         ],
         "xaxis": "x",
         "y": [
          4
         ],
         "yaxis": "y"
        },
        {
         "hovertemplate": "<b>%{hovertext}</b><br><br>Team=Östers IF<br>Number of Wins=%{x}<br>Number of Losses=%{y}<br>Number of Macthes Played=%{marker.size}<extra></extra>",
         "hovertext": [
          "Östers IF"
         ],
         "legendgroup": "Östers IF",
         "marker": {
          "color": "rgb(179,179,179)",
          "size": [
           8
          ],
          "sizemode": "area",
          "sizeref": 0.30375,
          "symbol": "circle"
         },
         "mode": "markers",
         "name": "Östers IF",
         "orientation": "v",
         "showlegend": true,
         "textposition": "top center",
         "type": "scatter",
         "x": [
          1
         ],
         "xaxis": "x",
         "y": [
          6
         ],
         "yaxis": "y"
        },
        {
         "hovertemplate": "<b>%{hovertext}</b><br><br>Team=AIK Solna<br>Number of Wins=%{x}<br>Number of Losses=%{y}<br>Number of Macthes Played=%{marker.size}<extra></extra>",
         "hovertext": [
          "AIK Solna"
         ],
         "legendgroup": "AIK Solna",
         "marker": {
          "color": "rgb(102,194,165)",
          "size": [
           8
          ],
          "sizemode": "area",
          "sizeref": 0.30375,
          "symbol": "circle"
         },
         "mode": "markers",
         "name": "AIK Solna",
         "orientation": "v",
         "showlegend": true,
         "textposition": "top center",
         "type": "scatter",
         "x": [
          1
         ],
         "xaxis": "x",
         "y": [
          6
         ],
         "yaxis": "y"
        },
        {
         "hovertemplate": "<b>%{hovertext}</b><br><br>Team=Fredrikstad FK<br>Number of Wins=%{x}<br>Number of Losses=%{y}<br>Number of Macthes Played=%{marker.size}<extra></extra>",
         "hovertext": [
          "Fredrikstad FK"
         ],
         "legendgroup": "Fredrikstad FK",
         "marker": {
          "color": "rgb(252,141,98)",
          "size": [
           8
          ],
          "sizemode": "area",
          "sizeref": 0.30375,
          "symbol": "circle"
         },
         "mode": "markers",
         "name": "Fredrikstad FK",
         "orientation": "v",
         "showlegend": true,
         "textposition": "top center",
         "type": "scatter",
         "x": [
          1
         ],
         "xaxis": "x",
         "y": [
          6
         ],
         "yaxis": "y"
        },
        {
         "hovertemplate": "<b>%{hovertext}</b><br><br>Team=Shamrock Rovers<br>Number of Wins=%{x}<br>Number of Losses=%{y}<br>Number of Macthes Played=%{marker.size}<extra></extra>",
         "hovertext": [
          "Shamrock Rovers"
         ],
         "legendgroup": "Shamrock Rovers",
         "marker": {
          "color": "rgb(141,160,203)",
          "size": [
           14
          ],
          "sizemode": "area",
          "sizeref": 0.30375,
          "symbol": "circle"
         },
         "mode": "markers",
         "name": "Shamrock Rovers",
         "orientation": "v",
         "showlegend": true,
         "textposition": "top center",
         "type": "scatter",
         "x": [
          0
         ],
         "xaxis": "x",
         "y": [
          10
         ],
         "yaxis": "y"
        },
        {
         "hovertemplate": "<b>%{hovertext}</b><br><br>Team=Maccabi Tel Aviv<br>Number of Wins=%{x}<br>Number of Losses=%{y}<br>Number of Macthes Played=%{marker.size}<extra></extra>",
         "hovertext": [
          "Maccabi Tel Aviv"
         ],
         "legendgroup": "Maccabi Tel Aviv",
         "marker": {
          "color": "rgb(231,138,195)",
          "size": [
           14
          ],
          "sizemode": "area",
          "sizeref": 0.30375,
          "symbol": "circle"
         },
         "mode": "markers",
         "name": "Maccabi Tel Aviv",
         "orientation": "v",
         "showlegend": true,
         "textposition": "top center",
         "type": "scatter",
         "x": [
          1
         ],
         "xaxis": "x",
         "y": [
          12
         ],
         "yaxis": "y"
        },
        {
         "hovertemplate": "<b>%{hovertext}</b><br><br>Team=AE Lárissa<br>Number of Wins=%{x}<br>Number of Losses=%{y}<br>Number of Macthes Played=%{marker.size}<extra></extra>",
         "hovertext": [
          "AE Lárissa"
         ],
         "legendgroup": "AE Lárissa",
         "marker": {
          "color": "rgb(166,216,84)",
          "size": [
           2
          ],
          "sizemode": "area",
          "sizeref": 0.30375,
          "symbol": "circle"
         },
         "mode": "markers",
         "name": "AE Lárissa",
         "orientation": "v",
         "showlegend": true,
         "textposition": "top center",
         "type": "scatter",
         "x": [
          1
         ],
         "xaxis": "x",
         "y": [
          1
         ],
         "yaxis": "y"
        },
        {
         "hovertemplate": "<b>%{hovertext}</b><br><br>Team=Dinamo Tbilisi<br>Number of Wins=%{x}<br>Number of Losses=%{y}<br>Number of Macthes Played=%{marker.size}<extra></extra>",
         "hovertext": [
          "Dinamo Tbilisi"
         ],
         "legendgroup": "Dinamo Tbilisi",
         "marker": {
          "color": "rgb(255,217,47)",
          "size": [
           4
          ],
          "sizemode": "area",
          "sizeref": 0.30375,
          "symbol": "circle"
         },
         "mode": "markers",
         "name": "Dinamo Tbilisi",
         "orientation": "v",
         "showlegend": true,
         "textposition": "top center",
         "type": "scatter",
         "x": [
          1
         ],
         "xaxis": "x",
         "y": [
          3
         ],
         "yaxis": "y"
        },
        {
         "hovertemplate": "<b>%{hovertext}</b><br><br>Team=FK Vllaznia<br>Number of Wins=%{x}<br>Number of Losses=%{y}<br>Number of Macthes Played=%{marker.size}<extra></extra>",
         "hovertext": [
          "FK Vllaznia"
         ],
         "legendgroup": "FK Vllaznia",
         "marker": {
          "color": "rgb(229,196,148)",
          "size": [
           2
          ],
          "sizemode": "area",
          "sizeref": 0.30375,
          "symbol": "circle"
         },
         "mode": "markers",
         "name": "FK Vllaznia",
         "orientation": "v",
         "showlegend": true,
         "textposition": "top center",
         "type": "scatter",
         "x": [
          1
         ],
         "xaxis": "x",
         "y": [
          1
         ],
         "yaxis": "y"
        },
        {
         "hovertemplate": "<b>%{hovertext}</b><br><br>Team=Torpedo Moskva<br>Number of Wins=%{x}<br>Number of Losses=%{y}<br>Number of Macthes Played=%{marker.size}<extra></extra>",
         "hovertext": [
          "Torpedo Moskva"
         ],
         "legendgroup": "Torpedo Moskva",
         "marker": {
          "color": "rgb(179,179,179)",
          "size": [
           4
          ],
          "sizemode": "area",
          "sizeref": 0.30375,
          "symbol": "circle"
         },
         "mode": "markers",
         "name": "Torpedo Moskva",
         "orientation": "v",
         "showlegend": true,
         "textposition": "top center",
         "type": "scatter",
         "x": [
          0
         ],
         "xaxis": "x",
         "y": [
          1
         ],
         "yaxis": "y"
        },
        {
         "hovertemplate": "<b>%{hovertext}</b><br><br>Team=1. FC Saarbrücken<br>Number of Wins=%{x}<br>Number of Losses=%{y}<br>Number of Macthes Played=%{marker.size}<extra></extra>",
         "hovertext": [
          "1. FC Saarbrücken"
         ],
         "legendgroup": "1. FC Saarbrücken",
         "marker": {
          "color": "rgb(102,194,165)",
          "size": [
           2
          ],
          "sizemode": "area",
          "sizeref": 0.30375,
          "symbol": "circle"
         },
         "mode": "markers",
         "name": "1. FC Saarbrücken",
         "orientation": "v",
         "showlegend": true,
         "textposition": "top center",
         "type": "scatter",
         "x": [
          1
         ],
         "xaxis": "x",
         "y": [
          1
         ],
         "yaxis": "y"
        },
        {
         "hovertemplate": "<b>%{hovertext}</b><br><br>Team=Zagłębie Lubin<br>Number of Wins=%{x}<br>Number of Losses=%{y}<br>Number of Macthes Played=%{marker.size}<extra></extra>",
         "hovertext": [
          "Zagłębie Lubin"
         ],
         "legendgroup": "Zagłębie Lubin",
         "marker": {
          "color": "rgb(252,141,98)",
          "size": [
           2
          ],
          "sizemode": "area",
          "sizeref": 0.30375,
          "symbol": "circle"
         },
         "mode": "markers",
         "name": "Zagłębie Lubin",
         "orientation": "v",
         "showlegend": true,
         "textposition": "top center",
         "type": "scatter",
         "x": [
          1
         ],
         "xaxis": "x",
         "y": [
          1
         ],
         "yaxis": "y"
        },
        {
         "hovertemplate": "<b>%{hovertext}</b><br><br>Team=Hansa Rostock<br>Number of Wins=%{x}<br>Number of Losses=%{y}<br>Number of Macthes Played=%{marker.size}<extra></extra>",
         "hovertext": [
          "Hansa Rostock"
         ],
         "legendgroup": "Hansa Rostock",
         "marker": {
          "color": "rgb(141,160,203)",
          "size": [
           2
          ],
          "sizemode": "area",
          "sizeref": 0.30375,
          "symbol": "circle"
         },
         "mode": "markers",
         "name": "Hansa Rostock",
         "orientation": "v",
         "showlegend": true,
         "textposition": "top center",
         "type": "scatter",
         "x": [
          1
         ],
         "xaxis": "x",
         "y": [
          1
         ],
         "yaxis": "y"
        },
        {
         "hovertemplate": "<b>%{hovertext}</b><br><br>Team=KA Akureyri<br>Number of Wins=%{x}<br>Number of Losses=%{y}<br>Number of Macthes Played=%{marker.size}<extra></extra>",
         "hovertext": [
          "KA Akureyri"
         ],
         "legendgroup": "KA Akureyri",
         "marker": {
          "color": "rgb(231,138,195)",
          "size": [
           2
          ],
          "sizemode": "area",
          "sizeref": 0.30375,
          "symbol": "circle"
         },
         "mode": "markers",
         "name": "KA Akureyri",
         "orientation": "v",
         "showlegend": true,
         "textposition": "top center",
         "type": "scatter",
         "x": [
          1
         ],
         "xaxis": "x",
         "y": [
          1
         ],
         "yaxis": "y"
        },
        {
         "hovertemplate": "<b>%{hovertext}</b><br><br>Team=1899 Hoffenheim<br>Number of Wins=%{x}<br>Number of Losses=%{y}<br>Number of Macthes Played=%{marker.size}<extra></extra>",
         "hovertext": [
          "1899 Hoffenheim"
         ],
         "legendgroup": "1899 Hoffenheim",
         "marker": {
          "color": "rgb(166,216,84)",
          "size": [
           6
          ],
          "sizemode": "area",
          "sizeref": 0.30375,
          "symbol": "circle"
         },
         "mode": "markers",
         "name": "1899 Hoffenheim",
         "orientation": "v",
         "showlegend": true,
         "textposition": "top center",
         "type": "scatter",
         "x": [
          0
         ],
         "xaxis": "x",
         "y": [
          3
         ],
         "yaxis": "y"
        },
        {
         "hovertemplate": "<b>%{hovertext}</b><br><br>Team=Botev Plovdiv<br>Number of Wins=%{x}<br>Number of Losses=%{y}<br>Number of Macthes Played=%{marker.size}<extra></extra>",
         "hovertext": [
          "Botev Plovdiv"
         ],
         "legendgroup": "Botev Plovdiv",
         "marker": {
          "color": "rgb(255,217,47)",
          "size": [
           4
          ],
          "sizemode": "area",
          "sizeref": 0.30375,
          "symbol": "circle"
         },
         "mode": "markers",
         "name": "Botev Plovdiv",
         "orientation": "v",
         "showlegend": true,
         "textposition": "top center",
         "type": "scatter",
         "x": [
          1
         ],
         "xaxis": "x",
         "y": [
          3
         ],
         "yaxis": "y"
        },
        {
         "hovertemplate": "<b>%{hovertext}</b><br><br>Team=Apollon Limassol<br>Number of Wins=%{x}<br>Number of Losses=%{y}<br>Number of Macthes Played=%{marker.size}<extra></extra>",
         "hovertext": [
          "Apollon Limassol"
         ],
         "legendgroup": "Apollon Limassol",
         "marker": {
          "color": "rgb(229,196,148)",
          "size": [
           4
          ],
          "sizemode": "area",
          "sizeref": 0.30375,
          "symbol": "circle"
         },
         "mode": "markers",
         "name": "Apollon Limassol",
         "orientation": "v",
         "showlegend": true,
         "textposition": "top center",
         "type": "scatter",
         "x": [
          1
         ],
         "xaxis": "x",
         "y": [
          3
         ],
         "yaxis": "y"
        },
        {
         "hovertemplate": "<b>%{hovertext}</b><br><br>Team=Szombierki Bytom<br>Number of Wins=%{x}<br>Number of Losses=%{y}<br>Number of Macthes Played=%{marker.size}<extra></extra>",
         "hovertext": [
          "Szombierki Bytom"
         ],
         "legendgroup": "Szombierki Bytom",
         "marker": {
          "color": "rgb(179,179,179)",
          "size": [
           4
          ],
          "sizemode": "area",
          "sizeref": 0.30375,
          "symbol": "circle"
         },
         "mode": "markers",
         "name": "Szombierki Bytom",
         "orientation": "v",
         "showlegend": true,
         "textposition": "top center",
         "type": "scatter",
         "x": [
          1
         ],
         "xaxis": "x",
         "y": [
          3
         ],
         "yaxis": "y"
        },
        {
         "hovertemplate": "<b>%{hovertext}</b><br><br>Team=FC Differdange 03<br>Number of Wins=%{x}<br>Number of Losses=%{y}<br>Number of Macthes Played=%{marker.size}<extra></extra>",
         "hovertext": [
          "FC Differdange 03"
         ],
         "legendgroup": "FC Differdange 03",
         "marker": {
          "color": "rgb(102,194,165)",
          "size": [
           2
          ],
          "sizemode": "area",
          "sizeref": 0.30375,
          "symbol": "circle"
         },
         "mode": "markers",
         "name": "FC Differdange 03",
         "orientation": "v",
         "showlegend": true,
         "textposition": "top center",
         "type": "scatter",
         "x": [
          1
         ],
         "xaxis": "x",
         "y": [
          1
         ],
         "yaxis": "y"
        },
        {
         "hovertemplate": "<b>%{hovertext}</b><br><br>Team=ŁKS Łódź<br>Number of Wins=%{x}<br>Number of Losses=%{y}<br>Number of Macthes Played=%{marker.size}<extra></extra>",
         "hovertext": [
          "ŁKS Łódź"
         ],
         "legendgroup": "ŁKS Łódź",
         "marker": {
          "color": "rgb(252,141,98)",
          "size": [
           2
          ],
          "sizemode": "area",
          "sizeref": 0.30375,
          "symbol": "circle"
         },
         "mode": "markers",
         "name": "ŁKS Łódź",
         "orientation": "v",
         "showlegend": true,
         "textposition": "top center",
         "type": "scatter",
         "x": [
          1
         ],
         "xaxis": "x",
         "y": [
          1
         ],
         "yaxis": "y"
        },
        {
         "hovertemplate": "<b>%{hovertext}</b><br><br>Team=Heart of Midlothian<br>Number of Wins=%{x}<br>Number of Losses=%{y}<br>Number of Macthes Played=%{marker.size}<extra></extra>",
         "hovertext": [
          "Heart of Midlothian"
         ],
         "legendgroup": "Heart of Midlothian",
         "marker": {
          "color": "rgb(141,160,203)",
          "size": [
           4
          ],
          "sizemode": "area",
          "sizeref": 0.30375,
          "symbol": "circle"
         },
         "mode": "markers",
         "name": "Heart of Midlothian",
         "orientation": "v",
         "showlegend": true,
         "textposition": "top center",
         "type": "scatter",
         "x": [
          1
         ],
         "xaxis": "x",
         "y": [
          3
         ],
         "yaxis": "y"
        },
        {
         "hovertemplate": "<b>%{hovertext}</b><br><br>Team=Molde FK<br>Number of Wins=%{x}<br>Number of Losses=%{y}<br>Number of Macthes Played=%{marker.size}<extra></extra>",
         "hovertext": [
          "Molde FK"
         ],
         "legendgroup": "Molde FK",
         "marker": {
          "color": "rgb(231,138,195)",
          "size": [
           6
          ],
          "sizemode": "area",
          "sizeref": 0.30375,
          "symbol": "circle"
         },
         "mode": "markers",
         "name": "Molde FK",
         "orientation": "v",
         "showlegend": true,
         "textposition": "top center",
         "type": "scatter",
         "x": [
          1
         ],
         "xaxis": "x",
         "y": [
          5
         ],
         "yaxis": "y"
        },
        {
         "hovertemplate": "<b>%{hovertext}</b><br><br>Team=İstanbul Başakşehir<br>Number of Wins=%{x}<br>Number of Losses=%{y}<br>Number of Macthes Played=%{marker.size}<extra></extra>",
         "hovertext": [
          "İstanbul Başakşehir"
         ],
         "legendgroup": "İstanbul Başakşehir",
         "marker": {
          "color": "rgb(166,216,84)",
          "size": [
           6
          ],
          "sizemode": "area",
          "sizeref": 0.30375,
          "symbol": "circle"
         },
         "mode": "markers",
         "name": "İstanbul Başakşehir",
         "orientation": "v",
         "showlegend": true,
         "textposition": "top center",
         "type": "scatter",
         "x": [
          1
         ],
         "xaxis": "x",
         "y": [
          5
         ],
         "yaxis": "y"
        },
        {
         "hovertemplate": "<b>%{hovertext}</b><br><br>Team=Derry City<br>Number of Wins=%{x}<br>Number of Losses=%{y}<br>Number of Macthes Played=%{marker.size}<extra></extra>",
         "hovertext": [
          "Derry City"
         ],
         "legendgroup": "Derry City",
         "marker": {
          "color": "rgb(255,217,47)",
          "size": [
           6
          ],
          "sizemode": "area",
          "sizeref": 0.30375,
          "symbol": "circle"
         },
         "mode": "markers",
         "name": "Derry City",
         "orientation": "v",
         "showlegend": true,
         "textposition": "top center",
         "type": "scatter",
         "x": [
          1
         ],
         "xaxis": "x",
         "y": [
          5
         ],
         "yaxis": "y"
        },
        {
         "hovertemplate": "<b>%{hovertext}</b><br><br>Team=Royal Antwerp FC<br>Number of Wins=%{x}<br>Number of Losses=%{y}<br>Number of Macthes Played=%{marker.size}<extra></extra>",
         "hovertext": [
          "Royal Antwerp FC"
         ],
         "legendgroup": "Royal Antwerp FC",
         "marker": {
          "color": "rgb(229,196,148)",
          "size": [
           8
          ],
          "sizemode": "area",
          "sizeref": 0.30375,
          "symbol": "circle"
         },
         "mode": "markers",
         "name": "Royal Antwerp FC",
         "orientation": "v",
         "showlegend": true,
         "textposition": "top center",
         "type": "scatter",
         "x": [
          1
         ],
         "xaxis": "x",
         "y": [
          7
         ],
         "yaxis": "y"
        },
        {
         "hovertemplate": "<b>%{hovertext}</b><br><br>Team=TPS Turku<br>Number of Wins=%{x}<br>Number of Losses=%{y}<br>Number of Macthes Played=%{marker.size}<extra></extra>",
         "hovertext": [
          "TPS Turku"
         ],
         "legendgroup": "TPS Turku",
         "marker": {
          "color": "rgb(179,179,179)",
          "size": [
           8
          ],
          "sizemode": "area",
          "sizeref": 0.30375,
          "symbol": "circle"
         },
         "mode": "markers",
         "name": "TPS Turku",
         "orientation": "v",
         "showlegend": true,
         "textposition": "top center",
         "type": "scatter",
         "x": [
          1
         ],
         "xaxis": "x",
         "y": [
          7
         ],
         "yaxis": "y"
        },
        {
         "hovertemplate": "<b>%{hovertext}</b><br><br>Team=Haka Valkeakoski<br>Number of Wins=%{x}<br>Number of Losses=%{y}<br>Number of Macthes Played=%{marker.size}<extra></extra>",
         "hovertext": [
          "Haka Valkeakoski"
         ],
         "legendgroup": "Haka Valkeakoski",
         "marker": {
          "color": "rgb(102,194,165)",
          "size": [
           8
          ],
          "sizemode": "area",
          "sizeref": 0.30375,
          "symbol": "circle"
         },
         "mode": "markers",
         "name": "Haka Valkeakoski",
         "orientation": "v",
         "showlegend": true,
         "textposition": "top center",
         "type": "scatter",
         "x": [
          1
         ],
         "xaxis": "x",
         "y": [
          7
         ],
         "yaxis": "y"
        },
        {
         "hovertemplate": "<b>%{hovertext}</b><br><br>Team=Drumcondra Dublin<br>Number of Wins=%{x}<br>Number of Losses=%{y}<br>Number of Macthes Played=%{marker.size}<extra></extra>",
         "hovertext": [
          "Drumcondra Dublin"
         ],
         "legendgroup": "Drumcondra Dublin",
         "marker": {
          "color": "rgb(252,141,98)",
          "size": [
           6
          ],
          "sizemode": "area",
          "sizeref": 0.30375,
          "symbol": "circle"
         },
         "mode": "markers",
         "name": "Drumcondra Dublin",
         "orientation": "v",
         "showlegend": true,
         "textposition": "top center",
         "type": "scatter",
         "x": [
          1
         ],
         "xaxis": "x",
         "y": [
          5
         ],
         "yaxis": "y"
        },
        {
         "hovertemplate": "<b>%{hovertext}</b><br><br>Team=Hamrun Spartans<br>Number of Wins=%{x}<br>Number of Losses=%{y}<br>Number of Macthes Played=%{marker.size}<extra></extra>",
         "hovertext": [
          "Hamrun Spartans"
         ],
         "legendgroup": "Hamrun Spartans",
         "marker": {
          "color": "rgb(141,160,203)",
          "size": [
           8
          ],
          "sizemode": "area",
          "sizeref": 0.30375,
          "symbol": "circle"
         },
         "mode": "markers",
         "name": "Hamrun Spartans",
         "orientation": "v",
         "showlegend": true,
         "textposition": "top center",
         "type": "scatter",
         "x": [
          1
         ],
         "xaxis": "x",
         "y": [
          7
         ],
         "yaxis": "y"
        },
        {
         "hovertemplate": "<b>%{hovertext}</b><br><br>Team=Spora Luxemburg<br>Number of Wins=%{x}<br>Number of Losses=%{y}<br>Number of Macthes Played=%{marker.size}<extra></extra>",
         "hovertext": [
          "Spora Luxemburg"
         ],
         "legendgroup": "Spora Luxemburg",
         "marker": {
          "color": "rgb(231,138,195)",
          "size": [
           7
          ],
          "sizemode": "area",
          "sizeref": 0.30375,
          "symbol": "circle"
         },
         "mode": "markers",
         "name": "Spora Luxemburg",
         "orientation": "v",
         "showlegend": true,
         "textposition": "top center",
         "type": "scatter",
         "x": [
          1
         ],
         "xaxis": "x",
         "y": [
          6
         ],
         "yaxis": "y"
        },
        {
         "hovertemplate": "<b>%{hovertext}</b><br><br>Team=Valletta FC<br>Number of Wins=%{x}<br>Number of Losses=%{y}<br>Number of Macthes Played=%{marker.size}<extra></extra>",
         "hovertext": [
          "Valletta FC"
         ],
         "legendgroup": "Valletta FC",
         "marker": {
          "color": "rgb(166,216,84)",
          "size": [
           10
          ],
          "sizemode": "area",
          "sizeref": 0.30375,
          "symbol": "circle"
         },
         "mode": "markers",
         "name": "Valletta FC",
         "orientation": "v",
         "showlegend": true,
         "textposition": "top center",
         "type": "scatter",
         "x": [
          1
         ],
         "xaxis": "x",
         "y": [
          9
         ],
         "yaxis": "y"
        },
        {
         "hovertemplate": "<b>%{hovertext}</b><br><br>Team=Floriana FC<br>Number of Wins=%{x}<br>Number of Losses=%{y}<br>Number of Macthes Played=%{marker.size}<extra></extra>",
         "hovertext": [
          "Floriana FC"
         ],
         "legendgroup": "Floriana FC",
         "marker": {
          "color": "rgb(255,217,47)",
          "size": [
           14
          ],
          "sizemode": "area",
          "sizeref": 0.30375,
          "symbol": "circle"
         },
         "mode": "markers",
         "name": "Floriana FC",
         "orientation": "v",
         "showlegend": true,
         "textposition": "top center",
         "type": "scatter",
         "x": [
          0
         ],
         "xaxis": "x",
         "y": [
          11
         ],
         "yaxis": "y"
        },
        {
         "hovertemplate": "<b>%{hovertext}</b><br><br>Team=Flamurtari Vlorë<br>Number of Wins=%{x}<br>Number of Losses=%{y}<br>Number of Macthes Played=%{marker.size}<extra></extra>",
         "hovertext": [
          "Flamurtari Vlorë"
         ],
         "legendgroup": "Flamurtari Vlorë",
         "marker": {
          "color": "rgb(229,196,148)",
          "size": [
           2
          ],
          "sizemode": "area",
          "sizeref": 0.30375,
          "symbol": "circle"
         },
         "mode": "markers",
         "name": "Flamurtari Vlorë",
         "orientation": "v",
         "showlegend": true,
         "textposition": "top center",
         "type": "scatter",
         "x": [
          0
         ],
         "xaxis": "x",
         "y": [
          0
         ],
         "yaxis": "y"
        },
        {
         "hovertemplate": "<b>%{hovertext}</b><br><br>Team=1. FC Union Berlin<br>Number of Wins=%{x}<br>Number of Losses=%{y}<br>Number of Macthes Played=%{marker.size}<extra></extra>",
         "hovertext": [
          "1. FC Union Berlin"
         ],
         "legendgroup": "1. FC Union Berlin",
         "marker": {
          "color": "rgb(179,179,179)",
          "size": [
           6
          ],
          "sizemode": "area",
          "sizeref": 0.30375,
          "symbol": "circle"
         },
         "mode": "markers",
         "name": "1. FC Union Berlin",
         "orientation": "v",
         "showlegend": true,
         "textposition": "top center",
         "type": "scatter",
         "x": [
          0
         ],
         "xaxis": "x",
         "y": [
          4
         ],
         "yaxis": "y"
        },
        {
         "hovertemplate": "<b>%{hovertext}</b><br><br>Team=Montpellier HSC<br>Number of Wins=%{x}<br>Number of Losses=%{y}<br>Number of Macthes Played=%{marker.size}<extra></extra>",
         "hovertext": [
          "Montpellier HSC"
         ],
         "legendgroup": "Montpellier HSC",
         "marker": {
          "color": "rgb(102,194,165)",
          "size": [
           6
          ],
          "sizemode": "area",
          "sizeref": 0.30375,
          "symbol": "circle"
         },
         "mode": "markers",
         "name": "Montpellier HSC",
         "orientation": "v",
         "showlegend": true,
         "textposition": "top center",
         "type": "scatter",
         "x": [
          0
         ],
         "xaxis": "x",
         "y": [
          4
         ],
         "yaxis": "y"
        },
        {
         "hovertemplate": "<b>%{hovertext}</b><br><br>Team=Athlone Town<br>Number of Wins=%{x}<br>Number of Losses=%{y}<br>Number of Macthes Played=%{marker.size}<extra></extra>",
         "hovertext": [
          "Athlone Town"
         ],
         "legendgroup": "Athlone Town",
         "marker": {
          "color": "rgb(252,141,98)",
          "size": [
           4
          ],
          "sizemode": "area",
          "sizeref": 0.30375,
          "symbol": "circle"
         },
         "mode": "markers",
         "name": "Athlone Town",
         "orientation": "v",
         "showlegend": true,
         "textposition": "top center",
         "type": "scatter",
         "x": [
          0
         ],
         "xaxis": "x",
         "y": [
          2
         ],
         "yaxis": "y"
        },
        {
         "hovertemplate": "<b>%{hovertext}</b><br><br>Team=Willem II<br>Number of Wins=%{x}<br>Number of Losses=%{y}<br>Number of Macthes Played=%{marker.size}<extra></extra>",
         "hovertext": [
          "Willem II"
         ],
         "legendgroup": "Willem II",
         "marker": {
          "color": "rgb(141,160,203)",
          "size": [
           6
          ],
          "sizemode": "area",
          "sizeref": 0.30375,
          "symbol": "circle"
         },
         "mode": "markers",
         "name": "Willem II",
         "orientation": "v",
         "showlegend": true,
         "textposition": "top center",
         "type": "scatter",
         "x": [
          0
         ],
         "xaxis": "x",
         "y": [
          4
         ],
         "yaxis": "y"
        },
        {
         "hovertemplate": "<b>%{hovertext}</b><br><br>Team=Vålerenga IF<br>Number of Wins=%{x}<br>Number of Losses=%{y}<br>Number of Macthes Played=%{marker.size}<extra></extra>",
         "hovertext": [
          "Vålerenga IF"
         ],
         "legendgroup": "Vålerenga IF",
         "marker": {
          "color": "rgb(231,138,195)",
          "size": [
           6
          ],
          "sizemode": "area",
          "sizeref": 0.30375,
          "symbol": "circle"
         },
         "mode": "markers",
         "name": "Vålerenga IF",
         "orientation": "v",
         "showlegend": true,
         "textposition": "top center",
         "type": "scatter",
         "x": [
          0
         ],
         "xaxis": "x",
         "y": [
          4
         ],
         "yaxis": "y"
        },
        {
         "hovertemplate": "<b>%{hovertext}</b><br><br>Team=FC Midtjylland<br>Number of Wins=%{x}<br>Number of Losses=%{y}<br>Number of Macthes Played=%{marker.size}<extra></extra>",
         "hovertext": [
          "FC Midtjylland"
         ],
         "legendgroup": "FC Midtjylland",
         "marker": {
          "color": "rgb(166,216,84)",
          "size": [
           6
          ],
          "sizemode": "area",
          "sizeref": 0.30375,
          "symbol": "circle"
         },
         "mode": "markers",
         "name": "FC Midtjylland",
         "orientation": "v",
         "showlegend": true,
         "textposition": "top center",
         "type": "scatter",
         "x": [
          0
         ],
         "xaxis": "x",
         "y": [
          4
         ],
         "yaxis": "y"
        },
        {
         "hovertemplate": "<b>%{hovertext}</b><br><br>Team=Qarabağ FK<br>Number of Wins=%{x}<br>Number of Losses=%{y}<br>Number of Macthes Played=%{marker.size}<extra></extra>",
         "hovertext": [
          "Qarabağ FK"
         ],
         "legendgroup": "Qarabağ FK",
         "marker": {
          "color": "rgb(255,217,47)",
          "size": [
           6
          ],
          "sizemode": "area",
          "sizeref": 0.30375,
          "symbol": "circle"
         },
         "mode": "markers",
         "name": "Qarabağ FK",
         "orientation": "v",
         "showlegend": true,
         "textposition": "top center",
         "type": "scatter",
         "x": [
          0
         ],
         "xaxis": "x",
         "y": [
          4
         ],
         "yaxis": "y"
        },
        {
         "hovertemplate": "<b>%{hovertext}</b><br><br>Team=UTA Arad<br>Number of Wins=%{x}<br>Number of Losses=%{y}<br>Number of Macthes Played=%{marker.size}<extra></extra>",
         "hovertext": [
          "UTA Arad"
         ],
         "legendgroup": "UTA Arad",
         "marker": {
          "color": "rgb(229,196,148)",
          "size": [
           6
          ],
          "sizemode": "area",
          "sizeref": 0.30375,
          "symbol": "circle"
         },
         "mode": "markers",
         "name": "UTA Arad",
         "orientation": "v",
         "showlegend": true,
         "textposition": "top center",
         "type": "scatter",
         "x": [
          0
         ],
         "xaxis": "x",
         "y": [
          4
         ],
         "yaxis": "y"
        },
        {
         "hovertemplate": "<b>%{hovertext}</b><br><br>Team=Fram Reykjavík<br>Number of Wins=%{x}<br>Number of Losses=%{y}<br>Number of Macthes Played=%{marker.size}<extra></extra>",
         "hovertext": [
          "Fram Reykjavík"
         ],
         "legendgroup": "Fram Reykjavík",
         "marker": {
          "color": "rgb(179,179,179)",
          "size": [
           8
          ],
          "sizemode": "area",
          "sizeref": 0.30375,
          "symbol": "circle"
         },
         "mode": "markers",
         "name": "Fram Reykjavík",
         "orientation": "v",
         "showlegend": true,
         "textposition": "top center",
         "type": "scatter",
         "x": [
          0
         ],
         "xaxis": "x",
         "y": [
          6
         ],
         "yaxis": "y"
        },
        {
         "hovertemplate": "<b>%{hovertext}</b><br><br>Team=Csepel SC<br>Number of Wins=%{x}<br>Number of Losses=%{y}<br>Number of Macthes Played=%{marker.size}<extra></extra>",
         "hovertext": [
          "Csepel SC"
         ],
         "legendgroup": "Csepel SC",
         "marker": {
          "color": "rgb(102,194,165)",
          "size": [
           2
          ],
          "sizemode": "area",
          "sizeref": 0.30375,
          "symbol": "circle"
         },
         "mode": "markers",
         "name": "Csepel SC",
         "orientation": "v",
         "showlegend": true,
         "textposition": "top center",
         "type": "scatter",
         "x": [
          0
         ],
         "xaxis": "x",
         "y": [
          1
         ],
         "yaxis": "y"
        },
        {
         "hovertemplate": "<b>%{hovertext}</b><br><br>Team=ÍBV Vestmannaeyjar<br>Number of Wins=%{x}<br>Number of Losses=%{y}<br>Number of Macthes Played=%{marker.size}<extra></extra>",
         "hovertext": [
          "ÍBV Vestmannaeyjar"
         ],
         "legendgroup": "ÍBV Vestmannaeyjar",
         "marker": {
          "color": "rgb(252,141,98)",
          "size": [
           2
          ],
          "sizemode": "area",
          "sizeref": 0.30375,
          "symbol": "circle"
         },
         "mode": "markers",
         "name": "ÍBV Vestmannaeyjar",
         "orientation": "v",
         "showlegend": true,
         "textposition": "top center",
         "type": "scatter",
         "x": [
          0
         ],
         "xaxis": "x",
         "y": [
          1
         ],
         "yaxis": "y"
        },
        {
         "hovertemplate": "<b>%{hovertext}</b><br><br>Team=Skeid Fotball<br>Number of Wins=%{x}<br>Number of Losses=%{y}<br>Number of Macthes Played=%{marker.size}<extra></extra>",
         "hovertext": [
          "Skeid Fotball"
         ],
         "legendgroup": "Skeid Fotball",
         "marker": {
          "color": "rgb(141,160,203)",
          "size": [
           2
          ],
          "sizemode": "area",
          "sizeref": 0.30375,
          "symbol": "circle"
         },
         "mode": "markers",
         "name": "Skeid Fotball",
         "orientation": "v",
         "showlegend": true,
         "textposition": "top center",
         "type": "scatter",
         "x": [
          0
         ],
         "xaxis": "x",
         "y": [
          1
         ],
         "yaxis": "y"
        },
        {
         "hovertemplate": "<b>%{hovertext}</b><br><br>Team=FC Aarau<br>Number of Wins=%{x}<br>Number of Losses=%{y}<br>Number of Macthes Played=%{marker.size}<extra></extra>",
         "hovertext": [
          "FC Aarau"
         ],
         "legendgroup": "FC Aarau",
         "marker": {
          "color": "rgb(231,138,195)",
          "size": [
           2
          ],
          "sizemode": "area",
          "sizeref": 0.30375,
          "symbol": "circle"
         },
         "mode": "markers",
         "name": "FC Aarau",
         "orientation": "v",
         "showlegend": true,
         "textposition": "top center",
         "type": "scatter",
         "x": [
          0
         ],
         "xaxis": "x",
         "y": [
          1
         ],
         "yaxis": "y"
        },
        {
         "hovertemplate": "<b>%{hovertext}</b><br><br>Team=FC Admira Wacker<br>Number of Wins=%{x}<br>Number of Losses=%{y}<br>Number of Macthes Played=%{marker.size}<extra></extra>",
         "hovertext": [
          "FC Admira Wacker"
         ],
         "legendgroup": "FC Admira Wacker",
         "marker": {
          "color": "rgb(166,216,84)",
          "size": [
           2
          ],
          "sizemode": "area",
          "sizeref": 0.30375,
          "symbol": "circle"
         },
         "mode": "markers",
         "name": "FC Admira Wacker",
         "orientation": "v",
         "showlegend": true,
         "textposition": "top center",
         "type": "scatter",
         "x": [
          0
         ],
         "xaxis": "x",
         "y": [
          1
         ],
         "yaxis": "y"
        },
        {
         "hovertemplate": "<b>%{hovertext}</b><br><br>Team=Etar Veliko Tarnovo<br>Number of Wins=%{x}<br>Number of Losses=%{y}<br>Number of Macthes Played=%{marker.size}<extra></extra>",
         "hovertext": [
          "Etar Veliko Tarnovo"
         ],
         "legendgroup": "Etar Veliko Tarnovo",
         "marker": {
          "color": "rgb(255,217,47)",
          "size": [
           2
          ],
          "sizemode": "area",
          "sizeref": 0.30375,
          "symbol": "circle"
         },
         "mode": "markers",
         "name": "Etar Veliko Tarnovo",
         "orientation": "v",
         "showlegend": true,
         "textposition": "top center",
         "type": "scatter",
         "x": [
          0
         ],
         "xaxis": "x",
         "y": [
          1
         ],
         "yaxis": "y"
        },
        {
         "hovertemplate": "<b>%{hovertext}</b><br><br>Team=PFC Beroe<br>Number of Wins=%{x}<br>Number of Losses=%{y}<br>Number of Macthes Played=%{marker.size}<extra></extra>",
         "hovertext": [
          "PFC Beroe"
         ],
         "legendgroup": "PFC Beroe",
         "marker": {
          "color": "rgb(229,196,148)",
          "size": [
           2
          ],
          "sizemode": "area",
          "sizeref": 0.30375,
          "symbol": "circle"
         },
         "mode": "markers",
         "name": "PFC Beroe",
         "orientation": "v",
         "showlegend": true,
         "textposition": "top center",
         "type": "scatter",
         "x": [
          0
         ],
         "xaxis": "x",
         "y": [
          1
         ],
         "yaxis": "y"
        },
        {
         "hovertemplate": "<b>%{hovertext}</b><br><br>Team=Śląsk Wrocław<br>Number of Wins=%{x}<br>Number of Losses=%{y}<br>Number of Macthes Played=%{marker.size}<extra></extra>",
         "hovertext": [
          "Śląsk Wrocław"
         ],
         "legendgroup": "Śląsk Wrocław",
         "marker": {
          "color": "rgb(179,179,179)",
          "size": [
           2
          ],
          "sizemode": "area",
          "sizeref": 0.30375,
          "symbol": "circle"
         },
         "mode": "markers",
         "name": "Śląsk Wrocław",
         "orientation": "v",
         "showlegend": true,
         "textposition": "top center",
         "type": "scatter",
         "x": [
          0
         ],
         "xaxis": "x",
         "y": [
          1
         ],
         "yaxis": "y"
        },
        {
         "hovertemplate": "<b>%{hovertext}</b><br><br>Team=Glenavon FC<br>Number of Wins=%{x}<br>Number of Losses=%{y}<br>Number of Macthes Played=%{marker.size}<extra></extra>",
         "hovertext": [
          "Glenavon FC"
         ],
         "legendgroup": "Glenavon FC",
         "marker": {
          "color": "rgb(102,194,165)",
          "size": [
           2
          ],
          "sizemode": "area",
          "sizeref": 0.30375,
          "symbol": "circle"
         },
         "mode": "markers",
         "name": "Glenavon FC",
         "orientation": "v",
         "showlegend": true,
         "textposition": "top center",
         "type": "scatter",
         "x": [
          0
         ],
         "xaxis": "x",
         "y": [
          1
         ],
         "yaxis": "y"
        },
        {
         "hovertemplate": "<b>%{hovertext}</b><br><br>Team=Rot-Weiss Essen<br>Number of Wins=%{x}<br>Number of Losses=%{y}<br>Number of Macthes Played=%{marker.size}<extra></extra>",
         "hovertext": [
          "Rot-Weiss Essen"
         ],
         "legendgroup": "Rot-Weiss Essen",
         "marker": {
          "color": "rgb(252,141,98)",
          "size": [
           2
          ],
          "sizemode": "area",
          "sizeref": 0.30375,
          "symbol": "circle"
         },
         "mode": "markers",
         "name": "Rot-Weiss Essen",
         "orientation": "v",
         "showlegend": true,
         "textposition": "top center",
         "type": "scatter",
         "x": [
          0
         ],
         "xaxis": "x",
         "y": [
          1
         ],
         "yaxis": "y"
        },
        {
         "hovertemplate": "<b>%{hovertext}</b><br><br>Team=St Patrick's Athletic<br>Number of Wins=%{x}<br>Number of Losses=%{y}<br>Number of Macthes Played=%{marker.size}<extra></extra>",
         "hovertext": [
          "St Patrick's Athletic"
         ],
         "legendgroup": "St Patrick's Athletic",
         "marker": {
          "color": "rgb(141,160,203)",
          "size": [
           2
          ],
          "sizemode": "area",
          "sizeref": 0.30375,
          "symbol": "circle"
         },
         "mode": "markers",
         "name": "St Patrick's Athletic",
         "orientation": "v",
         "showlegend": true,
         "textposition": "top center",
         "type": "scatter",
         "x": [
          0
         ],
         "xaxis": "x",
         "y": [
          1
         ],
         "yaxis": "y"
        },
        {
         "hovertemplate": "<b>%{hovertext}</b><br><br>Team=FC Lausanne-Sport<br>Number of Wins=%{x}<br>Number of Losses=%{y}<br>Number of Macthes Played=%{marker.size}<extra></extra>",
         "hovertext": [
          "FC Lausanne-Sport"
         ],
         "legendgroup": "FC Lausanne-Sport",
         "marker": {
          "color": "rgb(231,138,195)",
          "size": [
           2
          ],
          "sizemode": "area",
          "sizeref": 0.30375,
          "symbol": "circle"
         },
         "mode": "markers",
         "name": "FC Lausanne-Sport",
         "orientation": "v",
         "showlegend": true,
         "textposition": "top center",
         "type": "scatter",
         "x": [
          0
         ],
         "xaxis": "x",
         "y": [
          1
         ],
         "yaxis": "y"
        },
        {
         "hovertemplate": "<b>%{hovertext}</b><br><br>Team=Lisburn Distillery<br>Number of Wins=%{x}<br>Number of Losses=%{y}<br>Number of Macthes Played=%{marker.size}<extra></extra>",
         "hovertext": [
          "Lisburn Distillery"
         ],
         "legendgroup": "Lisburn Distillery",
         "marker": {
          "color": "rgb(166,216,84)",
          "size": [
           2
          ],
          "sizemode": "area",
          "sizeref": 0.30375,
          "symbol": "circle"
         },
         "mode": "markers",
         "name": "Lisburn Distillery",
         "orientation": "v",
         "showlegend": true,
         "textposition": "top center",
         "type": "scatter",
         "x": [
          0
         ],
         "xaxis": "x",
         "y": [
          1
         ],
         "yaxis": "y"
        },
        {
         "hovertemplate": "<b>%{hovertext}</b><br><br>Team=FC Blau Weiß Linz<br>Number of Wins=%{x}<br>Number of Losses=%{y}<br>Number of Macthes Played=%{marker.size}<extra></extra>",
         "hovertext": [
          "FC Blau Weiß Linz"
         ],
         "legendgroup": "FC Blau Weiß Linz",
         "marker": {
          "color": "rgb(255,217,47)",
          "size": [
           2
          ],
          "sizemode": "area",
          "sizeref": 0.30375,
          "symbol": "circle"
         },
         "mode": "markers",
         "name": "FC Blau Weiß Linz",
         "orientation": "v",
         "showlegend": true,
         "textposition": "top center",
         "type": "scatter",
         "x": [
          0
         ],
         "xaxis": "x",
         "y": [
          1
         ],
         "yaxis": "y"
        },
        {
         "hovertemplate": "<b>%{hovertext}</b><br><br>Team=Stade Rennais<br>Number of Wins=%{x}<br>Number of Losses=%{y}<br>Number of Macthes Played=%{marker.size}<extra></extra>",
         "hovertext": [
          "Stade Rennais"
         ],
         "legendgroup": "Stade Rennais",
         "marker": {
          "color": "rgb(229,196,148)",
          "size": [
           6
          ],
          "sizemode": "area",
          "sizeref": 0.30375,
          "symbol": "circle"
         },
         "mode": "markers",
         "name": "Stade Rennais",
         "orientation": "v",
         "showlegend": true,
         "textposition": "top center",
         "type": "scatter",
         "x": [
          0
         ],
         "xaxis": "x",
         "y": [
          5
         ],
         "yaxis": "y"
        },
        {
         "hovertemplate": "<b>%{hovertext}</b><br><br>Team=FC Dinamo City<br>Number of Wins=%{x}<br>Number of Losses=%{y}<br>Number of Macthes Played=%{marker.size}<extra></extra>",
         "hovertext": [
          "FC Dinamo City"
         ],
         "legendgroup": "FC Dinamo City",
         "marker": {
          "color": "rgb(179,179,179)",
          "size": [
           6
          ],
          "sizemode": "area",
          "sizeref": 0.30375,
          "symbol": "circle"
         },
         "mode": "markers",
         "name": "FC Dinamo City",
         "orientation": "v",
         "showlegend": true,
         "textposition": "top center",
         "type": "scatter",
         "x": [
          0
         ],
         "xaxis": "x",
         "y": [
          5
         ],
         "yaxis": "y"
        },
        {
         "hovertemplate": "<b>%{hovertext}</b><br><br>Team=Skonto FC<br>Number of Wins=%{x}<br>Number of Losses=%{y}<br>Number of Macthes Played=%{marker.size}<extra></extra>",
         "hovertext": [
          "Skonto FC"
         ],
         "legendgroup": "Skonto FC",
         "marker": {
          "color": "rgb(102,194,165)",
          "size": [
           4
          ],
          "sizemode": "area",
          "sizeref": 0.30375,
          "symbol": "circle"
         },
         "mode": "markers",
         "name": "Skonto FC",
         "orientation": "v",
         "showlegend": true,
         "textposition": "top center",
         "type": "scatter",
         "x": [
          0
         ],
         "xaxis": "x",
         "y": [
          3
         ],
         "yaxis": "y"
        },
        {
         "hovertemplate": "<b>%{hovertext}</b><br><br>Team=Lierse SK<br>Number of Wins=%{x}<br>Number of Losses=%{y}<br>Number of Macthes Played=%{marker.size}<extra></extra>",
         "hovertext": [
          "Lierse SK"
         ],
         "legendgroup": "Lierse SK",
         "marker": {
          "color": "rgb(252,141,98)",
          "size": [
           8
          ],
          "sizemode": "area",
          "sizeref": 0.30375,
          "symbol": "circle"
         },
         "mode": "markers",
         "name": "Lierse SK",
         "orientation": "v",
         "showlegend": true,
         "textposition": "top center",
         "type": "scatter",
         "x": [
          0
         ],
         "xaxis": "x",
         "y": [
          7
         ],
         "yaxis": "y"
        },
        {
         "hovertemplate": "<b>%{hovertext}</b><br><br>Team=Bursaspor<br>Number of Wins=%{x}<br>Number of Losses=%{y}<br>Number of Macthes Played=%{marker.size}<extra></extra>",
         "hovertext": [
          "Bursaspor"
         ],
         "legendgroup": "Bursaspor",
         "marker": {
          "color": "rgb(141,160,203)",
          "size": [
           6
          ],
          "sizemode": "area",
          "sizeref": 0.30375,
          "symbol": "circle"
         },
         "mode": "markers",
         "name": "Bursaspor",
         "orientation": "v",
         "showlegend": true,
         "textposition": "top center",
         "type": "scatter",
         "x": [
          0
         ],
         "xaxis": "x",
         "y": [
          5
         ],
         "yaxis": "y"
        },
        {
         "hovertemplate": "<b>%{hovertext}</b><br><br>Team=B 1909 Odense<br>Number of Wins=%{x}<br>Number of Losses=%{y}<br>Number of Macthes Played=%{marker.size}<extra></extra>",
         "hovertext": [
          "B 1909 Odense"
         ],
         "legendgroup": "B 1909 Odense",
         "marker": {
          "color": "rgb(231,138,195)",
          "size": [
           6
          ],
          "sizemode": "area",
          "sizeref": 0.30375,
          "symbol": "circle"
         },
         "mode": "markers",
         "name": "B 1909 Odense",
         "orientation": "v",
         "showlegend": true,
         "textposition": "top center",
         "type": "scatter",
         "x": [
          0
         ],
         "xaxis": "x",
         "y": [
          5
         ],
         "yaxis": "y"
        },
        {
         "hovertemplate": "<b>%{hovertext}</b><br><br>Team=Odense BK<br>Number of Wins=%{x}<br>Number of Losses=%{y}<br>Number of Macthes Played=%{marker.size}<extra></extra>",
         "hovertext": [
          "Odense BK"
         ],
         "legendgroup": "Odense BK",
         "marker": {
          "color": "rgb(166,216,84)",
          "size": [
           6
          ],
          "sizemode": "area",
          "sizeref": 0.30375,
          "symbol": "circle"
         },
         "mode": "markers",
         "name": "Odense BK",
         "orientation": "v",
         "showlegend": true,
         "textposition": "top center",
         "type": "scatter",
         "x": [
          0
         ],
         "xaxis": "x",
         "y": [
          5
         ],
         "yaxis": "y"
        },
        {
         "hovertemplate": "<b>%{hovertext}</b><br><br>Team=Progrès Niedercorn<br>Number of Wins=%{x}<br>Number of Losses=%{y}<br>Number of Macthes Played=%{marker.size}<extra></extra>",
         "hovertext": [
          "Progrès Niedercorn"
         ],
         "legendgroup": "Progrès Niedercorn",
         "marker": {
          "color": "rgb(255,217,47)",
          "size": [
           4
          ],
          "sizemode": "area",
          "sizeref": 0.30375,
          "symbol": "circle"
         },
         "mode": "markers",
         "name": "Progrès Niedercorn",
         "orientation": "v",
         "showlegend": true,
         "textposition": "top center",
         "type": "scatter",
         "x": [
          0
         ],
         "xaxis": "x",
         "y": [
          3
         ],
         "yaxis": "y"
        },
        {
         "hovertemplate": "<b>%{hovertext}</b><br><br>Team=Kuopion PS<br>Number of Wins=%{x}<br>Number of Losses=%{y}<br>Number of Macthes Played=%{marker.size}<extra></extra>",
         "hovertext": [
          "Kuopion PS"
         ],
         "legendgroup": "Kuopion PS",
         "marker": {
          "color": "rgb(229,196,148)",
          "size": [
           6
          ],
          "sizemode": "area",
          "sizeref": 0.30375,
          "symbol": "circle"
         },
         "mode": "markers",
         "name": "Kuopion PS",
         "orientation": "v",
         "showlegend": true,
         "textposition": "top center",
         "type": "scatter",
         "x": [
          0
         ],
         "xaxis": "x",
         "y": [
          5
         ],
         "yaxis": "y"
        },
        {
         "hovertemplate": "<b>%{hovertext}</b><br><br>Team=OPS Oulu<br>Number of Wins=%{x}<br>Number of Losses=%{y}<br>Number of Macthes Played=%{marker.size}<extra></extra>",
         "hovertext": [
          "OPS Oulu"
         ],
         "legendgroup": "OPS Oulu",
         "marker": {
          "color": "rgb(179,179,179)",
          "size": [
           4
          ],
          "sizemode": "area",
          "sizeref": 0.30375,
          "symbol": "circle"
         },
         "mode": "markers",
         "name": "OPS Oulu",
         "orientation": "v",
         "showlegend": true,
         "textposition": "top center",
         "type": "scatter",
         "x": [
          0
         ],
         "xaxis": "x",
         "y": [
          3
         ],
         "yaxis": "y"
        },
        {
         "hovertemplate": "<b>%{hovertext}</b><br><br>Team=FC Nordsjælland<br>Number of Wins=%{x}<br>Number of Losses=%{y}<br>Number of Macthes Played=%{marker.size}<extra></extra>",
         "hovertext": [
          "FC Nordsjælland"
         ],
         "legendgroup": "FC Nordsjælland",
         "marker": {
          "color": "rgb(102,194,165)",
          "size": [
           6
          ],
          "sizemode": "area",
          "sizeref": 0.30375,
          "symbol": "circle"
         },
         "mode": "markers",
         "name": "FC Nordsjælland",
         "orientation": "v",
         "showlegend": true,
         "textposition": "top center",
         "type": "scatter",
         "x": [
          0
         ],
         "xaxis": "x",
         "y": [
          5
         ],
         "yaxis": "y"
        },
        {
         "hovertemplate": "<b>%{hovertext}</b><br><br>Team=Aris Bonnevoie<br>Number of Wins=%{x}<br>Number of Losses=%{y}<br>Number of Macthes Played=%{marker.size}<extra></extra>",
         "hovertext": [
          "Aris Bonnevoie"
         ],
         "legendgroup": "Aris Bonnevoie",
         "marker": {
          "color": "rgb(252,141,98)",
          "size": [
           6
          ],
          "sizemode": "area",
          "sizeref": 0.30375,
          "symbol": "circle"
         },
         "mode": "markers",
         "name": "Aris Bonnevoie",
         "orientation": "v",
         "showlegend": true,
         "textposition": "top center",
         "type": "scatter",
         "x": [
          0
         ],
         "xaxis": "x",
         "y": [
          5
         ],
         "yaxis": "y"
        },
        {
         "hovertemplate": "<b>%{hovertext}</b><br><br>Team=Olympiakos Nikosia<br>Number of Wins=%{x}<br>Number of Losses=%{y}<br>Number of Macthes Played=%{marker.size}<extra></extra>",
         "hovertext": [
          "Olympiakos Nikosia"
         ],
         "legendgroup": "Olympiakos Nikosia",
         "marker": {
          "color": "rgb(141,160,203)",
          "size": [
           6
          ],
          "sizemode": "area",
          "sizeref": 0.30375,
          "symbol": "circle"
         },
         "mode": "markers",
         "name": "Olympiakos Nikosia",
         "orientation": "v",
         "showlegend": true,
         "textposition": "top center",
         "type": "scatter",
         "x": [
          0
         ],
         "xaxis": "x",
         "y": [
          5
         ],
         "yaxis": "y"
        },
        {
         "hovertemplate": "<b>%{hovertext}</b><br><br>Team=FC Utrecht<br>Number of Wins=%{x}<br>Number of Losses=%{y}<br>Number of Macthes Played=%{marker.size}<extra></extra>",
         "hovertext": [
          "FC Utrecht"
         ],
         "legendgroup": "FC Utrecht",
         "marker": {
          "color": "rgb(231,138,195)",
          "size": [
           2
          ],
          "sizemode": "area",
          "sizeref": 0.30375,
          "symbol": "circle"
         },
         "mode": "markers",
         "name": "FC Utrecht",
         "orientation": "v",
         "showlegend": true,
         "textposition": "top center",
         "type": "scatter",
         "x": [
          0
         ],
         "xaxis": "x",
         "y": [
          2
         ],
         "yaxis": "y"
        },
        {
         "hovertemplate": "<b>%{hovertext}</b><br><br>Team=Cork City<br>Number of Wins=%{x}<br>Number of Losses=%{y}<br>Number of Macthes Played=%{marker.size}<extra></extra>",
         "hovertext": [
          "Cork City"
         ],
         "legendgroup": "Cork City",
         "marker": {
          "color": "rgb(166,216,84)",
          "size": [
           2
          ],
          "sizemode": "area",
          "sizeref": 0.30375,
          "symbol": "circle"
         },
         "mode": "markers",
         "name": "Cork City",
         "orientation": "v",
         "showlegend": true,
         "textposition": "top center",
         "type": "scatter",
         "x": [
          0
         ],
         "xaxis": "x",
         "y": [
          2
         ],
         "yaxis": "y"
        },
        {
         "hovertemplate": "<b>%{hovertext}</b><br><br>Team=Roda JC Kerkrade<br>Number of Wins=%{x}<br>Number of Losses=%{y}<br>Number of Macthes Played=%{marker.size}<extra></extra>",
         "hovertext": [
          "Roda JC Kerkrade"
         ],
         "legendgroup": "Roda JC Kerkrade",
         "marker": {
          "color": "rgb(255,217,47)",
          "size": [
           2
          ],
          "sizemode": "area",
          "sizeref": 0.30375,
          "symbol": "circle"
         },
         "mode": "markers",
         "name": "Roda JC Kerkrade",
         "orientation": "v",
         "showlegend": true,
         "textposition": "top center",
         "type": "scatter",
         "x": [
          0
         ],
         "xaxis": "x",
         "y": [
          2
         ],
         "yaxis": "y"
        },
        {
         "hovertemplate": "<b>%{hovertext}</b><br><br>Team=Chemnitzer FC<br>Number of Wins=%{x}<br>Number of Losses=%{y}<br>Number of Macthes Played=%{marker.size}<extra></extra>",
         "hovertext": [
          "Chemnitzer FC"
         ],
         "legendgroup": "Chemnitzer FC",
         "marker": {
          "color": "rgb(229,196,148)",
          "size": [
           2
          ],
          "sizemode": "area",
          "sizeref": 0.30375,
          "symbol": "circle"
         },
         "mode": "markers",
         "name": "Chemnitzer FC",
         "orientation": "v",
         "showlegend": true,
         "textposition": "top center",
         "type": "scatter",
         "x": [
          0
         ],
         "xaxis": "x",
         "y": [
          2
         ],
         "yaxis": "y"
        },
        {
         "hovertemplate": "<b>%{hovertext}</b><br><br>Team=LASK<br>Number of Wins=%{x}<br>Number of Losses=%{y}<br>Number of Macthes Played=%{marker.size}<extra></extra>",
         "hovertext": [
          "LASK"
         ],
         "legendgroup": "LASK",
         "marker": {
          "color": "rgb(179,179,179)",
          "size": [
           2
          ],
          "sizemode": "area",
          "sizeref": 0.30375,
          "symbol": "circle"
         },
         "mode": "markers",
         "name": "LASK",
         "orientation": "v",
         "showlegend": true,
         "textposition": "top center",
         "type": "scatter",
         "x": [
          0
         ],
         "xaxis": "x",
         "y": [
          2
         ],
         "yaxis": "y"
        },
        {
         "hovertemplate": "<b>%{hovertext}</b><br><br>Team=Željezničar Sarajevo<br>Number of Wins=%{x}<br>Number of Losses=%{y}<br>Number of Macthes Played=%{marker.size}<extra></extra>",
         "hovertext": [
          "Željezničar Sarajevo"
         ],
         "legendgroup": "Željezničar Sarajevo",
         "marker": {
          "color": "rgb(102,194,165)",
          "size": [
           2
          ],
          "sizemode": "area",
          "sizeref": 0.30375,
          "symbol": "circle"
         },
         "mode": "markers",
         "name": "Željezničar Sarajevo",
         "orientation": "v",
         "showlegend": true,
         "textposition": "top center",
         "type": "scatter",
         "x": [
          0
         ],
         "xaxis": "x",
         "y": [
          2
         ],
         "yaxis": "y"
        },
        {
         "hovertemplate": "<b>%{hovertext}</b><br><br>Team=Örgryte IS<br>Number of Wins=%{x}<br>Number of Losses=%{y}<br>Number of Macthes Played=%{marker.size}<extra></extra>",
         "hovertext": [
          "Örgryte IS"
         ],
         "legendgroup": "Örgryte IS",
         "marker": {
          "color": "rgb(252,141,98)",
          "size": [
           2
          ],
          "sizemode": "area",
          "sizeref": 0.30375,
          "symbol": "circle"
         },
         "mode": "markers",
         "name": "Örgryte IS",
         "orientation": "v",
         "showlegend": true,
         "textposition": "top center",
         "type": "scatter",
         "x": [
          0
         ],
         "xaxis": "x",
         "y": [
          2
         ],
         "yaxis": "y"
        },
        {
         "hovertemplate": "<b>%{hovertext}</b><br><br>Team=FKS Stal Mielec<br>Number of Wins=%{x}<br>Number of Losses=%{y}<br>Number of Macthes Played=%{marker.size}<extra></extra>",
         "hovertext": [
          "FKS Stal Mielec"
         ],
         "legendgroup": "FKS Stal Mielec",
         "marker": {
          "color": "rgb(141,160,203)",
          "size": [
           4
          ],
          "sizemode": "area",
          "sizeref": 0.30375,
          "symbol": "circle"
         },
         "mode": "markers",
         "name": "FKS Stal Mielec",
         "orientation": "v",
         "showlegend": true,
         "textposition": "top center",
         "type": "scatter",
         "x": [
          0
         ],
         "xaxis": "x",
         "y": [
          4
         ],
         "yaxis": "y"
        },
        {
         "hovertemplate": "<b>%{hovertext}</b><br><br>Team=SG Sachsen Leipzig<br>Number of Wins=%{x}<br>Number of Losses=%{y}<br>Number of Macthes Played=%{marker.size}<extra></extra>",
         "hovertext": [
          "SG Sachsen Leipzig"
         ],
         "legendgroup": "SG Sachsen Leipzig",
         "marker": {
          "color": "rgb(231,138,195)",
          "size": [
           2
          ],
          "sizemode": "area",
          "sizeref": 0.30375,
          "symbol": "circle"
         },
         "mode": "markers",
         "name": "SG Sachsen Leipzig",
         "orientation": "v",
         "showlegend": true,
         "textposition": "top center",
         "type": "scatter",
         "x": [
          0
         ],
         "xaxis": "x",
         "y": [
          2
         ],
         "yaxis": "y"
        },
        {
         "hovertemplate": "<b>%{hovertext}</b><br><br>Team=Moss FK<br>Number of Wins=%{x}<br>Number of Losses=%{y}<br>Number of Macthes Played=%{marker.size}<extra></extra>",
         "hovertext": [
          "Moss FK"
         ],
         "legendgroup": "Moss FK",
         "marker": {
          "color": "rgb(166,216,84)",
          "size": [
           2
          ],
          "sizemode": "area",
          "sizeref": 0.30375,
          "symbol": "circle"
         },
         "mode": "markers",
         "name": "Moss FK",
         "orientation": "v",
         "showlegend": true,
         "textposition": "top center",
         "type": "scatter",
         "x": [
          0
         ],
         "xaxis": "x",
         "y": [
          2
         ],
         "yaxis": "y"
        },
        {
         "hovertemplate": "<b>%{hovertext}</b><br><br>Team=Beitar Jerusalem<br>Number of Wins=%{x}<br>Number of Losses=%{y}<br>Number of Macthes Played=%{marker.size}<extra></extra>",
         "hovertext": [
          "Beitar Jerusalem"
         ],
         "legendgroup": "Beitar Jerusalem",
         "marker": {
          "color": "rgb(255,217,47)",
          "size": [
           2
          ],
          "sizemode": "area",
          "sizeref": 0.30375,
          "symbol": "circle"
         },
         "mode": "markers",
         "name": "Beitar Jerusalem",
         "orientation": "v",
         "showlegend": true,
         "textposition": "top center",
         "type": "scatter",
         "x": [
          0
         ],
         "xaxis": "x",
         "y": [
          2
         ],
         "yaxis": "y"
        },
        {
         "hovertemplate": "<b>%{hovertext}</b><br><br>Team=Pezoporikos Larnaca<br>Number of Wins=%{x}<br>Number of Losses=%{y}<br>Number of Macthes Played=%{marker.size}<extra></extra>",
         "hovertext": [
          "Pezoporikos Larnaca"
         ],
         "legendgroup": "Pezoporikos Larnaca",
         "marker": {
          "color": "rgb(229,196,148)",
          "size": [
           2
          ],
          "sizemode": "area",
          "sizeref": 0.30375,
          "symbol": "circle"
         },
         "mode": "markers",
         "name": "Pezoporikos Larnaca",
         "orientation": "v",
         "showlegend": true,
         "textposition": "top center",
         "type": "scatter",
         "x": [
          0
         ],
         "xaxis": "x",
         "y": [
          2
         ],
         "yaxis": "y"
        },
        {
         "hovertemplate": "<b>%{hovertext}</b><br><br>Team=Tavriya Simferopol (1958-2014)<br>Number of Wins=%{x}<br>Number of Losses=%{y}<br>Number of Macthes Played=%{marker.size}<extra></extra>",
         "hovertext": [
          "Tavriya Simferopol (1958-2014)"
         ],
         "legendgroup": "Tavriya Simferopol (1958-2014)",
         "marker": {
          "color": "rgb(179,179,179)",
          "size": [
           2
          ],
          "sizemode": "area",
          "sizeref": 0.30375,
          "symbol": "circle"
         },
         "mode": "markers",
         "name": "Tavriya Simferopol (1958-2014)",
         "orientation": "v",
         "showlegend": true,
         "textposition": "top center",
         "type": "scatter",
         "x": [
          0
         ],
         "xaxis": "x",
         "y": [
          2
         ],
         "yaxis": "y"
        },
        {
         "hovertemplate": "<b>%{hovertext}</b><br><br>Team=Ilves Tampere<br>Number of Wins=%{x}<br>Number of Losses=%{y}<br>Number of Macthes Played=%{marker.size}<extra></extra>",
         "hovertext": [
          "Ilves Tampere"
         ],
         "legendgroup": "Ilves Tampere",
         "marker": {
          "color": "rgb(102,194,165)",
          "size": [
           2
          ],
          "sizemode": "area",
          "sizeref": 0.30375,
          "symbol": "circle"
         },
         "mode": "markers",
         "name": "Ilves Tampere",
         "orientation": "v",
         "showlegend": true,
         "textposition": "top center",
         "type": "scatter",
         "x": [
          0
         ],
         "xaxis": "x",
         "y": [
          2
         ],
         "yaxis": "y"
        },
        {
         "hovertemplate": "<b>%{hovertext}</b><br><br>Team=FC Luzern<br>Number of Wins=%{x}<br>Number of Losses=%{y}<br>Number of Macthes Played=%{marker.size}<extra></extra>",
         "hovertext": [
          "FC Luzern"
         ],
         "legendgroup": "FC Luzern",
         "marker": {
          "color": "rgb(252,141,98)",
          "size": [
           2
          ],
          "sizemode": "area",
          "sizeref": 0.30375,
          "symbol": "circle"
         },
         "mode": "markers",
         "name": "FC Luzern",
         "orientation": "v",
         "showlegend": true,
         "textposition": "top center",
         "type": "scatter",
         "x": [
          0
         ],
         "xaxis": "x",
         "y": [
          2
         ],
         "yaxis": "y"
        },
        {
         "hovertemplate": "<b>%{hovertext}</b><br><br>Team=Cork Celtic<br>Number of Wins=%{x}<br>Number of Losses=%{y}<br>Number of Macthes Played=%{marker.size}<extra></extra>",
         "hovertext": [
          "Cork Celtic"
         ],
         "legendgroup": "Cork Celtic",
         "marker": {
          "color": "rgb(141,160,203)",
          "size": [
           2
          ],
          "sizemode": "area",
          "sizeref": 0.30375,
          "symbol": "circle"
         },
         "mode": "markers",
         "name": "Cork Celtic",
         "orientation": "v",
         "showlegend": true,
         "textposition": "top center",
         "type": "scatter",
         "x": [
          0
         ],
         "xaxis": "x",
         "y": [
          2
         ],
         "yaxis": "y"
        },
        {
         "hovertemplate": "<b>%{hovertext}</b><br><br>Team=Cork Hibernians<br>Number of Wins=%{x}<br>Number of Losses=%{y}<br>Number of Macthes Played=%{marker.size}<extra></extra>",
         "hovertext": [
          "Cork Hibernians"
         ],
         "legendgroup": "Cork Hibernians",
         "marker": {
          "color": "rgb(231,138,195)",
          "size": [
           2
          ],
          "sizemode": "area",
          "sizeref": 0.30375,
          "symbol": "circle"
         },
         "mode": "markers",
         "name": "Cork Hibernians",
         "orientation": "v",
         "showlegend": true,
         "textposition": "top center",
         "type": "scatter",
         "x": [
          0
         ],
         "xaxis": "x",
         "y": [
          2
         ],
         "yaxis": "y"
        },
        {
         "hovertemplate": "<b>%{hovertext}</b><br><br>Team=Køge BK<br>Number of Wins=%{x}<br>Number of Losses=%{y}<br>Number of Macthes Played=%{marker.size}<extra></extra>",
         "hovertext": [
          "Køge BK"
         ],
         "legendgroup": "Køge BK",
         "marker": {
          "color": "rgb(166,216,84)",
          "size": [
           2
          ],
          "sizemode": "area",
          "sizeref": 0.30375,
          "symbol": "circle"
         },
         "mode": "markers",
         "name": "Køge BK",
         "orientation": "v",
         "showlegend": true,
         "textposition": "top center",
         "type": "scatter",
         "x": [
          0
         ],
         "xaxis": "x",
         "y": [
          2
         ],
         "yaxis": "y"
        },
        {
         "hovertemplate": "<b>%{hovertext}</b><br><br>Team=Shelbourne FC<br>Number of Wins=%{x}<br>Number of Losses=%{y}<br>Number of Macthes Played=%{marker.size}<extra></extra>",
         "hovertext": [
          "Shelbourne FC"
         ],
         "legendgroup": "Shelbourne FC",
         "marker": {
          "color": "rgb(255,217,47)",
          "size": [
           2
          ],
          "sizemode": "area",
          "sizeref": 0.30375,
          "symbol": "circle"
         },
         "mode": "markers",
         "name": "Shelbourne FC",
         "orientation": "v",
         "showlegend": true,
         "textposition": "top center",
         "type": "scatter",
         "x": [
          0
         ],
         "xaxis": "x",
         "y": [
          2
         ],
         "yaxis": "y"
        },
        {
         "hovertemplate": "<b>%{hovertext}</b><br><br>Team=Strømsgodset IF<br>Number of Wins=%{x}<br>Number of Losses=%{y}<br>Number of Macthes Played=%{marker.size}<extra></extra>",
         "hovertext": [
          "Strømsgodset IF"
         ],
         "legendgroup": "Strømsgodset IF",
         "marker": {
          "color": "rgb(229,196,148)",
          "size": [
           2
          ],
          "sizemode": "area",
          "sizeref": 0.30375,
          "symbol": "circle"
         },
         "mode": "markers",
         "name": "Strømsgodset IF",
         "orientation": "v",
         "showlegend": true,
         "textposition": "top center",
         "type": "scatter",
         "x": [
          0
         ],
         "xaxis": "x",
         "y": [
          2
         ],
         "yaxis": "y"
        },
        {
         "hovertemplate": "<b>%{hovertext}</b><br><br>Team=KF Elbasani<br>Number of Wins=%{x}<br>Number of Losses=%{y}<br>Number of Macthes Played=%{marker.size}<extra></extra>",
         "hovertext": [
          "KF Elbasani"
         ],
         "legendgroup": "KF Elbasani",
         "marker": {
          "color": "rgb(179,179,179)",
          "size": [
           2
          ],
          "sizemode": "area",
          "sizeref": 0.30375,
          "symbol": "circle"
         },
         "mode": "markers",
         "name": "KF Elbasani",
         "orientation": "v",
         "showlegend": true,
         "textposition": "top center",
         "type": "scatter",
         "x": [
          0
         ],
         "xaxis": "x",
         "y": [
          2
         ],
         "yaxis": "y"
        },
        {
         "hovertemplate": "<b>%{hovertext}</b><br><br>Team=Sligo Rovers<br>Number of Wins=%{x}<br>Number of Losses=%{y}<br>Number of Macthes Played=%{marker.size}<extra></extra>",
         "hovertext": [
          "Sligo Rovers"
         ],
         "legendgroup": "Sligo Rovers",
         "marker": {
          "color": "rgb(102,194,165)",
          "size": [
           2
          ],
          "sizemode": "area",
          "sizeref": 0.30375,
          "symbol": "circle"
         },
         "mode": "markers",
         "name": "Sligo Rovers",
         "orientation": "v",
         "showlegend": true,
         "textposition": "top center",
         "type": "scatter",
         "x": [
          0
         ],
         "xaxis": "x",
         "y": [
          2
         ],
         "yaxis": "y"
        },
        {
         "hovertemplate": "<b>%{hovertext}</b><br><br>Team=Vardar Skopje<br>Number of Wins=%{x}<br>Number of Losses=%{y}<br>Number of Macthes Played=%{marker.size}<extra></extra>",
         "hovertext": [
          "Vardar Skopje"
         ],
         "legendgroup": "Vardar Skopje",
         "marker": {
          "color": "rgb(252,141,98)",
          "size": [
           2
          ],
          "sizemode": "area",
          "sizeref": 0.30375,
          "symbol": "circle"
         },
         "mode": "markers",
         "name": "Vardar Skopje",
         "orientation": "v",
         "showlegend": true,
         "textposition": "top center",
         "type": "scatter",
         "x": [
          0
         ],
         "xaxis": "x",
         "y": [
          2
         ],
         "yaxis": "y"
        },
        {
         "hovertemplate": "<b>%{hovertext}</b><br><br>Team=Helsingfors IFK<br>Number of Wins=%{x}<br>Number of Losses=%{y}<br>Number of Macthes Played=%{marker.size}<extra></extra>",
         "hovertext": [
          "Helsingfors IFK"
         ],
         "legendgroup": "Helsingfors IFK",
         "marker": {
          "color": "rgb(141,160,203)",
          "size": [
           4
          ],
          "sizemode": "area",
          "sizeref": 0.30375,
          "symbol": "circle"
         },
         "mode": "markers",
         "name": "Helsingfors IFK",
         "orientation": "v",
         "showlegend": true,
         "textposition": "top center",
         "type": "scatter",
         "x": [
          0
         ],
         "xaxis": "x",
         "y": [
          4
         ],
         "yaxis": "y"
        },
        {
         "hovertemplate": "<b>%{hovertext}</b><br><br>Team=Ards FC<br>Number of Wins=%{x}<br>Number of Losses=%{y}<br>Number of Macthes Played=%{marker.size}<extra></extra>",
         "hovertext": [
          "Ards FC"
         ],
         "legendgroup": "Ards FC",
         "marker": {
          "color": "rgb(231,138,195)",
          "size": [
           2
          ],
          "sizemode": "area",
          "sizeref": 0.30375,
          "symbol": "circle"
         },
         "mode": "markers",
         "name": "Ards FC",
         "orientation": "v",
         "showlegend": true,
         "textposition": "top center",
         "type": "scatter",
         "x": [
          0
         ],
         "xaxis": "x",
         "y": [
          2
         ],
         "yaxis": "y"
        },
        {
         "hovertemplate": "<b>%{hovertext}</b><br><br>Team=HPS Helsinki<br>Number of Wins=%{x}<br>Number of Losses=%{y}<br>Number of Macthes Played=%{marker.size}<extra></extra>",
         "hovertext": [
          "HPS Helsinki"
         ],
         "legendgroup": "HPS Helsinki",
         "marker": {
          "color": "rgb(166,216,84)",
          "size": [
           2
          ],
          "sizemode": "area",
          "sizeref": 0.30375,
          "symbol": "circle"
         },
         "mode": "markers",
         "name": "HPS Helsinki",
         "orientation": "v",
         "showlegend": true,
         "textposition": "top center",
         "type": "scatter",
         "x": [
          0
         ],
         "xaxis": "x",
         "y": [
          2
         ],
         "yaxis": "y"
        },
        {
         "hovertemplate": "<b>%{hovertext}</b><br><br>Team=Olimpija Ljubljana<br>Number of Wins=%{x}<br>Number of Losses=%{y}<br>Number of Macthes Played=%{marker.size}<extra></extra>",
         "hovertext": [
          "Olimpija Ljubljana"
         ],
         "legendgroup": "Olimpija Ljubljana",
         "marker": {
          "color": "rgb(255,217,47)",
          "size": [
           2
          ],
          "sizemode": "area",
          "sizeref": 0.30375,
          "symbol": "circle"
         },
         "mode": "markers",
         "name": "Olimpija Ljubljana",
         "orientation": "v",
         "showlegend": true,
         "textposition": "top center",
         "type": "scatter",
         "x": [
          0
         ],
         "xaxis": "x",
         "y": [
          2
         ],
         "yaxis": "y"
        },
        {
         "hovertemplate": "<b>%{hovertext}</b><br><br>Team=Víkingur Reykjavík<br>Number of Wins=%{x}<br>Number of Losses=%{y}<br>Number of Macthes Played=%{marker.size}<extra></extra>",
         "hovertext": [
          "Víkingur Reykjavík"
         ],
         "legendgroup": "Víkingur Reykjavík",
         "marker": {
          "color": "rgb(229,196,148)",
          "size": [
           6
          ],
          "sizemode": "area",
          "sizeref": 0.30375,
          "symbol": "circle"
         },
         "mode": "markers",
         "name": "Víkingur Reykjavík",
         "orientation": "v",
         "showlegend": true,
         "textposition": "top center",
         "type": "scatter",
         "x": [
          0
         ],
         "xaxis": "x",
         "y": [
          6
         ],
         "yaxis": "y"
        },
        {
         "hovertemplate": "<b>%{hovertext}</b><br><br>Team=Oţelul Galaţi<br>Number of Wins=%{x}<br>Number of Losses=%{y}<br>Number of Macthes Played=%{marker.size}<extra></extra>",
         "hovertext": [
          "Oţelul Galaţi"
         ],
         "legendgroup": "Oţelul Galaţi",
         "marker": {
          "color": "rgb(179,179,179)",
          "size": [
           6
          ],
          "sizemode": "area",
          "sizeref": 0.30375,
          "symbol": "circle"
         },
         "mode": "markers",
         "name": "Oţelul Galaţi",
         "orientation": "v",
         "showlegend": true,
         "textposition": "top center",
         "type": "scatter",
         "x": [
          0
         ],
         "xaxis": "x",
         "y": [
          6
         ],
         "yaxis": "y"
        },
        {
         "hovertemplate": "<b>%{hovertext}</b><br><br>Team=IK Start<br>Number of Wins=%{x}<br>Number of Losses=%{y}<br>Number of Macthes Played=%{marker.size}<extra></extra>",
         "hovertext": [
          "IK Start"
         ],
         "legendgroup": "IK Start",
         "marker": {
          "color": "rgb(102,194,165)",
          "size": [
           4
          ],
          "sizemode": "area",
          "sizeref": 0.30375,
          "symbol": "circle"
         },
         "mode": "markers",
         "name": "IK Start",
         "orientation": "v",
         "showlegend": true,
         "textposition": "top center",
         "type": "scatter",
         "x": [
          0
         ],
         "xaxis": "x",
         "y": [
          4
         ],
         "yaxis": "y"
        },
        {
         "hovertemplate": "<b>%{hovertext}</b><br><br>Team=FK Žalgiris<br>Number of Wins=%{x}<br>Number of Losses=%{y}<br>Number of Macthes Played=%{marker.size}<extra></extra>",
         "hovertext": [
          "FK Žalgiris"
         ],
         "legendgroup": "FK Žalgiris",
         "marker": {
          "color": "rgb(252,141,98)",
          "size": [
           2
          ],
          "sizemode": "area",
          "sizeref": 0.30375,
          "symbol": "circle"
         },
         "mode": "markers",
         "name": "FK Žalgiris",
         "orientation": "v",
         "showlegend": true,
         "textposition": "top center",
         "type": "scatter",
         "x": [
          0
         ],
         "xaxis": "x",
         "y": [
          2
         ],
         "yaxis": "y"
        },
        {
         "hovertemplate": "<b>%{hovertext}</b><br><br>Team=Coleraine FC<br>Number of Wins=%{x}<br>Number of Losses=%{y}<br>Number of Macthes Played=%{marker.size}<extra></extra>",
         "hovertext": [
          "Coleraine FC"
         ],
         "legendgroup": "Coleraine FC",
         "marker": {
          "color": "rgb(141,160,203)",
          "size": [
           2
          ],
          "sizemode": "area",
          "sizeref": 0.30375,
          "symbol": "circle"
         },
         "mode": "markers",
         "name": "Coleraine FC",
         "orientation": "v",
         "showlegend": true,
         "textposition": "top center",
         "type": "scatter",
         "x": [
          0
         ],
         "xaxis": "x",
         "y": [
          2
         ],
         "yaxis": "y"
        },
        {
         "hovertemplate": "<b>%{hovertext}</b><br><br>Team=FC VSS Košice<br>Number of Wins=%{x}<br>Number of Losses=%{y}<br>Number of Macthes Played=%{marker.size}<extra></extra>",
         "hovertext": [
          "FC VSS Košice"
         ],
         "legendgroup": "FC VSS Košice",
         "marker": {
          "color": "rgb(231,138,195)",
          "size": [
           6
          ],
          "sizemode": "area",
          "sizeref": 0.30375,
          "symbol": "circle"
         },
         "mode": "markers",
         "name": "FC VSS Košice",
         "orientation": "v",
         "showlegend": true,
         "textposition": "top center",
         "type": "scatter",
         "x": [
          0
         ],
         "xaxis": "x",
         "y": [
          6
         ],
         "yaxis": "y"
        },
        {
         "hovertemplate": "<b>%{hovertext}</b><br><br>Team=Limerick FC (old)<br>Number of Wins=%{x}<br>Number of Losses=%{y}<br>Number of Macthes Played=%{marker.size}<extra></extra>",
         "hovertext": [
          "Limerick FC (old)"
         ],
         "legendgroup": "Limerick FC (old)",
         "marker": {
          "color": "rgb(166,216,84)",
          "size": [
           4
          ],
          "sizemode": "area",
          "sizeref": 0.30375,
          "symbol": "circle"
         },
         "mode": "markers",
         "name": "Limerick FC (old)",
         "orientation": "v",
         "showlegend": true,
         "textposition": "top center",
         "type": "scatter",
         "x": [
          0
         ],
         "xaxis": "x",
         "y": [
          4
         ],
         "yaxis": "y"
        },
        {
         "hovertemplate": "<b>%{hovertext}</b><br><br>Team=AEL Limassol<br>Number of Wins=%{x}<br>Number of Losses=%{y}<br>Number of Macthes Played=%{marker.size}<extra></extra>",
         "hovertext": [
          "AEL Limassol"
         ],
         "legendgroup": "AEL Limassol",
         "marker": {
          "color": "rgb(255,217,47)",
          "size": [
           2
          ],
          "sizemode": "area",
          "sizeref": 0.30375,
          "symbol": "circle"
         },
         "mode": "markers",
         "name": "AEL Limassol",
         "orientation": "v",
         "showlegend": true,
         "textposition": "top center",
         "type": "scatter",
         "x": [
          0
         ],
         "xaxis": "x",
         "y": [
          2
         ],
         "yaxis": "y"
        },
        {
         "hovertemplate": "<b>%{hovertext}</b><br><br>Team=Debreceni VSC<br>Number of Wins=%{x}<br>Number of Losses=%{y}<br>Number of Macthes Played=%{marker.size}<extra></extra>",
         "hovertext": [
          "Debreceni VSC"
         ],
         "legendgroup": "Debreceni VSC",
         "marker": {
          "color": "rgb(229,196,148)",
          "size": [
           6
          ],
          "sizemode": "area",
          "sizeref": 0.30375,
          "symbol": "circle"
         },
         "mode": "markers",
         "name": "Debreceni VSC",
         "orientation": "v",
         "showlegend": true,
         "textposition": "top center",
         "type": "scatter",
         "x": [
          0
         ],
         "xaxis": "x",
         "y": [
          6
         ],
         "yaxis": "y"
        },
        {
         "hovertemplate": "<b>%{hovertext}</b><br><br>Team=KPV Kokkola<br>Number of Wins=%{x}<br>Number of Losses=%{y}<br>Number of Macthes Played=%{marker.size}<extra></extra>",
         "hovertext": [
          "KPV Kokkola"
         ],
         "legendgroup": "KPV Kokkola",
         "marker": {
          "color": "rgb(179,179,179)",
          "size": [
           2
          ],
          "sizemode": "area",
          "sizeref": 0.30375,
          "symbol": "circle"
         },
         "mode": "markers",
         "name": "KPV Kokkola",
         "orientation": "v",
         "showlegend": true,
         "textposition": "top center",
         "type": "scatter",
         "x": [
          0
         ],
         "xaxis": "x",
         "y": [
          2
         ],
         "yaxis": "y"
        },
        {
         "hovertemplate": "<b>%{hovertext}</b><br><br>Team=MŠK Žilina<br>Number of Wins=%{x}<br>Number of Losses=%{y}<br>Number of Macthes Played=%{marker.size}<extra></extra>",
         "hovertext": [
          "MŠK Žilina"
         ],
         "legendgroup": "MŠK Žilina",
         "marker": {
          "color": "rgb(102,194,165)",
          "size": [
           6
          ],
          "sizemode": "area",
          "sizeref": 0.30375,
          "symbol": "circle"
         },
         "mode": "markers",
         "name": "MŠK Žilina",
         "orientation": "v",
         "showlegend": true,
         "textposition": "top center",
         "type": "scatter",
         "x": [
          0
         ],
         "xaxis": "x",
         "y": [
          6
         ],
         "yaxis": "y"
        },
        {
         "hovertemplate": "<b>%{hovertext}</b><br><br>Team=EPA Larnaca<br>Number of Wins=%{x}<br>Number of Losses=%{y}<br>Number of Macthes Played=%{marker.size}<extra></extra>",
         "hovertext": [
          "EPA Larnaca"
         ],
         "legendgroup": "EPA Larnaca",
         "marker": {
          "color": "rgb(252,141,98)",
          "size": [
           2
          ],
          "sizemode": "area",
          "sizeref": 0.30375,
          "symbol": "circle"
         },
         "mode": "markers",
         "name": "EPA Larnaca",
         "orientation": "v",
         "showlegend": true,
         "textposition": "top center",
         "type": "scatter",
         "x": [
          0
         ],
         "xaxis": "x",
         "y": [
          2
         ],
         "yaxis": "y"
        },
        {
         "hovertemplate": "<b>%{hovertext}</b><br><br>Team=Crusaders FC<br>Number of Wins=%{x}<br>Number of Losses=%{y}<br>Number of Macthes Played=%{marker.size}<extra></extra>",
         "hovertext": [
          "Crusaders FC"
         ],
         "legendgroup": "Crusaders FC",
         "marker": {
          "color": "rgb(141,160,203)",
          "size": [
           4
          ],
          "sizemode": "area",
          "sizeref": 0.30375,
          "symbol": "circle"
         },
         "mode": "markers",
         "name": "Crusaders FC",
         "orientation": "v",
         "showlegend": true,
         "textposition": "top center",
         "type": "scatter",
         "x": [
          0
         ],
         "xaxis": "x",
         "y": [
          4
         ],
         "yaxis": "y"
        },
        {
         "hovertemplate": "<b>%{hovertext}</b><br><br>Team=Portadown FC<br>Number of Wins=%{x}<br>Number of Losses=%{y}<br>Number of Macthes Played=%{marker.size}<extra></extra>",
         "hovertext": [
          "Portadown FC"
         ],
         "legendgroup": "Portadown FC",
         "marker": {
          "color": "rgb(231,138,195)",
          "size": [
           4
          ],
          "sizemode": "area",
          "sizeref": 0.30375,
          "symbol": "circle"
         },
         "mode": "markers",
         "name": "Portadown FC",
         "orientation": "v",
         "showlegend": true,
         "textposition": "top center",
         "type": "scatter",
         "x": [
          0
         ],
         "xaxis": "x",
         "y": [
          4
         ],
         "yaxis": "y"
        },
        {
         "hovertemplate": "<b>%{hovertext}</b><br><br>Team=Rabat Ajax<br>Number of Wins=%{x}<br>Number of Losses=%{y}<br>Number of Macthes Played=%{marker.size}<extra></extra>",
         "hovertext": [
          "Rabat Ajax"
         ],
         "legendgroup": "Rabat Ajax",
         "marker": {
          "color": "rgb(166,216,84)",
          "size": [
           4
          ],
          "sizemode": "area",
          "sizeref": 0.30375,
          "symbol": "circle"
         },
         "mode": "markers",
         "name": "Rabat Ajax",
         "orientation": "v",
         "showlegend": true,
         "textposition": "top center",
         "type": "scatter",
         "x": [
          0
         ],
         "xaxis": "x",
         "y": [
          4
         ],
         "yaxis": "y"
        },
        {
         "hovertemplate": "<b>%{hovertext}</b><br><br>Team=KR Reykjavík<br>Number of Wins=%{x}<br>Number of Losses=%{y}<br>Number of Macthes Played=%{marker.size}<extra></extra>",
         "hovertext": [
          "KR Reykjavík"
         ],
         "legendgroup": "KR Reykjavík",
         "marker": {
          "color": "rgb(255,217,47)",
          "size": [
           6
          ],
          "sizemode": "area",
          "sizeref": 0.30375,
          "symbol": "circle"
         },
         "mode": "markers",
         "name": "KR Reykjavík",
         "orientation": "v",
         "showlegend": true,
         "textposition": "top center",
         "type": "scatter",
         "x": [
          0
         ],
         "xaxis": "x",
         "y": [
          6
         ],
         "yaxis": "y"
        },
        {
         "hovertemplate": "<b>%{hovertext}</b><br><br>Team=Keflavík ÍF<br>Number of Wins=%{x}<br>Number of Losses=%{y}<br>Number of Macthes Played=%{marker.size}<extra></extra>",
         "hovertext": [
          "Keflavík ÍF"
         ],
         "legendgroup": "Keflavík ÍF",
         "marker": {
          "color": "rgb(229,196,148)",
          "size": [
           8
          ],
          "sizemode": "area",
          "sizeref": 0.30375,
          "symbol": "circle"
         },
         "mode": "markers",
         "name": "Keflavík ÍF",
         "orientation": "v",
         "showlegend": true,
         "textposition": "top center",
         "type": "scatter",
         "x": [
          0
         ],
         "xaxis": "x",
         "y": [
          8
         ],
         "yaxis": "y"
        },
        {
         "hovertemplate": "<b>%{hovertext}</b><br><br>Team=Stade Dudelange<br>Number of Wins=%{x}<br>Number of Losses=%{y}<br>Number of Macthes Played=%{marker.size}<extra></extra>",
         "hovertext": [
          "Stade Dudelange"
         ],
         "legendgroup": "Stade Dudelange",
         "marker": {
          "color": "rgb(179,179,179)",
          "size": [
           4
          ],
          "sizemode": "area",
          "sizeref": 0.30375,
          "symbol": "circle"
         },
         "mode": "markers",
         "name": "Stade Dudelange",
         "orientation": "v",
         "showlegend": true,
         "textposition": "top center",
         "type": "scatter",
         "x": [
          0
         ],
         "xaxis": "x",
         "y": [
          4
         ],
         "yaxis": "y"
        },
        {
         "hovertemplate": "<b>%{hovertext}</b><br><br>Team=Union Luxembourg<br>Number of Wins=%{x}<br>Number of Losses=%{y}<br>Number of Macthes Played=%{marker.size}<extra></extra>",
         "hovertext": [
          "Union Luxembourg"
         ],
         "legendgroup": "Union Luxembourg",
         "marker": {
          "color": "rgb(102,194,165)",
          "size": [
           8
          ],
          "sizemode": "area",
          "sizeref": 0.30375,
          "symbol": "circle"
         },
         "mode": "markers",
         "name": "Union Luxembourg",
         "orientation": "v",
         "showlegend": true,
         "textposition": "top center",
         "type": "scatter",
         "x": [
          0
         ],
         "xaxis": "x",
         "y": [
          8
         ],
         "yaxis": "y"
        },
        {
         "hovertemplate": "<b>%{hovertext}</b><br><br>Team=Avenir Beggen<br>Number of Wins=%{x}<br>Number of Losses=%{y}<br>Number of Macthes Played=%{marker.size}<extra></extra>",
         "hovertext": [
          "Avenir Beggen"
         ],
         "legendgroup": "Avenir Beggen",
         "marker": {
          "color": "rgb(252,141,98)",
          "size": [
           8
          ],
          "sizemode": "area",
          "sizeref": 0.30375,
          "symbol": "circle"
         },
         "mode": "markers",
         "name": "Avenir Beggen",
         "orientation": "v",
         "showlegend": true,
         "textposition": "top center",
         "type": "scatter",
         "x": [
          0
         ],
         "xaxis": "x",
         "y": [
          8
         ],
         "yaxis": "y"
        }
       ],
       "layout": {
        "legend": {
         "itemsizing": "constant",
         "title": {
          "text": "Team"
         },
         "tracegroupgap": 0
        },
        "template": {
         "data": {
          "bar": [
           {
            "error_x": {
             "color": "#2a3f5f"
            },
            "error_y": {
             "color": "#2a3f5f"
            },
            "marker": {
             "line": {
              "color": "#E5ECF6",
              "width": 0.5
             },
             "pattern": {
              "fillmode": "overlay",
              "size": 10,
              "solidity": 0.2
             }
            },
            "type": "bar"
           }
          ],
          "barpolar": [
           {
            "marker": {
             "line": {
              "color": "#E5ECF6",
              "width": 0.5
             },
             "pattern": {
              "fillmode": "overlay",
              "size": 10,
              "solidity": 0.2
             }
            },
            "type": "barpolar"
           }
          ],
          "carpet": [
           {
            "aaxis": {
             "endlinecolor": "#2a3f5f",
             "gridcolor": "white",
             "linecolor": "white",
             "minorgridcolor": "white",
             "startlinecolor": "#2a3f5f"
            },
            "baxis": {
             "endlinecolor": "#2a3f5f",
             "gridcolor": "white",
             "linecolor": "white",
             "minorgridcolor": "white",
             "startlinecolor": "#2a3f5f"
            },
            "type": "carpet"
           }
          ],
          "choropleth": [
           {
            "colorbar": {
             "outlinewidth": 0,
             "ticks": ""
            },
            "type": "choropleth"
           }
          ],
          "contour": [
           {
            "colorbar": {
             "outlinewidth": 0,
             "ticks": ""
            },
            "colorscale": [
             [
              0,
              "#0d0887"
             ],
             [
              0.1111111111111111,
              "#46039f"
             ],
             [
              0.2222222222222222,
              "#7201a8"
             ],
             [
              0.3333333333333333,
              "#9c179e"
             ],
             [
              0.4444444444444444,
              "#bd3786"
             ],
             [
              0.5555555555555556,
              "#d8576b"
             ],
             [
              0.6666666666666666,
              "#ed7953"
             ],
             [
              0.7777777777777778,
              "#fb9f3a"
             ],
             [
              0.8888888888888888,
              "#fdca26"
             ],
             [
              1,
              "#f0f921"
             ]
            ],
            "type": "contour"
           }
          ],
          "contourcarpet": [
           {
            "colorbar": {
             "outlinewidth": 0,
             "ticks": ""
            },
            "type": "contourcarpet"
           }
          ],
          "heatmap": [
           {
            "colorbar": {
             "outlinewidth": 0,
             "ticks": ""
            },
            "colorscale": [
             [
              0,
              "#0d0887"
             ],
             [
              0.1111111111111111,
              "#46039f"
             ],
             [
              0.2222222222222222,
              "#7201a8"
             ],
             [
              0.3333333333333333,
              "#9c179e"
             ],
             [
              0.4444444444444444,
              "#bd3786"
             ],
             [
              0.5555555555555556,
              "#d8576b"
             ],
             [
              0.6666666666666666,
              "#ed7953"
             ],
             [
              0.7777777777777778,
              "#fb9f3a"
             ],
             [
              0.8888888888888888,
              "#fdca26"
             ],
             [
              1,
              "#f0f921"
             ]
            ],
            "type": "heatmap"
           }
          ],
          "heatmapgl": [
           {
            "colorbar": {
             "outlinewidth": 0,
             "ticks": ""
            },
            "colorscale": [
             [
              0,
              "#0d0887"
             ],
             [
              0.1111111111111111,
              "#46039f"
             ],
             [
              0.2222222222222222,
              "#7201a8"
             ],
             [
              0.3333333333333333,
              "#9c179e"
             ],
             [
              0.4444444444444444,
              "#bd3786"
             ],
             [
              0.5555555555555556,
              "#d8576b"
             ],
             [
              0.6666666666666666,
              "#ed7953"
             ],
             [
              0.7777777777777778,
              "#fb9f3a"
             ],
             [
              0.8888888888888888,
              "#fdca26"
             ],
             [
              1,
              "#f0f921"
             ]
            ],
            "type": "heatmapgl"
           }
          ],
          "histogram": [
           {
            "marker": {
             "pattern": {
              "fillmode": "overlay",
              "size": 10,
              "solidity": 0.2
             }
            },
            "type": "histogram"
           }
          ],
          "histogram2d": [
           {
            "colorbar": {
             "outlinewidth": 0,
             "ticks": ""
            },
            "colorscale": [
             [
              0,
              "#0d0887"
             ],
             [
              0.1111111111111111,
              "#46039f"
             ],
             [
              0.2222222222222222,
              "#7201a8"
             ],
             [
              0.3333333333333333,
              "#9c179e"
             ],
             [
              0.4444444444444444,
              "#bd3786"
             ],
             [
              0.5555555555555556,
              "#d8576b"
             ],
             [
              0.6666666666666666,
              "#ed7953"
             ],
             [
              0.7777777777777778,
              "#fb9f3a"
             ],
             [
              0.8888888888888888,
              "#fdca26"
             ],
             [
              1,
              "#f0f921"
             ]
            ],
            "type": "histogram2d"
           }
          ],
          "histogram2dcontour": [
           {
            "colorbar": {
             "outlinewidth": 0,
             "ticks": ""
            },
            "colorscale": [
             [
              0,
              "#0d0887"
             ],
             [
              0.1111111111111111,
              "#46039f"
             ],
             [
              0.2222222222222222,
              "#7201a8"
             ],
             [
              0.3333333333333333,
              "#9c179e"
             ],
             [
              0.4444444444444444,
              "#bd3786"
             ],
             [
              0.5555555555555556,
              "#d8576b"
             ],
             [
              0.6666666666666666,
              "#ed7953"
             ],
             [
              0.7777777777777778,
              "#fb9f3a"
             ],
             [
              0.8888888888888888,
              "#fdca26"
             ],
             [
              1,
              "#f0f921"
             ]
            ],
            "type": "histogram2dcontour"
           }
          ],
          "mesh3d": [
           {
            "colorbar": {
             "outlinewidth": 0,
             "ticks": ""
            },
            "type": "mesh3d"
           }
          ],
          "parcoords": [
           {
            "line": {
             "colorbar": {
              "outlinewidth": 0,
              "ticks": ""
             }
            },
            "type": "parcoords"
           }
          ],
          "pie": [
           {
            "automargin": true,
            "type": "pie"
           }
          ],
          "scatter": [
           {
            "fillpattern": {
             "fillmode": "overlay",
             "size": 10,
             "solidity": 0.2
            },
            "type": "scatter"
           }
          ],
          "scatter3d": [
           {
            "line": {
             "colorbar": {
              "outlinewidth": 0,
              "ticks": ""
             }
            },
            "marker": {
             "colorbar": {
              "outlinewidth": 0,
              "ticks": ""
             }
            },
            "type": "scatter3d"
           }
          ],
          "scattercarpet": [
           {
            "marker": {
             "colorbar": {
              "outlinewidth": 0,
              "ticks": ""
             }
            },
            "type": "scattercarpet"
           }
          ],
          "scattergeo": [
           {
            "marker": {
             "colorbar": {
              "outlinewidth": 0,
              "ticks": ""
             }
            },
            "type": "scattergeo"
           }
          ],
          "scattergl": [
           {
            "marker": {
             "colorbar": {
              "outlinewidth": 0,
              "ticks": ""
             }
            },
            "type": "scattergl"
           }
          ],
          "scattermapbox": [
           {
            "marker": {
             "colorbar": {
              "outlinewidth": 0,
              "ticks": ""
             }
            },
            "type": "scattermapbox"
           }
          ],
          "scatterpolar": [
           {
            "marker": {
             "colorbar": {
              "outlinewidth": 0,
              "ticks": ""
             }
            },
            "type": "scatterpolar"
           }
          ],
          "scatterpolargl": [
           {
            "marker": {
             "colorbar": {
              "outlinewidth": 0,
              "ticks": ""
             }
            },
            "type": "scatterpolargl"
           }
          ],
          "scatterternary": [
           {
            "marker": {
             "colorbar": {
              "outlinewidth": 0,
              "ticks": ""
             }
            },
            "type": "scatterternary"
           }
          ],
          "surface": [
           {
            "colorbar": {
             "outlinewidth": 0,
             "ticks": ""
            },
            "colorscale": [
             [
              0,
              "#0d0887"
             ],
             [
              0.1111111111111111,
              "#46039f"
             ],
             [
              0.2222222222222222,
              "#7201a8"
             ],
             [
              0.3333333333333333,
              "#9c179e"
             ],
             [
              0.4444444444444444,
              "#bd3786"
             ],
             [
              0.5555555555555556,
              "#d8576b"
             ],
             [
              0.6666666666666666,
              "#ed7953"
             ],
             [
              0.7777777777777778,
              "#fb9f3a"
             ],
             [
              0.8888888888888888,
              "#fdca26"
             ],
             [
              1,
              "#f0f921"
             ]
            ],
            "type": "surface"
           }
          ],
          "table": [
           {
            "cells": {
             "fill": {
              "color": "#EBF0F8"
             },
             "line": {
              "color": "white"
             }
            },
            "header": {
             "fill": {
              "color": "#C8D4E3"
             },
             "line": {
              "color": "white"
             }
            },
            "type": "table"
           }
          ]
         },
         "layout": {
          "annotationdefaults": {
           "arrowcolor": "#2a3f5f",
           "arrowhead": 0,
           "arrowwidth": 1
          },
          "autotypenumbers": "strict",
          "coloraxis": {
           "colorbar": {
            "outlinewidth": 0,
            "ticks": ""
           }
          },
          "colorscale": {
           "diverging": [
            [
             0,
             "#8e0152"
            ],
            [
             0.1,
             "#c51b7d"
            ],
            [
             0.2,
             "#de77ae"
            ],
            [
             0.3,
             "#f1b6da"
            ],
            [
             0.4,
             "#fde0ef"
            ],
            [
             0.5,
             "#f7f7f7"
            ],
            [
             0.6,
             "#e6f5d0"
            ],
            [
             0.7,
             "#b8e186"
            ],
            [
             0.8,
             "#7fbc41"
            ],
            [
             0.9,
             "#4d9221"
            ],
            [
             1,
             "#276419"
            ]
           ],
           "sequential": [
            [
             0,
             "#0d0887"
            ],
            [
             0.1111111111111111,
             "#46039f"
            ],
            [
             0.2222222222222222,
             "#7201a8"
            ],
            [
             0.3333333333333333,
             "#9c179e"
            ],
            [
             0.4444444444444444,
             "#bd3786"
            ],
            [
             0.5555555555555556,
             "#d8576b"
            ],
            [
             0.6666666666666666,
             "#ed7953"
            ],
            [
             0.7777777777777778,
             "#fb9f3a"
            ],
            [
             0.8888888888888888,
             "#fdca26"
            ],
            [
             1,
             "#f0f921"
            ]
           ],
           "sequentialminus": [
            [
             0,
             "#0d0887"
            ],
            [
             0.1111111111111111,
             "#46039f"
            ],
            [
             0.2222222222222222,
             "#7201a8"
            ],
            [
             0.3333333333333333,
             "#9c179e"
            ],
            [
             0.4444444444444444,
             "#bd3786"
            ],
            [
             0.5555555555555556,
             "#d8576b"
            ],
            [
             0.6666666666666666,
             "#ed7953"
            ],
            [
             0.7777777777777778,
             "#fb9f3a"
            ],
            [
             0.8888888888888888,
             "#fdca26"
            ],
            [
             1,
             "#f0f921"
            ]
           ]
          },
          "colorway": [
           "#636efa",
           "#EF553B",
           "#00cc96",
           "#ab63fa",
           "#FFA15A",
           "#19d3f3",
           "#FF6692",
           "#B6E880",
           "#FF97FF",
           "#FECB52"
          ],
          "font": {
           "color": "#2a3f5f"
          },
          "geo": {
           "bgcolor": "white",
           "lakecolor": "white",
           "landcolor": "#E5ECF6",
           "showlakes": true,
           "showland": true,
           "subunitcolor": "white"
          },
          "hoverlabel": {
           "align": "left"
          },
          "hovermode": "closest",
          "mapbox": {
           "style": "light"
          },
          "paper_bgcolor": "white",
          "plot_bgcolor": "#E5ECF6",
          "polar": {
           "angularaxis": {
            "gridcolor": "white",
            "linecolor": "white",
            "ticks": ""
           },
           "bgcolor": "#E5ECF6",
           "radialaxis": {
            "gridcolor": "white",
            "linecolor": "white",
            "ticks": ""
           }
          },
          "scene": {
           "xaxis": {
            "backgroundcolor": "#E5ECF6",
            "gridcolor": "white",
            "gridwidth": 2,
            "linecolor": "white",
            "showbackground": true,
            "ticks": "",
            "zerolinecolor": "white"
           },
           "yaxis": {
            "backgroundcolor": "#E5ECF6",
            "gridcolor": "white",
            "gridwidth": 2,
            "linecolor": "white",
            "showbackground": true,
            "ticks": "",
            "zerolinecolor": "white"
           },
           "zaxis": {
            "backgroundcolor": "#E5ECF6",
            "gridcolor": "white",
            "gridwidth": 2,
            "linecolor": "white",
            "showbackground": true,
            "ticks": "",
            "zerolinecolor": "white"
           }
          },
          "shapedefaults": {
           "line": {
            "color": "#2a3f5f"
           }
          },
          "ternary": {
           "aaxis": {
            "gridcolor": "white",
            "linecolor": "white",
            "ticks": ""
           },
           "baxis": {
            "gridcolor": "white",
            "linecolor": "white",
            "ticks": ""
           },
           "bgcolor": "#E5ECF6",
           "caxis": {
            "gridcolor": "white",
            "linecolor": "white",
            "ticks": ""
           }
          },
          "title": {
           "x": 0.05
          },
          "xaxis": {
           "automargin": true,
           "gridcolor": "white",
           "linecolor": "white",
           "ticks": "",
           "title": {
            "standoff": 15
           },
           "zerolinecolor": "white",
           "zerolinewidth": 2
          },
          "yaxis": {
           "automargin": true,
           "gridcolor": "white",
           "linecolor": "white",
           "ticks": "",
           "title": {
            "standoff": 15
           },
           "zerolinecolor": "white",
           "zerolinewidth": 2
          }
         }
        },
        "title": {
         "text": "Wins vs Losses per Team in Champions League"
        },
        "xaxis": {
         "anchor": "y",
         "domain": [
          0,
          1
         ],
         "title": {
          "text": "Number of Wins"
         }
        },
        "yaxis": {
         "anchor": "x",
         "domain": [
          0,
          1
         ],
         "title": {
          "text": "Number of Losses"
         }
        }
       }
      }
     },
     "metadata": {},
     "output_type": "display_data"
    }
   ],
   "source": [
    "fig = px.scatter(all_time, x='W', y='L',\n",
    "                 size='M.',color=\"Team\",\n",
    "                 title='Wins vs Losses per Team in Champions League',\n",
    "                 labels={'W': 'Number of Wins', 'L': 'Number of Losses',\"M.\":\"Number of Macthes Played\"},\n",
    "                 hover_name='Team',\n",
    "                 size_max=40,\n",
    "                 color_discrete_sequence=px.colors.qualitative.Set2)\n",
    "\n",
    "# Add team names to the plot\n",
    "fig.update_traces(textposition='top center')\n",
    "\n",
    "# Customize axis labels and limits\n",
    "fig.update_layout(\n",
    "    xaxis_title='Number of Wins',\n",
    "    yaxis_title='Number of Losses',\n",
    ")\n",
    "\n",
    "# Show the plot\n",
    "fig.show()"
   ]
  },
  {
   "cell_type": "markdown",
   "metadata": {},
   "source": [
    "### Top_10 Team's Win-Draw-Lose"
   ]
  },
  {
   "cell_type": "code",
   "execution_count": 151,
   "metadata": {},
   "outputs": [
    {
     "data": {
      "text/html": [
       "<div>\n",
       "<style scoped>\n",
       "    .dataframe tbody tr th:only-of-type {\n",
       "        vertical-align: middle;\n",
       "    }\n",
       "\n",
       "    .dataframe tbody tr th {\n",
       "        vertical-align: top;\n",
       "    }\n",
       "\n",
       "    .dataframe thead th {\n",
       "        text-align: right;\n",
       "    }\n",
       "</style>\n",
       "<table border=\"1\" class=\"dataframe\">\n",
       "  <thead>\n",
       "    <tr style=\"text-align: right;\">\n",
       "      <th></th>\n",
       "      <th>Team</th>\n",
       "      <th>M.</th>\n",
       "      <th>W</th>\n",
       "      <th>D</th>\n",
       "      <th>L</th>\n",
       "      <th>goals</th>\n",
       "      <th>Dif</th>\n",
       "      <th>Pt.</th>\n",
       "      <th>win_ratio</th>\n",
       "      <th>loss_ratio</th>\n",
       "    </tr>\n",
       "  </thead>\n",
       "  <tbody>\n",
       "    <tr>\n",
       "      <th>0</th>\n",
       "      <td>Real Madrid</td>\n",
       "      <td>486</td>\n",
       "      <td>291</td>\n",
       "      <td>85</td>\n",
       "      <td>110</td>\n",
       "      <td>1076:55:00</td>\n",
       "      <td>533</td>\n",
       "      <td>533</td>\n",
       "      <td>0.598765</td>\n",
       "      <td>0.226337</td>\n",
       "    </tr>\n",
       "    <tr>\n",
       "      <th>1</th>\n",
       "      <td>Bayern Munich</td>\n",
       "      <td>388</td>\n",
       "      <td>231</td>\n",
       "      <td>78</td>\n",
       "      <td>79</td>\n",
       "      <td>817:24:00</td>\n",
       "      <td>427</td>\n",
       "      <td>427</td>\n",
       "      <td>0.595361</td>\n",
       "      <td>0.203608</td>\n",
       "    </tr>\n",
       "    <tr>\n",
       "      <th>2</th>\n",
       "      <td>FC Barcelona</td>\n",
       "      <td>341</td>\n",
       "      <td>196</td>\n",
       "      <td>77</td>\n",
       "      <td>68</td>\n",
       "      <td>675:51:00</td>\n",
       "      <td>319</td>\n",
       "      <td>319</td>\n",
       "      <td>0.574780</td>\n",
       "      <td>0.199413</td>\n",
       "    </tr>\n",
       "    <tr>\n",
       "      <th>4</th>\n",
       "      <td>Juventus</td>\n",
       "      <td>297</td>\n",
       "      <td>151</td>\n",
       "      <td>68</td>\n",
       "      <td>78</td>\n",
       "      <td>472:57:00</td>\n",
       "      <td>171</td>\n",
       "      <td>171</td>\n",
       "      <td>0.508418</td>\n",
       "      <td>0.262626</td>\n",
       "    </tr>\n",
       "    <tr>\n",
       "      <th>3</th>\n",
       "      <td>Manchester United</td>\n",
       "      <td>289</td>\n",
       "      <td>153</td>\n",
       "      <td>69</td>\n",
       "      <td>67</td>\n",
       "      <td>524:56:00</td>\n",
       "      <td>224</td>\n",
       "      <td>224</td>\n",
       "      <td>0.529412</td>\n",
       "      <td>0.231834</td>\n",
       "    </tr>\n",
       "    <tr>\n",
       "      <th>8</th>\n",
       "      <td>SL Benfica</td>\n",
       "      <td>266</td>\n",
       "      <td>116</td>\n",
       "      <td>61</td>\n",
       "      <td>89</td>\n",
       "      <td>438:19:00</td>\n",
       "      <td>114</td>\n",
       "      <td>114</td>\n",
       "      <td>0.436090</td>\n",
       "      <td>0.334586</td>\n",
       "    </tr>\n",
       "    <tr>\n",
       "      <th>5</th>\n",
       "      <td>AC Milan</td>\n",
       "      <td>265</td>\n",
       "      <td>127</td>\n",
       "      <td>69</td>\n",
       "      <td>69</td>\n",
       "      <td>431:16:00</td>\n",
       "      <td>171</td>\n",
       "      <td>171</td>\n",
       "      <td>0.479245</td>\n",
       "      <td>0.260377</td>\n",
       "    </tr>\n",
       "    <tr>\n",
       "      <th>7</th>\n",
       "      <td>FC Porto</td>\n",
       "      <td>265</td>\n",
       "      <td>120</td>\n",
       "      <td>58</td>\n",
       "      <td>87</td>\n",
       "      <td>392:01:00</td>\n",
       "      <td>86</td>\n",
       "      <td>86</td>\n",
       "      <td>0.452830</td>\n",
       "      <td>0.328302</td>\n",
       "    </tr>\n",
       "    <tr>\n",
       "      <th>6</th>\n",
       "      <td>Liverpool FC</td>\n",
       "      <td>230</td>\n",
       "      <td>128</td>\n",
       "      <td>48</td>\n",
       "      <td>54</td>\n",
       "      <td>435:38:00</td>\n",
       "      <td>214</td>\n",
       "      <td>214</td>\n",
       "      <td>0.556522</td>\n",
       "      <td>0.234783</td>\n",
       "    </tr>\n",
       "    <tr>\n",
       "      <th>10</th>\n",
       "      <td>AFC Ajax</td>\n",
       "      <td>215</td>\n",
       "      <td>100</td>\n",
       "      <td>50</td>\n",
       "      <td>65</td>\n",
       "      <td>347:59:00</td>\n",
       "      <td>105</td>\n",
       "      <td>105</td>\n",
       "      <td>0.465116</td>\n",
       "      <td>0.302326</td>\n",
       "    </tr>\n",
       "  </tbody>\n",
       "</table>\n",
       "</div>"
      ],
      "text/plain": [
       "                 Team   M.    W   D    L       goals  Dif  Pt.  win_ratio  \\\n",
       "0         Real Madrid  486  291  85  110  1076:55:00  533  533   0.598765   \n",
       "1       Bayern Munich  388  231  78   79   817:24:00  427  427   0.595361   \n",
       "2        FC Barcelona  341  196  77   68   675:51:00  319  319   0.574780   \n",
       "4            Juventus  297  151  68   78   472:57:00  171  171   0.508418   \n",
       "3   Manchester United  289  153  69   67   524:56:00  224  224   0.529412   \n",
       "8          SL Benfica  266  116  61   89   438:19:00  114  114   0.436090   \n",
       "5            AC Milan  265  127  69   69   431:16:00  171  171   0.479245   \n",
       "7            FC Porto  265  120  58   87   392:01:00   86   86   0.452830   \n",
       "6        Liverpool FC  230  128  48   54   435:38:00  214  214   0.556522   \n",
       "10           AFC Ajax  215  100  50   65   347:59:00  105  105   0.465116   \n",
       "\n",
       "    loss_ratio  \n",
       "0     0.226337  \n",
       "1     0.203608  \n",
       "2     0.199413  \n",
       "4     0.262626  \n",
       "3     0.231834  \n",
       "8     0.334586  \n",
       "5     0.260377  \n",
       "7     0.328302  \n",
       "6     0.234783  \n",
       "10    0.302326  "
      ]
     },
     "execution_count": 151,
     "metadata": {},
     "output_type": "execute_result"
    }
   ],
   "source": [
    "top_10_by_matches= all_time.sort_values(by=\"M.\",ascending=False).head(10)\n",
    "top_10_by_matches"
   ]
  },
  {
   "cell_type": "code",
   "execution_count": null,
   "metadata": {},
   "outputs": [],
   "source": [
    "fig=px.bar(top_10,x=\"win_loss_ratio\",y=\"Team\",\n",
    "       title=\"Top 10 Teams (By Win/Loss Ratio)\",\n",
    "       labels={\"win_loss_ratio\":\"Win/Lose Ratio\"},\n",
    "       color=\"Team\",\n",
    "       color_discrete_sequence=px.colors.qualitative.Set1\n",
    "       )\n",
    "\n",
    "fig.update_layout(yaxis={'categoryorder':'total ascending'}, \n",
    "                  xaxis_title='Win/Loss Ratio', \n",
    "                  yaxis_title='Team')\n",
    "\n",
    "fig.show()"
   ]
  },
  {
   "cell_type": "code",
   "execution_count": 181,
   "metadata": {},
   "outputs": [
    {
     "data": {
      "application/vnd.plotly.v1+json": {
       "config": {
        "plotlyServerURL": "https://plot.ly"
       },
       "data": [
        {
         "alignmentgroup": "True",
         "hovertemplate": "Result=W<br>Total Count=%{x}<br>Team=%{y}<extra></extra>",
         "legendgroup": "W",
         "marker": {
          "color": "#4C78A8",
          "pattern": {
           "shape": ""
          }
         },
         "name": "W",
         "offsetgroup": "W",
         "orientation": "h",
         "showlegend": true,
         "textposition": "auto",
         "type": "bar",
         "x": [
          291,
          231,
          196,
          151,
          153,
          116,
          127,
          120,
          128,
          100
         ],
         "xaxis": "x",
         "y": [
          "Real Madrid",
          "Bayern Munich",
          "FC Barcelona",
          "Juventus",
          "Manchester United",
          "SL Benfica",
          "AC Milan",
          "FC Porto",
          "Liverpool FC",
          "AFC Ajax"
         ],
         "yaxis": "y"
        },
        {
         "alignmentgroup": "True",
         "hovertemplate": "Result=D<br>Total Count=%{x}<br>Team=%{y}<extra></extra>",
         "legendgroup": "D",
         "marker": {
          "color": "#F58518",
          "pattern": {
           "shape": ""
          }
         },
         "name": "D",
         "offsetgroup": "D",
         "orientation": "h",
         "showlegend": true,
         "textposition": "auto",
         "type": "bar",
         "x": [
          85,
          78,
          77,
          68,
          69,
          61,
          69,
          58,
          48,
          50
         ],
         "xaxis": "x",
         "y": [
          "Real Madrid",
          "Bayern Munich",
          "FC Barcelona",
          "Juventus",
          "Manchester United",
          "SL Benfica",
          "AC Milan",
          "FC Porto",
          "Liverpool FC",
          "AFC Ajax"
         ],
         "yaxis": "y"
        },
        {
         "alignmentgroup": "True",
         "hovertemplate": "Result=L<br>Total Count=%{x}<br>Team=%{y}<extra></extra>",
         "legendgroup": "L",
         "marker": {
          "color": "#E45756",
          "pattern": {
           "shape": ""
          }
         },
         "name": "L",
         "offsetgroup": "L",
         "orientation": "h",
         "showlegend": true,
         "textposition": "auto",
         "type": "bar",
         "x": [
          110,
          79,
          68,
          78,
          67,
          89,
          69,
          87,
          54,
          65
         ],
         "xaxis": "x",
         "y": [
          "Real Madrid",
          "Bayern Munich",
          "FC Barcelona",
          "Juventus",
          "Manchester United",
          "SL Benfica",
          "AC Milan",
          "FC Porto",
          "Liverpool FC",
          "AFC Ajax"
         ],
         "yaxis": "y"
        }
       ],
       "layout": {
        "barmode": "relative",
        "legend": {
         "title": {
          "text": "Result"
         },
         "tracegroupgap": 0
        },
        "template": {
         "data": {
          "bar": [
           {
            "error_x": {
             "color": "#2a3f5f"
            },
            "error_y": {
             "color": "#2a3f5f"
            },
            "marker": {
             "line": {
              "color": "#E5ECF6",
              "width": 0.5
             },
             "pattern": {
              "fillmode": "overlay",
              "size": 10,
              "solidity": 0.2
             }
            },
            "type": "bar"
           }
          ],
          "barpolar": [
           {
            "marker": {
             "line": {
              "color": "#E5ECF6",
              "width": 0.5
             },
             "pattern": {
              "fillmode": "overlay",
              "size": 10,
              "solidity": 0.2
             }
            },
            "type": "barpolar"
           }
          ],
          "carpet": [
           {
            "aaxis": {
             "endlinecolor": "#2a3f5f",
             "gridcolor": "white",
             "linecolor": "white",
             "minorgridcolor": "white",
             "startlinecolor": "#2a3f5f"
            },
            "baxis": {
             "endlinecolor": "#2a3f5f",
             "gridcolor": "white",
             "linecolor": "white",
             "minorgridcolor": "white",
             "startlinecolor": "#2a3f5f"
            },
            "type": "carpet"
           }
          ],
          "choropleth": [
           {
            "colorbar": {
             "outlinewidth": 0,
             "ticks": ""
            },
            "type": "choropleth"
           }
          ],
          "contour": [
           {
            "colorbar": {
             "outlinewidth": 0,
             "ticks": ""
            },
            "colorscale": [
             [
              0,
              "#0d0887"
             ],
             [
              0.1111111111111111,
              "#46039f"
             ],
             [
              0.2222222222222222,
              "#7201a8"
             ],
             [
              0.3333333333333333,
              "#9c179e"
             ],
             [
              0.4444444444444444,
              "#bd3786"
             ],
             [
              0.5555555555555556,
              "#d8576b"
             ],
             [
              0.6666666666666666,
              "#ed7953"
             ],
             [
              0.7777777777777778,
              "#fb9f3a"
             ],
             [
              0.8888888888888888,
              "#fdca26"
             ],
             [
              1,
              "#f0f921"
             ]
            ],
            "type": "contour"
           }
          ],
          "contourcarpet": [
           {
            "colorbar": {
             "outlinewidth": 0,
             "ticks": ""
            },
            "type": "contourcarpet"
           }
          ],
          "heatmap": [
           {
            "colorbar": {
             "outlinewidth": 0,
             "ticks": ""
            },
            "colorscale": [
             [
              0,
              "#0d0887"
             ],
             [
              0.1111111111111111,
              "#46039f"
             ],
             [
              0.2222222222222222,
              "#7201a8"
             ],
             [
              0.3333333333333333,
              "#9c179e"
             ],
             [
              0.4444444444444444,
              "#bd3786"
             ],
             [
              0.5555555555555556,
              "#d8576b"
             ],
             [
              0.6666666666666666,
              "#ed7953"
             ],
             [
              0.7777777777777778,
              "#fb9f3a"
             ],
             [
              0.8888888888888888,
              "#fdca26"
             ],
             [
              1,
              "#f0f921"
             ]
            ],
            "type": "heatmap"
           }
          ],
          "heatmapgl": [
           {
            "colorbar": {
             "outlinewidth": 0,
             "ticks": ""
            },
            "colorscale": [
             [
              0,
              "#0d0887"
             ],
             [
              0.1111111111111111,
              "#46039f"
             ],
             [
              0.2222222222222222,
              "#7201a8"
             ],
             [
              0.3333333333333333,
              "#9c179e"
             ],
             [
              0.4444444444444444,
              "#bd3786"
             ],
             [
              0.5555555555555556,
              "#d8576b"
             ],
             [
              0.6666666666666666,
              "#ed7953"
             ],
             [
              0.7777777777777778,
              "#fb9f3a"
             ],
             [
              0.8888888888888888,
              "#fdca26"
             ],
             [
              1,
              "#f0f921"
             ]
            ],
            "type": "heatmapgl"
           }
          ],
          "histogram": [
           {
            "marker": {
             "pattern": {
              "fillmode": "overlay",
              "size": 10,
              "solidity": 0.2
             }
            },
            "type": "histogram"
           }
          ],
          "histogram2d": [
           {
            "colorbar": {
             "outlinewidth": 0,
             "ticks": ""
            },
            "colorscale": [
             [
              0,
              "#0d0887"
             ],
             [
              0.1111111111111111,
              "#46039f"
             ],
             [
              0.2222222222222222,
              "#7201a8"
             ],
             [
              0.3333333333333333,
              "#9c179e"
             ],
             [
              0.4444444444444444,
              "#bd3786"
             ],
             [
              0.5555555555555556,
              "#d8576b"
             ],
             [
              0.6666666666666666,
              "#ed7953"
             ],
             [
              0.7777777777777778,
              "#fb9f3a"
             ],
             [
              0.8888888888888888,
              "#fdca26"
             ],
             [
              1,
              "#f0f921"
             ]
            ],
            "type": "histogram2d"
           }
          ],
          "histogram2dcontour": [
           {
            "colorbar": {
             "outlinewidth": 0,
             "ticks": ""
            },
            "colorscale": [
             [
              0,
              "#0d0887"
             ],
             [
              0.1111111111111111,
              "#46039f"
             ],
             [
              0.2222222222222222,
              "#7201a8"
             ],
             [
              0.3333333333333333,
              "#9c179e"
             ],
             [
              0.4444444444444444,
              "#bd3786"
             ],
             [
              0.5555555555555556,
              "#d8576b"
             ],
             [
              0.6666666666666666,
              "#ed7953"
             ],
             [
              0.7777777777777778,
              "#fb9f3a"
             ],
             [
              0.8888888888888888,
              "#fdca26"
             ],
             [
              1,
              "#f0f921"
             ]
            ],
            "type": "histogram2dcontour"
           }
          ],
          "mesh3d": [
           {
            "colorbar": {
             "outlinewidth": 0,
             "ticks": ""
            },
            "type": "mesh3d"
           }
          ],
          "parcoords": [
           {
            "line": {
             "colorbar": {
              "outlinewidth": 0,
              "ticks": ""
             }
            },
            "type": "parcoords"
           }
          ],
          "pie": [
           {
            "automargin": true,
            "type": "pie"
           }
          ],
          "scatter": [
           {
            "fillpattern": {
             "fillmode": "overlay",
             "size": 10,
             "solidity": 0.2
            },
            "type": "scatter"
           }
          ],
          "scatter3d": [
           {
            "line": {
             "colorbar": {
              "outlinewidth": 0,
              "ticks": ""
             }
            },
            "marker": {
             "colorbar": {
              "outlinewidth": 0,
              "ticks": ""
             }
            },
            "type": "scatter3d"
           }
          ],
          "scattercarpet": [
           {
            "marker": {
             "colorbar": {
              "outlinewidth": 0,
              "ticks": ""
             }
            },
            "type": "scattercarpet"
           }
          ],
          "scattergeo": [
           {
            "marker": {
             "colorbar": {
              "outlinewidth": 0,
              "ticks": ""
             }
            },
            "type": "scattergeo"
           }
          ],
          "scattergl": [
           {
            "marker": {
             "colorbar": {
              "outlinewidth": 0,
              "ticks": ""
             }
            },
            "type": "scattergl"
           }
          ],
          "scattermapbox": [
           {
            "marker": {
             "colorbar": {
              "outlinewidth": 0,
              "ticks": ""
             }
            },
            "type": "scattermapbox"
           }
          ],
          "scatterpolar": [
           {
            "marker": {
             "colorbar": {
              "outlinewidth": 0,
              "ticks": ""
             }
            },
            "type": "scatterpolar"
           }
          ],
          "scatterpolargl": [
           {
            "marker": {
             "colorbar": {
              "outlinewidth": 0,
              "ticks": ""
             }
            },
            "type": "scatterpolargl"
           }
          ],
          "scatterternary": [
           {
            "marker": {
             "colorbar": {
              "outlinewidth": 0,
              "ticks": ""
             }
            },
            "type": "scatterternary"
           }
          ],
          "surface": [
           {
            "colorbar": {
             "outlinewidth": 0,
             "ticks": ""
            },
            "colorscale": [
             [
              0,
              "#0d0887"
             ],
             [
              0.1111111111111111,
              "#46039f"
             ],
             [
              0.2222222222222222,
              "#7201a8"
             ],
             [
              0.3333333333333333,
              "#9c179e"
             ],
             [
              0.4444444444444444,
              "#bd3786"
             ],
             [
              0.5555555555555556,
              "#d8576b"
             ],
             [
              0.6666666666666666,
              "#ed7953"
             ],
             [
              0.7777777777777778,
              "#fb9f3a"
             ],
             [
              0.8888888888888888,
              "#fdca26"
             ],
             [
              1,
              "#f0f921"
             ]
            ],
            "type": "surface"
           }
          ],
          "table": [
           {
            "cells": {
             "fill": {
              "color": "#EBF0F8"
             },
             "line": {
              "color": "white"
             }
            },
            "header": {
             "fill": {
              "color": "#C8D4E3"
             },
             "line": {
              "color": "white"
             }
            },
            "type": "table"
           }
          ]
         },
         "layout": {
          "annotationdefaults": {
           "arrowcolor": "#2a3f5f",
           "arrowhead": 0,
           "arrowwidth": 1
          },
          "autotypenumbers": "strict",
          "coloraxis": {
           "colorbar": {
            "outlinewidth": 0,
            "ticks": ""
           }
          },
          "colorscale": {
           "diverging": [
            [
             0,
             "#8e0152"
            ],
            [
             0.1,
             "#c51b7d"
            ],
            [
             0.2,
             "#de77ae"
            ],
            [
             0.3,
             "#f1b6da"
            ],
            [
             0.4,
             "#fde0ef"
            ],
            [
             0.5,
             "#f7f7f7"
            ],
            [
             0.6,
             "#e6f5d0"
            ],
            [
             0.7,
             "#b8e186"
            ],
            [
             0.8,
             "#7fbc41"
            ],
            [
             0.9,
             "#4d9221"
            ],
            [
             1,
             "#276419"
            ]
           ],
           "sequential": [
            [
             0,
             "#0d0887"
            ],
            [
             0.1111111111111111,
             "#46039f"
            ],
            [
             0.2222222222222222,
             "#7201a8"
            ],
            [
             0.3333333333333333,
             "#9c179e"
            ],
            [
             0.4444444444444444,
             "#bd3786"
            ],
            [
             0.5555555555555556,
             "#d8576b"
            ],
            [
             0.6666666666666666,
             "#ed7953"
            ],
            [
             0.7777777777777778,
             "#fb9f3a"
            ],
            [
             0.8888888888888888,
             "#fdca26"
            ],
            [
             1,
             "#f0f921"
            ]
           ],
           "sequentialminus": [
            [
             0,
             "#0d0887"
            ],
            [
             0.1111111111111111,
             "#46039f"
            ],
            [
             0.2222222222222222,
             "#7201a8"
            ],
            [
             0.3333333333333333,
             "#9c179e"
            ],
            [
             0.4444444444444444,
             "#bd3786"
            ],
            [
             0.5555555555555556,
             "#d8576b"
            ],
            [
             0.6666666666666666,
             "#ed7953"
            ],
            [
             0.7777777777777778,
             "#fb9f3a"
            ],
            [
             0.8888888888888888,
             "#fdca26"
            ],
            [
             1,
             "#f0f921"
            ]
           ]
          },
          "colorway": [
           "#636efa",
           "#EF553B",
           "#00cc96",
           "#ab63fa",
           "#FFA15A",
           "#19d3f3",
           "#FF6692",
           "#B6E880",
           "#FF97FF",
           "#FECB52"
          ],
          "font": {
           "color": "#2a3f5f"
          },
          "geo": {
           "bgcolor": "white",
           "lakecolor": "white",
           "landcolor": "#E5ECF6",
           "showlakes": true,
           "showland": true,
           "subunitcolor": "white"
          },
          "hoverlabel": {
           "align": "left"
          },
          "hovermode": "closest",
          "mapbox": {
           "style": "light"
          },
          "paper_bgcolor": "white",
          "plot_bgcolor": "#E5ECF6",
          "polar": {
           "angularaxis": {
            "gridcolor": "white",
            "linecolor": "white",
            "ticks": ""
           },
           "bgcolor": "#E5ECF6",
           "radialaxis": {
            "gridcolor": "white",
            "linecolor": "white",
            "ticks": ""
           }
          },
          "scene": {
           "xaxis": {
            "backgroundcolor": "#E5ECF6",
            "gridcolor": "white",
            "gridwidth": 2,
            "linecolor": "white",
            "showbackground": true,
            "ticks": "",
            "zerolinecolor": "white"
           },
           "yaxis": {
            "backgroundcolor": "#E5ECF6",
            "gridcolor": "white",
            "gridwidth": 2,
            "linecolor": "white",
            "showbackground": true,
            "ticks": "",
            "zerolinecolor": "white"
           },
           "zaxis": {
            "backgroundcolor": "#E5ECF6",
            "gridcolor": "white",
            "gridwidth": 2,
            "linecolor": "white",
            "showbackground": true,
            "ticks": "",
            "zerolinecolor": "white"
           }
          },
          "shapedefaults": {
           "line": {
            "color": "#2a3f5f"
           }
          },
          "ternary": {
           "aaxis": {
            "gridcolor": "white",
            "linecolor": "white",
            "ticks": ""
           },
           "baxis": {
            "gridcolor": "white",
            "linecolor": "white",
            "ticks": ""
           },
           "bgcolor": "#E5ECF6",
           "caxis": {
            "gridcolor": "white",
            "linecolor": "white",
            "ticks": ""
           }
          },
          "title": {
           "x": 0.05
          },
          "xaxis": {
           "automargin": true,
           "gridcolor": "white",
           "linecolor": "white",
           "ticks": "",
           "title": {
            "standoff": 15
           },
           "zerolinecolor": "white",
           "zerolinewidth": 2
          },
          "yaxis": {
           "automargin": true,
           "gridcolor": "white",
           "linecolor": "white",
           "ticks": "",
           "title": {
            "standoff": 15
           },
           "zerolinecolor": "white",
           "zerolinewidth": 2
          }
         }
        },
        "title": {
         "text": "Top 10 Teams (Most Matches Played)"
        },
        "xaxis": {
         "anchor": "y",
         "domain": [
          0,
          1
         ],
         "title": {
          "text": "Number of Matches"
         }
        },
        "yaxis": {
         "anchor": "x",
         "categoryorder": "total ascending",
         "domain": [
          0,
          1
         ],
         "title": {
          "text": "Team"
         }
        }
       }
      }
     },
     "metadata": {},
     "output_type": "display_data"
    }
   ],
   "source": [
    "fig = px.bar(top_10_by_matches, \n",
    "             x=[\"W\", \"D\", \"L\"], \n",
    "             y=\"Team\",\n",
    "             title=\"Top 10 Teams (Most Matches Played)\",\n",
    "             labels={\"variable\": \"Result\", \"value\": \"Total Count\"},\n",
    "             color_discrete_sequence=px.colors.qualitative.T10)\n",
    "\n",
    "\n",
    "fig.update_layout(\n",
    "    yaxis={'categoryorder': 'total ascending'}, \n",
    "    xaxis_title='Number of Matches',\n",
    "    yaxis_title='Team',\n",
    ")\n",
    "fig.show()"
   ]
  },
  {
   "cell_type": "markdown",
   "metadata": {},
   "source": []
  },
  {
   "cell_type": "markdown",
   "metadata": {},
   "source": [
    "### Team performance trends over the last decade"
   ]
  },
  {
   "cell_type": "code",
   "execution_count": 115,
   "metadata": {},
   "outputs": [
    {
     "data": {
      "text/html": [
       "<div>\n",
       "<style scoped>\n",
       "    .dataframe tbody tr th:only-of-type {\n",
       "        vertical-align: middle;\n",
       "    }\n",
       "\n",
       "    .dataframe tbody tr th {\n",
       "        vertical-align: top;\n",
       "    }\n",
       "\n",
       "    .dataframe thead th {\n",
       "        text-align: right;\n",
       "    }\n",
       "</style>\n",
       "<table border=\"1\" class=\"dataframe\">\n",
       "  <thead>\n",
       "    <tr style=\"text-align: right;\">\n",
       "      <th></th>\n",
       "      <th>Season</th>\n",
       "      <th>Winner Country</th>\n",
       "      <th>Winners</th>\n",
       "      <th>Score</th>\n",
       "      <th>Runners-up</th>\n",
       "      <th>Runners-Up Country</th>\n",
       "      <th>Venue</th>\n",
       "      <th>Attendance</th>\n",
       "    </tr>\n",
       "  </thead>\n",
       "  <tbody>\n",
       "    <tr>\n",
       "      <th>0</th>\n",
       "      <td>1955–56</td>\n",
       "      <td>Spain</td>\n",
       "      <td>Real Madrid</td>\n",
       "      <td>4–3</td>\n",
       "      <td>Reims</td>\n",
       "      <td>France</td>\n",
       "      <td>Parc des Princes, Paris, France</td>\n",
       "      <td>38239.0</td>\n",
       "    </tr>\n",
       "    <tr>\n",
       "      <th>1</th>\n",
       "      <td>1956–57</td>\n",
       "      <td>Spain</td>\n",
       "      <td>Real Madrid</td>\n",
       "      <td>2–0</td>\n",
       "      <td>Fiorentina</td>\n",
       "      <td>Italy</td>\n",
       "      <td>Santiago Bernabéu, Madrid, Spain</td>\n",
       "      <td>124000.0</td>\n",
       "    </tr>\n",
       "    <tr>\n",
       "      <th>2</th>\n",
       "      <td>1957–58</td>\n",
       "      <td>Spain</td>\n",
       "      <td>Real Madrid</td>\n",
       "      <td>3–2</td>\n",
       "      <td>AC Milan</td>\n",
       "      <td>Italy</td>\n",
       "      <td>Heysel Stadium, Brussels, Belgium</td>\n",
       "      <td>67000.0</td>\n",
       "    </tr>\n",
       "    <tr>\n",
       "      <th>3</th>\n",
       "      <td>1958–59</td>\n",
       "      <td>Spain</td>\n",
       "      <td>Real Madrid</td>\n",
       "      <td>2–0</td>\n",
       "      <td>Reims</td>\n",
       "      <td>France</td>\n",
       "      <td>Neckarstadion, Stuttgart, West Germany</td>\n",
       "      <td>72000.0</td>\n",
       "    </tr>\n",
       "    <tr>\n",
       "      <th>4</th>\n",
       "      <td>1959–60</td>\n",
       "      <td>Spain</td>\n",
       "      <td>Real Madrid</td>\n",
       "      <td>7–3</td>\n",
       "      <td>Eintracht Frankfurt</td>\n",
       "      <td>West Germany</td>\n",
       "      <td>Hampden Park, Glasgow, Scotland</td>\n",
       "      <td>127621.0</td>\n",
       "    </tr>\n",
       "  </tbody>\n",
       "</table>\n",
       "</div>"
      ],
      "text/plain": [
       "    Season Winner Country      Winners Score           Runners-up  \\\n",
       "0  1955–56          Spain  Real Madrid   4–3                Reims   \n",
       "1  1956–57          Spain  Real Madrid   2–0           Fiorentina   \n",
       "2  1957–58          Spain  Real Madrid   3–2             AC Milan   \n",
       "3  1958–59          Spain  Real Madrid   2–0                Reims   \n",
       "4  1959–60          Spain  Real Madrid   7–3  Eintracht Frankfurt   \n",
       "\n",
       "  Runners-Up Country                                   Venue  Attendance  \n",
       "0             France         Parc des Princes, Paris, France     38239.0  \n",
       "1              Italy        Santiago Bernabéu, Madrid, Spain    124000.0  \n",
       "2              Italy       Heysel Stadium, Brussels, Belgium     67000.0  \n",
       "3             France  Neckarstadion, Stuttgart, West Germany     72000.0  \n",
       "4       West Germany         Hampden Park, Glasgow, Scotland    127621.0  "
      ]
     },
     "execution_count": 115,
     "metadata": {},
     "output_type": "execute_result"
    }
   ],
   "source": [
    "finals.head()"
   ]
  },
  {
   "cell_type": "code",
   "execution_count": 120,
   "metadata": {},
   "outputs": [
    {
     "name": "stdout",
     "output_type": "stream",
     "text": [
      "    Season  StartYear  Decade\n",
      "0  1955–56       1955    1950\n",
      "1  1956–57       1956    1950\n",
      "2  1957–58       1957    1950\n",
      "3  1958–59       1958    1950\n",
      "4  1959–60       1959    1950\n"
     ]
    }
   ],
   "source": [
    "# Extract the starting year from the 'Season' column\n",
    "finals['StartYear'] = finals['Season'].str.split('–').str[0].astype(int)\n",
    "\n",
    "# Calculate the decade\n",
    "finals['Decade'] = finals['StartYear'] // 10 * 10\n",
    "\n",
    "# Display the updated DataFrame with the Decade column\n",
    "print(finals[['Season', 'StartYear', 'Decade']].head())\n"
   ]
  }
 ],
 "metadata": {
  "kernelspec": {
   "display_name": "Python 3",
   "language": "python",
   "name": "python3"
  },
  "language_info": {
   "codemirror_mode": {
    "name": "ipython",
    "version": 3
   },
   "file_extension": ".py",
   "mimetype": "text/x-python",
   "name": "python",
   "nbconvert_exporter": "python",
   "pygments_lexer": "ipython3",
   "version": "3.12.3"
  }
 },
 "nbformat": 4,
 "nbformat_minor": 2
}
